{
 "cells": [
  {
   "cell_type": "markdown",
   "metadata": {
    "id": "wFIV8Pu59yCt"
   },
   "source": [
    "# importing library"
   ]
  },
  {
   "cell_type": "code",
   "execution_count": 2,
   "metadata": {
    "colab": {
     "base_uri": "https://localhost:8080/"
    },
    "executionInfo": {
     "elapsed": 203442,
     "status": "ok",
     "timestamp": 1638367353728,
     "user": {
      "displayName": "Folayan Tobi",
      "photoUrl": "https://lh3.googleusercontent.com/a/default-user=s64",
      "userId": "05490346036011816188"
     },
     "user_tz": -60
    },
    "id": "-i-GNvDX8Hat",
    "outputId": "c80b0bed-dc2f-4bb2-91d8-c658ec7e26db"
   },
   "outputs": [
    {
     "name": "stderr",
     "output_type": "stream",
     "text": [
      "Installing package into ‘/usr/local/lib/R/site-library’\n",
      "(as ‘lib’ is unspecified)\n",
      "\n",
      "Installing package into ‘/usr/local/lib/R/site-library’\n",
      "(as ‘lib’ is unspecified)\n",
      "\n",
      "Installing package into ‘/usr/local/lib/R/site-library’\n",
      "(as ‘lib’ is unspecified)\n",
      "\n",
      "Installing package into ‘/usr/local/lib/R/site-library’\n",
      "(as ‘lib’ is unspecified)\n",
      "\n",
      "Installing package into ‘/usr/local/lib/R/site-library’\n",
      "(as ‘lib’ is unspecified)\n",
      "\n",
      "Installing package into ‘/usr/local/lib/R/site-library’\n",
      "(as ‘lib’ is unspecified)\n",
      "\n",
      "Installing package into ‘/usr/local/lib/R/site-library’\n",
      "(as ‘lib’ is unspecified)\n",
      "\n",
      "Installing package into ‘/usr/local/lib/R/site-library’\n",
      "(as ‘lib’ is unspecified)\n",
      "\n",
      "Installing package into ‘/usr/local/lib/R/site-library’\n",
      "(as ‘lib’ is unspecified)\n",
      "\n",
      "Installing package into ‘/usr/local/lib/R/site-library’\n",
      "(as ‘lib’ is unspecified)\n",
      "\n",
      "Installing package into ‘/usr/local/lib/R/site-library’\n",
      "(as ‘lib’ is unspecified)\n",
      "\n",
      "Installing package into ‘/usr/local/lib/R/site-library’\n",
      "(as ‘lib’ is unspecified)\n",
      "\n",
      "Installing package into ‘/usr/local/lib/R/site-library’\n",
      "(as ‘lib’ is unspecified)\n",
      "\n",
      "Installing package into ‘/usr/local/lib/R/site-library’\n",
      "(as ‘lib’ is unspecified)\n",
      "\n",
      "Installing package into ‘/usr/local/lib/R/site-library’\n",
      "(as ‘lib’ is unspecified)\n",
      "\n",
      "Installing package into ‘/usr/local/lib/R/site-library’\n",
      "(as ‘lib’ is unspecified)\n",
      "\n",
      "Installing package into ‘/usr/local/lib/R/site-library’\n",
      "(as ‘lib’ is unspecified)\n",
      "\n",
      "Installing package into ‘/usr/local/lib/R/site-library’\n",
      "(as ‘lib’ is unspecified)\n",
      "\n",
      "Installing package into ‘/usr/local/lib/R/site-library’\n",
      "(as ‘lib’ is unspecified)\n",
      "\n"
     ]
    }
   ],
   "source": [
    "#installing necessary packages\n",
    "install.packages('twitteR')\n",
    "install.packages('ROAuth')\n",
    "install.packages('plyr')\n",
    "install.packages('dplyr')\n",
    "install.packages('stringr')\n",
    "install.packages('ggplot2')\n",
    "install.packages('httr')\n",
    "install.packages('wordcloud')\n",
    "install.packages('SnowballC')\n",
    "install.packages('RColorBrewer')\n",
    "install.packages('RCurl')\n",
    "install.packages('tm')\n",
    "install.packages(\"tidytext\")\n",
    "# load twitter library - the rtweet library is recommended now over twitteR\n",
    "install.packages('rtweet')\n",
    "install.packages('tidyr')\n",
    "install.packages('syuzhet')\n",
    "install.packages('lubridate')\n",
    "install.packages('scales')\n",
    "install.packages('reshape2')\n",
    "\n",
    "library(tidyr)\n",
    "library(tidytext)\n",
    "library(rtweet)\n",
    "library(twitteR)\n",
    "library(ROAuth)\n",
    "library(plyr)\n",
    "library(dplyr)\n",
    "library(stringr)\n",
    "library(ggplot2)\n",
    "library(httr)\n",
    "library(wordcloud)\n",
    "library(SnowballC)\n",
    "library(RColorBrewer)\n",
    "#library(sentiment)\n",
    "library(RCurl)\n",
    "library(tm)\n",
    "library(twitteR)\n",
    "# library(tidyr)\n",
    "\n"
   ]
  },
  {
   "cell_type": "code",
   "execution_count": null,
   "metadata": {
    "id": "v_sT0ybT9G-O"
   },
   "outputs": [],
   "source": []
  },
  {
   "cell_type": "markdown",
   "metadata": {
    "id": "Xs_2x2WG9Hk5"
   },
   "source": [
    "# Importing Data"
   ]
  },
  {
   "cell_type": "code",
   "execution_count": 3,
   "metadata": {
    "colab": {
     "base_uri": "https://localhost:8080/",
     "height": 533
    },
    "executionInfo": {
     "elapsed": 21,
     "status": "ok",
     "timestamp": 1638367353731,
     "user": {
      "displayName": "Folayan Tobi",
      "photoUrl": "https://lh3.googleusercontent.com/a/default-user=s64",
      "userId": "05490346036011816188"
     },
     "user_tz": -60
    },
    "id": "3XYsPDXy9p5B",
    "outputId": "e049996f-7ca9-4645-d3c1-11620601cc50"
   },
   "outputs": [
    {
     "data": {
      "text/html": [
       "<table class=\"dataframe\">\n",
       "<caption>A data.frame: 3 × 10</caption>\n",
       "<thead>\n",
       "\t<tr><th></th><th scope=col>X</th><th scope=col>url</th><th scope=col>date</th><th scope=col>content</th><th scope=col>id</th><th scope=col>username</th><th scope=col>outlinks</th><th scope=col>outlinksss</th><th scope=col>tcooutlinks</th><th scope=col>tcooutlinksss</th></tr>\n",
       "\t<tr><th></th><th scope=col>&lt;int&gt;</th><th scope=col>&lt;chr&gt;</th><th scope=col>&lt;chr&gt;</th><th scope=col>&lt;chr&gt;</th><th scope=col>&lt;dbl&gt;</th><th scope=col>&lt;chr&gt;</th><th scope=col>&lt;chr&gt;</th><th scope=col>&lt;chr&gt;</th><th scope=col>&lt;chr&gt;</th><th scope=col>&lt;chr&gt;</th></tr>\n",
       "</thead>\n",
       "<tbody>\n",
       "\t<tr><th scope=row>1</th><td>0</td><td>https://twitter.com/urshawmoore/status/1221862871518404608</td><td>2020-01-27 18:29:44+00:00</td><td>@PoliceNG just visited the soloki police station &amp;amp; I have just been told he has been taken to Ikeja. How would someone stand in front of his own office (he owns the company) and be whisked away? Cc @segalink #EndSars</td><td>1.221863e+18</td><td>urshawmoore</td><td><span style=white-space:pre-wrap>[]                                                             </span></td><td><span style=white-space:pre-wrap>                                                           </span></td><td><span style=white-space:pre-wrap>[]                         </span></td><td><span style=white-space:pre-wrap>                       </span></td></tr>\n",
       "\t<tr><th scope=row>2</th><td>1</td><td>https://twitter.com/pacesetterz/status/1221852655900930050</td><td>2020-01-27 17:49:08+00:00</td><td>what if Tacha joins Sega in d #EndSars program ? yall wil change ur mind abi ? hypocrites \n",
       "#SubscribeToTachaYoutube\n",
       "\n",
       "#InspiredByTacha                                                                                    </td><td>1.221853e+18</td><td>pacesetterz</td><td>[]                                                             </td><td>                                                           </td><td>[]                         </td><td>                       </td></tr>\n",
       "\t<tr><th scope=row>3</th><td>2</td><td>https://twitter.com/HaykayMIT/status/1221835962961055744  </td><td>2020-01-27 16:42:48+00:00</td><td>How do we quantify the number of lives he has saved through #EndSARS campaign?. I can only wish for more of him in our society. https://t.co/KBbapT8dyd                                                                     </td><td>1.221836e+18</td><td>HaykayMIT  </td><td>['https://twitter.com/macaanigeria/status/1221745942694637570']</td><td>https://twitter.com/macaanigeria/status/1221745942694637570</td><td>['https://t.co/KBbapT8dyd']</td><td>https://t.co/KBbapT8dyd</td></tr>\n",
       "</tbody>\n",
       "</table>\n"
      ],
      "text/latex": [
       "A data.frame: 3 × 10\n",
       "\\begin{tabular}{r|llllllllll}\n",
       "  & X & url & date & content & id & username & outlinks & outlinksss & tcooutlinks & tcooutlinksss\\\\\n",
       "  & <int> & <chr> & <chr> & <chr> & <dbl> & <chr> & <chr> & <chr> & <chr> & <chr>\\\\\n",
       "\\hline\n",
       "\t1 & 0 & https://twitter.com/urshawmoore/status/1221862871518404608 & 2020-01-27 18:29:44+00:00 & @PoliceNG just visited the soloki police station \\&amp; I have just been told he has been taken to Ikeja. How would someone stand in front of his own office (he owns the company) and be whisked away? Cc @segalink \\#EndSars & 1.221863e+18 & urshawmoore & {[}{]}                                                              &                                                             & {[}{]}                          &                        \\\\\n",
       "\t2 & 1 & https://twitter.com/pacesetterz/status/1221852655900930050 & 2020-01-27 17:49:08+00:00 & what if Tacha joins Sega in d \\#EndSars program ? yall wil change ur mind abi ? hypocrites \n",
       "\\#SubscribeToTachaYoutube\n",
       "\n",
       "\\#InspiredByTacha                                                                                     & 1.221853e+18 & pacesetterz & {[}{]}                                                              &                                                             & {[}{]}                          &                        \\\\\n",
       "\t3 & 2 & https://twitter.com/HaykayMIT/status/1221835962961055744   & 2020-01-27 16:42:48+00:00 & How do we quantify the number of lives he has saved through \\#EndSARS campaign?. I can only wish for more of him in our society. https://t.co/KBbapT8dyd                                                                      & 1.221836e+18 & HaykayMIT   & {[}'https://twitter.com/macaanigeria/status/1221745942694637570'{]} & https://twitter.com/macaanigeria/status/1221745942694637570 & {[}'https://t.co/KBbapT8dyd'{]} & https://t.co/KBbapT8dyd\\\\\n",
       "\\end{tabular}\n"
      ],
      "text/markdown": [
       "\n",
       "A data.frame: 3 × 10\n",
       "\n",
       "| <!--/--> | X &lt;int&gt; | url &lt;chr&gt; | date &lt;chr&gt; | content &lt;chr&gt; | id &lt;dbl&gt; | username &lt;chr&gt; | outlinks &lt;chr&gt; | outlinksss &lt;chr&gt; | tcooutlinks &lt;chr&gt; | tcooutlinksss &lt;chr&gt; |\n",
       "|---|---|---|---|---|---|---|---|---|---|---|\n",
       "| 1 | 0 | https://twitter.com/urshawmoore/status/1221862871518404608 | 2020-01-27 18:29:44+00:00 | @PoliceNG just visited the soloki police station &amp;amp; I have just been told he has been taken to Ikeja. How would someone stand in front of his own office (he owns the company) and be whisked away? Cc @segalink #EndSars | 1.221863e+18 | urshawmoore | []                                                              | <!----> | []                          | <!----> |\n",
       "| 2 | 1 | https://twitter.com/pacesetterz/status/1221852655900930050 | 2020-01-27 17:49:08+00:00 | what if Tacha joins Sega in d #EndSars program ? yall wil change ur mind abi ? hypocrites \n",
       "#SubscribeToTachaYoutube\n",
       "\n",
       "#InspiredByTacha                                                                                     | 1.221853e+18 | pacesetterz | []                                                              | <!----> | []                          | <!----> |\n",
       "| 3 | 2 | https://twitter.com/HaykayMIT/status/1221835962961055744   | 2020-01-27 16:42:48+00:00 | How do we quantify the number of lives he has saved through #EndSARS campaign?. I can only wish for more of him in our society. https://t.co/KBbapT8dyd                                                                      | 1.221836e+18 | HaykayMIT   | ['https://twitter.com/macaanigeria/status/1221745942694637570'] | https://twitter.com/macaanigeria/status/1221745942694637570 | ['https://t.co/KBbapT8dyd'] | https://t.co/KBbapT8dyd |\n",
       "\n"
      ],
      "text/plain": [
       "  X url                                                       \n",
       "1 0 https://twitter.com/urshawmoore/status/1221862871518404608\n",
       "2 1 https://twitter.com/pacesetterz/status/1221852655900930050\n",
       "3 2 https://twitter.com/HaykayMIT/status/1221835962961055744  \n",
       "  date                     \n",
       "1 2020-01-27 18:29:44+00:00\n",
       "2 2020-01-27 17:49:08+00:00\n",
       "3 2020-01-27 16:42:48+00:00\n",
       "  content                                                                                                                                                                                                                     \n",
       "1 @PoliceNG just visited the soloki police station &amp; I have just been told he has been taken to Ikeja. How would someone stand in front of his own office (he owns the company) and be whisked away? Cc @segalink #EndSars\n",
       "2 what if Tacha joins Sega in d #EndSars program ? yall wil change ur mind abi ? hypocrites \\n#SubscribeToTachaYoutube\\n\\n#InspiredByTacha                                                                                    \n",
       "3 How do we quantify the number of lives he has saved through #EndSARS campaign?. I can only wish for more of him in our society. https://t.co/KBbapT8dyd                                                                     \n",
       "  id           username   \n",
       "1 1.221863e+18 urshawmoore\n",
       "2 1.221853e+18 pacesetterz\n",
       "3 1.221836e+18 HaykayMIT  \n",
       "  outlinks                                                       \n",
       "1 []                                                             \n",
       "2 []                                                             \n",
       "3 ['https://twitter.com/macaanigeria/status/1221745942694637570']\n",
       "  outlinksss                                                 \n",
       "1                                                            \n",
       "2                                                            \n",
       "3 https://twitter.com/macaanigeria/status/1221745942694637570\n",
       "  tcooutlinks                 tcooutlinksss          \n",
       "1 []                                                 \n",
       "2 []                                                 \n",
       "3 ['https://t.co/KBbapT8dyd'] https://t.co/KBbapT8dyd"
      ]
     },
     "metadata": {},
     "output_type": "display_data"
    }
   ],
   "source": [
    "endsars2020 <- read.csv(\"endsars_2020.csv\")\n",
    "\n",
    "head(endsars2020,3)\n"
   ]
  },
  {
   "cell_type": "code",
   "execution_count": null,
   "metadata": {
    "id": "uUlQ5NIs45kr"
   },
   "outputs": [],
   "source": []
  },
  {
   "cell_type": "markdown",
   "metadata": {
    "id": "-G5IZF0y47G7"
   },
   "source": [
    "# Text Cleaning"
   ]
  },
  {
   "cell_type": "code",
   "execution_count": 4,
   "metadata": {
    "colab": {
     "base_uri": "https://localhost:8080/"
    },
    "executionInfo": {
     "elapsed": 28,
     "status": "ok",
     "timestamp": 1638367424843,
     "user": {
      "displayName": "Folayan Tobi",
      "photoUrl": "https://lh3.googleusercontent.com/a/default-user=s64",
      "userId": "05490346036011816188"
     },
     "user_tz": -60
    },
    "id": "vHRlgQrS96qh",
    "outputId": "7f4b7026-ab35-4078-a3db-3f4016a476eb"
   },
   "outputs": [
    {
     "name": "stderr",
     "output_type": "stream",
     "text": [
      "Warning message in tm_map.SimpleCorpus(corpus2020, PlainTextDocument):\n",
      "“transformation drops documents”\n",
      "Warning message in tm_map.SimpleCorpus(corpus2020, tolower):\n",
      "“transformation drops documents”\n",
      "Warning message in tm_map.SimpleCorpus(corpus2020, removePunctuation):\n",
      "“transformation drops documents”\n",
      "Warning message in tm_map.SimpleCorpus(corpus2020, removeNumbers):\n",
      "“transformation drops documents”\n",
      "Warning message in tm_map.SimpleCorpus(corpus2020, removeWords, stopwords(\"english\")):\n",
      "“transformation drops documents”\n",
      "Warning message in tm_map.SimpleCorpus(cleanset2020, stemDocument):\n",
      "“transformation drops documents”\n",
      "Warning message in tm_map.SimpleCorpus(cleanset2020, content_transformer(removeURL2020)):\n",
      "“transformation drops documents”\n",
      "Warning message in tm_map.SimpleCorpus(cleanset2020, removeWords, c(\"rt\")):\n",
      "“transformation drops documents”\n"
     ]
    },
    {
     "name": "stdout",
     "output_type": "stream",
     "text": [
      "<<SimpleCorpus>>\n",
      "Metadata:  corpus specific: 1, document level (indexed): 0\n",
      "Content:  documents: 5\n",
      "\n",
      "[1] just visit soloki polic station amp just told taken ikeja someon stand front offic own compani whisk away cc endsar                                        \n",
      "[2] tacha join sega d endsar program yall wil chang ur mind abi hypocrit                                                                                       \n",
      "[3] quantifi number live save endsar campaign can wish societi                                                                                                 \n",
      "[4] forget eye servic portion mourner god forbid justiceforchima trend endsar trend twitter truth cant satisfi everyon let learn live let live word live n judg\n",
      "[5] get readi show naijamusicfiesta                                                                                                                            \n"
     ]
    }
   ],
   "source": [
    "#working on endsars2020\n",
    "corpus2020<- iconv(endsars2020$content)\n",
    "#remove retweets\n",
    "corpus2020<- gsub(\"(RT|via)((?:\\\\b\\\\w*@\\\\w+)+)\",\" \",corpus2020)\n",
    "#remove people\n",
    "corpus2020<- gsub(\"@\\\\w+\",\" \",corpus2020)\n",
    "corpus2020<- gsub(\"\\n.*\",\" \",corpus2020)\n",
    "\n",
    "######creating a corpus###############\n",
    "corpus2020<- Corpus(VectorSource(corpus2020))\n",
    "corpus2020<- tm_map(corpus2020,PlainTextDocument)\n",
    "# inspect(corpus2020[1:5])\n",
    "################cleaning text#####################\n",
    "corpus2020<-tm_map(corpus2020,tolower)\n",
    "#inspect(corpus2020[1:5])\n",
    "corpus2020<-tm_map(corpus2020,removePunctuation)\n",
    "corpus2020<-tm_map(corpus2020,removeNumbers)\n",
    "\n",
    "cleanset2020<- tm_map(corpus2020, removeWords,stopwords('english'))\n",
    "cleanset2020<- tm_map(cleanset2020,stemDocument)\n",
    "#inspect(cleanset2020[1:5])\n",
    "removeURL2020 <- function(x) gsub('http[[:alnum:]]*','',x)\n",
    "cleanset2020<- tm_map(cleanset2020,content_transformer(removeURL2020))\n",
    "cleanset2020<- tm_map(cleanset2020,removeWords,c('rt'))\n",
    "#cleanset<- tm_map(cleanset, gsub,\n",
    " #                 pattern ='…',\n",
    "  #                replace = '')\n",
    "inspect(cleanset2020[1:5])"
   ]
  },
  {
   "cell_type": "code",
   "execution_count": 11,
   "metadata": {
    "executionInfo": {
     "elapsed": 21118,
     "status": "ok",
     "timestamp": 1638367789913,
     "user": {
      "displayName": "Folayan Tobi",
      "photoUrl": "https://lh3.googleusercontent.com/a/default-user=s64",
      "userId": "05490346036011816188"
     },
     "user_tz": -60
    },
    "id": "xuNMD4uB-WsF"
   },
   "outputs": [],
   "source": [
    "###########Term document matrix##########\n",
    "tdm2020<- TermDocumentMatrix(cleanset2020)\n",
    "# tdm2020\n",
    "tdm2020<- as.matrix(tdm2020)\n",
    "# tdm2020<- as.matrix(tdm2020)\n",
    "\n",
    "freq2020<-rowSums(tdm2020)\n",
    "# freq2020\n",
    "\n",
    "freq2020<-subset(freq2020,freq2020>=300)"
   ]
  },
  {
   "cell_type": "markdown",
   "metadata": {
    "id": "pZuA0TIS4tbG"
   },
   "source": [
    "# Frequent Word Count"
   ]
  },
  {
   "cell_type": "code",
   "execution_count": 12,
   "metadata": {
    "colab": {
     "base_uri": "https://localhost:8080/",
     "height": 34
    },
    "executionInfo": {
     "elapsed": 16,
     "status": "ok",
     "timestamp": 1638367791461,
     "user": {
      "displayName": "Folayan Tobi",
      "photoUrl": "https://lh3.googleusercontent.com/a/default-user=s64",
      "userId": "05490346036011816188"
     },
     "user_tz": -60
    },
    "id": "fk6zeHiXsex8",
    "outputId": "5d77c8e8-0f51-49ed-8567-8a8dc2372c94"
   },
   "outputs": [
    {
     "data": {
      "text/html": [
       "<strong>png:</strong> 2"
      ],
      "text/latex": [
       "\\textbf{png:} 2"
      ],
      "text/markdown": [
       "**png:** 2"
      ],
      "text/plain": [
       "png \n",
       "  2 "
      ]
     },
     "metadata": {},
     "output_type": "display_data"
    }
   ],
   "source": [
    "#########Bar plot########\n",
    "\n",
    "\n",
    "png(\"word_count2020.png\", width = 700, height = 350)\n",
    "\n",
    "barplot(freq2020,\n",
    "        las = 2,\n",
    "        col = rainbow(30), ylab = 'tweet frequency')\n",
    "\n",
    "dev.off()"
   ]
  },
  {
   "cell_type": "code",
   "execution_count": null,
   "metadata": {
    "id": "6iEJ0t7l4Ut1"
   },
   "outputs": [],
   "source": []
  },
  {
   "cell_type": "markdown",
   "metadata": {
    "id": "wKPYsDSz4VjP"
   },
   "source": [
    "# Sentiment Score"
   ]
  },
  {
   "cell_type": "code",
   "execution_count": 13,
   "metadata": {
    "colab": {
     "base_uri": "https://localhost:8080/",
     "height": 782
    },
    "executionInfo": {
     "elapsed": 142064,
     "status": "ok",
     "timestamp": 1638368032807,
     "user": {
      "displayName": "Folayan Tobi",
      "photoUrl": "https://lh3.googleusercontent.com/a/default-user=s64",
      "userId": "05490346036011816188"
     },
     "user_tz": -60
    },
    "id": "xe0bFHq0-kSy",
    "outputId": "0b1e34dc-ac70-415e-fbe8-3ee52e5463ba"
   },
   "outputs": [
    {
     "name": "stderr",
     "output_type": "stream",
     "text": [
      "Installing package into ‘/usr/local/lib/R/site-library’\n",
      "(as ‘lib’ is unspecified)\n",
      "\n",
      "also installing the dependency ‘htmlwidgets’\n",
      "\n",
      "\n",
      "\n",
      "Attaching package: ‘syuzhet’\n",
      "\n",
      "\n",
      "The following object is masked from ‘package:rtweet’:\n",
      "\n",
      "    get_tokens\n",
      "\n",
      "\n",
      "Warning message in system(\"timedatectl\", intern = TRUE):\n",
      "“running command 'timedatectl' had status 1”\n",
      "\n",
      "Attaching package: ‘lubridate’\n",
      "\n",
      "\n",
      "The following objects are masked from ‘package:base’:\n",
      "\n",
      "    date, intersect, setdiff, union\n",
      "\n",
      "\n",
      "\n",
      "Attaching package: ‘scales’\n",
      "\n",
      "\n",
      "The following object is masked from ‘package:syuzhet’:\n",
      "\n",
      "    rescale\n",
      "\n",
      "\n",
      "\n",
      "Attaching package: ‘reshape2’\n",
      "\n",
      "\n",
      "The following object is masked from ‘package:tidyr’:\n",
      "\n",
      "    smiths\n",
      "\n",
      "\n"
     ]
    },
    {
     "data": {
      "text/html": [
       "<strong>png:</strong> 2"
      ],
      "text/latex": [
       "\\textbf{png:} 2"
      ],
      "text/markdown": [
       "**png:** 2"
      ],
      "text/plain": [
       "png \n",
       "  2 "
      ]
     },
     "metadata": {},
     "output_type": "display_data"
    }
   ],
   "source": [
    "\n",
    "install.packages('wordcloud2')\n",
    "library(wordcloud2)\n",
    "library(syuzhet)\n",
    "library(lubridate)\n",
    "library(scales)\n",
    "library(reshape2)\n",
    "tweets2020 <- iconv(endsars2020$content)\n",
    "sent2020 <- get_nrc_sentiment(tweets2020)\n",
    "\n",
    "\n",
    "#########Bar plot########\n",
    "\n",
    "\n",
    "png(\"sent_score2020.png\", width = 650, height = 350)\n",
    "\n",
    "barplot(colSums(sent2020),\n",
    "        las = 2,\n",
    "        col = rainbow(20),\n",
    "        ylab = 'Count',\n",
    "        main = 'ENDSARS SENTIMENT SCORES FOR 2020')\n",
    "\n",
    "dev.off()"
   ]
  },
  {
   "cell_type": "code",
   "execution_count": 14,
   "metadata": {
    "executionInfo": {
     "elapsed": 15,
     "status": "ok",
     "timestamp": 1638368032809,
     "user": {
      "displayName": "Folayan Tobi",
      "photoUrl": "https://lh3.googleusercontent.com/a/default-user=s64",
      "userId": "05490346036011816188"
     },
     "user_tz": -60
    },
    "id": "g5yLEKXc4Bji"
   },
   "outputs": [],
   "source": []
  },
  {
   "cell_type": "markdown",
   "metadata": {
    "id": "BKO6S7Ui4HAo"
   },
   "source": [
    "# Word Cloud"
   ]
  },
  {
   "cell_type": "code",
   "execution_count": 17,
   "metadata": {
    "colab": {
     "base_uri": "https://localhost:8080/"
    },
    "executionInfo": {
     "elapsed": 23777,
     "status": "ok",
     "timestamp": 1638368404392,
     "user": {
      "displayName": "Folayan Tobi",
      "photoUrl": "https://lh3.googleusercontent.com/a/default-user=s64",
      "userId": "05490346036011816188"
     },
     "user_tz": -60
    },
    "id": "O3H-YmyOImjT",
    "outputId": "6237344e-8f35-42ed-af2a-714510942d5d"
   },
   "outputs": [
    {
     "name": "stderr",
     "output_type": "stream",
     "text": [
      "Installing package into ‘/usr/local/lib/R/site-library’\n",
      "(as ‘lib’ is unspecified)\n",
      "\n",
      "Installing package into ‘/usr/local/lib/R/site-library’\n",
      "(as ‘lib’ is unspecified)\n",
      "\n",
      "It seems that the version of `phantomjs` installed is greater than or equal to the requested version.To install the requested version or downgrade to another version, use `force = TRUE`.\n",
      "\n"
     ]
    }
   ],
   "source": [
    "install.packages('webshot')\n",
    "install.packages(\"htmlwidgets\")\n",
    "library(webshot)\n",
    "webshot::install_phantomjs()\n",
    "\n",
    "\n",
    "w2020 <- sort(rowSums(tdm2020), decreasing = TRUE)\n",
    "# head(w2020)\n",
    "\n",
    "w2020 <- data.frame(names(w2020), w2020)\n",
    "w2020 <- filter(w2020, w2020 >= 300)\n",
    "# head(w2020)\n",
    "\n",
    "colnames(w2020) <- c('word','freq')\n",
    "# head(w2020)\n",
    "\n",
    "cloud20 <- wordcloud2(w2020, shape='circle',size = 3.0,color='random-dark',backgroundColor = \"black\")\n",
    "\n",
    "library(htmlwidgets)\n",
    "saveWidget(cloud20,\"tmp.html\", selfcontained=F)\n",
    "\n",
    "webshot(\"tmp.html\" , \"cloud20.png\", delay=5, vwidth=480, vheight=480)"
   ]
  },
  {
   "cell_type": "code",
   "execution_count": null,
   "metadata": {
    "id": "RE_hwtw4YXkB"
   },
   "outputs": [],
   "source": []
  }
 ],
 "metadata": {
  "colab": {
   "authorship_tag": "ABX9TyMf0aDhuw67mzvSWEIGNNMA",
   "collapsed_sections": [],
   "name": "EDA_R_2020.ipynb",
   "provenance": [
    {
     "file_id": "1vJMGpwj9smlwB6DVyc78nzDhoSbox1pZ",
     "timestamp": 1638362093373
    },
    {
     "file_id": "1lZVy9oL8UNuqqrIvZNlxKe20id2mh-9Q",
     "timestamp": 1638362081050
    }
   ]
  },
  "kernelspec": {
   "display_name": "R",
   "language": "R",
   "name": "ir"
  },
  "language_info": {
   "name": "R"
  }
 },
 "nbformat": 4,
 "nbformat_minor": 1
}

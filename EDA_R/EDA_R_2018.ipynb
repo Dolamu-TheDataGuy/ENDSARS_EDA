{
 "cells": [
  {
   "cell_type": "markdown",
   "metadata": {
    "id": "wFIV8Pu59yCt"
   },
   "source": [
    "# importing library"
   ]
  },
  {
   "cell_type": "code",
   "execution_count": 1,
   "metadata": {
    "colab": {
     "base_uri": "https://localhost:8080/"
    },
    "executionInfo": {
     "elapsed": 443659,
     "status": "ok",
     "timestamp": 1638363932851,
     "user": {
      "displayName": "Folayan Tobi",
      "photoUrl": "https://lh3.googleusercontent.com/a/default-user=s64",
      "userId": "05490346036011816188"
     },
     "user_tz": -60
    },
    "id": "-i-GNvDX8Hat",
    "outputId": "69197e74-e4c4-4ff1-e536-1ea01fea24e4"
   },
   "outputs": [
    {
     "name": "stderr",
     "output_type": "stream",
     "text": [
      "Installing package into ‘/usr/local/lib/R/site-library’\n",
      "(as ‘lib’ is unspecified)\n",
      "\n",
      "also installing the dependency ‘rjson’\n",
      "\n",
      "\n",
      "Installing package into ‘/usr/local/lib/R/site-library’\n",
      "(as ‘lib’ is unspecified)\n",
      "\n",
      "also installing the dependencies ‘bitops’, ‘RCurl’\n",
      "\n",
      "\n",
      "Installing package into ‘/usr/local/lib/R/site-library’\n",
      "(as ‘lib’ is unspecified)\n",
      "\n",
      "Installing package into ‘/usr/local/lib/R/site-library’\n",
      "(as ‘lib’ is unspecified)\n",
      "\n",
      "Installing package into ‘/usr/local/lib/R/site-library’\n",
      "(as ‘lib’ is unspecified)\n",
      "\n",
      "Installing package into ‘/usr/local/lib/R/site-library’\n",
      "(as ‘lib’ is unspecified)\n",
      "\n",
      "Installing package into ‘/usr/local/lib/R/site-library’\n",
      "(as ‘lib’ is unspecified)\n",
      "\n",
      "Installing package into ‘/usr/local/lib/R/site-library’\n",
      "(as ‘lib’ is unspecified)\n",
      "\n",
      "Installing package into ‘/usr/local/lib/R/site-library’\n",
      "(as ‘lib’ is unspecified)\n",
      "\n",
      "Installing package into ‘/usr/local/lib/R/site-library’\n",
      "(as ‘lib’ is unspecified)\n",
      "\n",
      "Installing package into ‘/usr/local/lib/R/site-library’\n",
      "(as ‘lib’ is unspecified)\n",
      "\n",
      "Installing package into ‘/usr/local/lib/R/site-library’\n",
      "(as ‘lib’ is unspecified)\n",
      "\n",
      "also installing the dependencies ‘NLP’, ‘slam’, ‘BH’\n",
      "\n",
      "\n",
      "Installing package into ‘/usr/local/lib/R/site-library’\n",
      "(as ‘lib’ is unspecified)\n",
      "\n",
      "also installing the dependencies ‘hunspell’, ‘janeaustenr’, ‘tokenizers’\n",
      "\n",
      "\n",
      "Installing package into ‘/usr/local/lib/R/site-library’\n",
      "(as ‘lib’ is unspecified)\n",
      "\n",
      "also installing the dependencies ‘promises’, ‘later’, ‘httpuv’\n",
      "\n",
      "\n",
      "Installing package into ‘/usr/local/lib/R/site-library’\n",
      "(as ‘lib’ is unspecified)\n",
      "\n",
      "Installing package into ‘/usr/local/lib/R/site-library’\n",
      "(as ‘lib’ is unspecified)\n",
      "\n",
      "also installing the dependencies ‘textshape’, ‘zoo’, ‘dtt’\n",
      "\n",
      "\n",
      "Installing package into ‘/usr/local/lib/R/site-library’\n",
      "(as ‘lib’ is unspecified)\n",
      "\n",
      "Installing package into ‘/usr/local/lib/R/site-library’\n",
      "(as ‘lib’ is unspecified)\n",
      "\n",
      "Installing package into ‘/usr/local/lib/R/site-library’\n",
      "(as ‘lib’ is unspecified)\n",
      "\n",
      "\n",
      "Attaching package: ‘twitteR’\n",
      "\n",
      "\n",
      "The following object is masked from ‘package:rtweet’:\n",
      "\n",
      "    lookup_statuses\n",
      "\n",
      "\n",
      "\n",
      "Attaching package: ‘plyr’\n",
      "\n",
      "\n",
      "The following object is masked from ‘package:twitteR’:\n",
      "\n",
      "    id\n",
      "\n",
      "\n",
      "\n",
      "Attaching package: ‘dplyr’\n",
      "\n",
      "\n",
      "The following objects are masked from ‘package:plyr’:\n",
      "\n",
      "    arrange, count, desc, failwith, id, mutate, rename, summarise,\n",
      "    summarize\n",
      "\n",
      "\n",
      "The following objects are masked from ‘package:twitteR’:\n",
      "\n",
      "    id, location\n",
      "\n",
      "\n",
      "The following objects are masked from ‘package:stats’:\n",
      "\n",
      "    filter, lag\n",
      "\n",
      "\n",
      "The following objects are masked from ‘package:base’:\n",
      "\n",
      "    intersect, setdiff, setequal, union\n",
      "\n",
      "\n",
      "Loading required package: RColorBrewer\n",
      "\n",
      "\n",
      "Attaching package: ‘RCurl’\n",
      "\n",
      "\n",
      "The following object is masked from ‘package:tidyr’:\n",
      "\n",
      "    complete\n",
      "\n",
      "\n",
      "Loading required package: NLP\n",
      "\n",
      "\n",
      "Attaching package: ‘NLP’\n",
      "\n",
      "\n",
      "The following object is masked from ‘package:httr’:\n",
      "\n",
      "    content\n",
      "\n",
      "\n",
      "The following object is masked from ‘package:ggplot2’:\n",
      "\n",
      "    annotate\n",
      "\n",
      "\n"
     ]
    }
   ],
   "source": [
    "#installing necessary packages\n",
    "install.packages('twitteR')\n",
    "install.packages('ROAuth')\n",
    "install.packages('plyr')\n",
    "install.packages('dplyr')\n",
    "install.packages('stringr')\n",
    "install.packages('ggplot2')\n",
    "install.packages('httr')\n",
    "install.packages('wordcloud')\n",
    "install.packages('SnowballC')\n",
    "install.packages('RColorBrewer')\n",
    "install.packages('RCurl')\n",
    "install.packages('tm')\n",
    "install.packages(\"tidytext\")\n",
    "# load twitter library - the rtweet library is recommended now over twitteR\n",
    "install.packages('rtweet')\n",
    "install.packages('tidyr')\n",
    "install.packages('syuzhet')\n",
    "install.packages('lubridate')\n",
    "install.packages('scales')\n",
    "install.packages('reshape2')\n",
    "\n",
    "library(tidyr)\n",
    "library(tidytext)\n",
    "library(rtweet)\n",
    "library(twitteR)\n",
    "library(ROAuth)\n",
    "library(plyr)\n",
    "library(dplyr)\n",
    "library(stringr)\n",
    "library(ggplot2)\n",
    "library(httr)\n",
    "library(wordcloud)\n",
    "library(SnowballC)\n",
    "library(RColorBrewer)\n",
    "#library(sentiment)\n",
    "library(RCurl)\n",
    "library(tm)\n",
    "library(twitteR)\n",
    "# library(tidyr)\n",
    "\n"
   ]
  },
  {
   "cell_type": "code",
   "execution_count": 2,
   "metadata": {
    "executionInfo": {
     "elapsed": 62,
     "status": "ok",
     "timestamp": 1638363932857,
     "user": {
      "displayName": "Folayan Tobi",
      "photoUrl": "https://lh3.googleusercontent.com/a/default-user=s64",
      "userId": "05490346036011816188"
     },
     "user_tz": -60
    },
    "id": "v_sT0ybT9G-O"
   },
   "outputs": [],
   "source": []
  },
  {
   "cell_type": "markdown",
   "metadata": {
    "id": "Xs_2x2WG9Hk5"
   },
   "source": [
    "# Importing Data"
   ]
  },
  {
   "cell_type": "code",
   "execution_count": 3,
   "metadata": {
    "colab": {
     "base_uri": "https://localhost:8080/",
     "height": 1000
    },
    "executionInfo": {
     "elapsed": 59,
     "status": "ok",
     "timestamp": 1638363932858,
     "user": {
      "displayName": "Folayan Tobi",
      "photoUrl": "https://lh3.googleusercontent.com/a/default-user=s64",
      "userId": "05490346036011816188"
     },
     "user_tz": -60
    },
    "id": "3XYsPDXy9p5B",
    "outputId": "54c10cd7-24a1-429e-d038-a0b9fb25a85a"
   },
   "outputs": [
    {
     "name": "stderr",
     "output_type": "stream",
     "text": [
      "Warning message in scan(file = file, what = what, sep = sep, quote = quote, dec = dec, :\n",
      "“EOF within quoted string”\n"
     ]
    },
    {
     "data": {
      "text/html": [
       "<table class=\"dataframe\">\n",
       "<caption>A data.frame: 3 × 24</caption>\n",
       "<thead>\n",
       "\t<tr><th></th><th scope=col>X</th><th scope=col>url</th><th scope=col>date</th><th scope=col>content</th><th scope=col>renderedContent</th><th scope=col>id</th><th scope=col>user</th><th scope=col>outlinks</th><th scope=col>tcooutlinks</th><th scope=col>replyCount</th><th scope=col>⋯</th><th scope=col>lang</th><th scope=col>source</th><th scope=col>sourceUrl</th><th scope=col>sourceLabel</th><th scope=col>media</th><th scope=col>retweetedTweet</th><th scope=col>quotedTweet</th><th scope=col>mentionedUsers</th><th scope=col>coordinates</th><th scope=col>place</th></tr>\n",
       "\t<tr><th></th><th scope=col>&lt;int&gt;</th><th scope=col>&lt;chr&gt;</th><th scope=col>&lt;chr&gt;</th><th scope=col>&lt;chr&gt;</th><th scope=col>&lt;chr&gt;</th><th scope=col>&lt;dbl&gt;</th><th scope=col>&lt;chr&gt;</th><th scope=col>&lt;chr&gt;</th><th scope=col>&lt;chr&gt;</th><th scope=col>&lt;int&gt;</th><th scope=col>⋯</th><th scope=col>&lt;chr&gt;</th><th scope=col>&lt;chr&gt;</th><th scope=col>&lt;chr&gt;</th><th scope=col>&lt;chr&gt;</th><th scope=col>&lt;chr&gt;</th><th scope=col>&lt;lgl&gt;</th><th scope=col>&lt;chr&gt;</th><th scope=col>&lt;chr&gt;</th><th scope=col>&lt;chr&gt;</th><th scope=col>&lt;chr&gt;</th></tr>\n",
       "</thead>\n",
       "<tbody>\n",
       "\t<tr><th scope=row>1</th><td>0</td><td><span style=white-space:pre-wrap>https://twitter.com/israelnigeria/status/957399388887724032  </span></td><td>2018-01-27 23:46:16+00:00</td><td>@segalink point of correction Sir they shoot always and i mean always because the government back them up. i go against this your post because so many innocent will DIE n the public will turn a blind eye and do was they do best rain curses on them #ENDSARS</td><td>@segalink point of correction Sir they shoot always and i mean always because the government back them up. i go against this your post because so many innocent will DIE n the public will turn a blind eye and do was they do best rain curses on them #ENDSARS</td><td>9.573994e+17</td><td><span style=white-space:pre-wrap>{'username': 'israelnigeria', 'displayname': 'kenneth igho', 'id': 869621049645780993, 'description': 'Am different', 'rawDescription': 'Am different', 'descriptionUrls': [], 'verified': False, 'created': datetime.datetime(2017, 5, 30, 18, 26, 29, tzinfo=datetime.timezone.utc), 'followersCount': 11, 'friendsCount': 430, 'statusesCount': 642, 'favouritesCount': 34, 'listedCount': 0, 'mediaCount': 12, 'location': '', 'protected': False, 'linkUrl': None, 'linkTcourl': None, 'profileImageUrl': 'https://abs.twimg.com/sticky/default_profile_images/default_profile_normal.png', 'profileBannerUrl': None}                                                                                                                                                                                                                                                                          </span></td><td>[]</td><td>[]</td><td>0</td><td>⋯</td><td>en</td><td><span style=white-space:pre-wrap>&lt;a href=\"http://twitter.com\" rel=\"nofollow\"&gt;Twitter Web Client&lt;/a&gt;     </span></td><td><span style=white-space:pre-wrap>http://twitter.com             </span></td><td>Twitter Web Client</td><td></td><td>NA</td><td></td><td><span style=white-space:pre-wrap>[{'username': 'segalink', 'displayname': \"SEGA L'éveilleur®🚨\", 'id': 14879097, 'description': None, 'rawDescription': None, 'descriptionUrls': None, 'verified': None, 'created': None, 'followersCount': None, 'friendsCount': None, 'statusesCount': None, 'favouritesCount': None, 'listedCount': None, 'mediaCount': None, 'location': None, 'protected': None, 'linkUrl': None, 'linkTcourl': None, 'profileImageUrl': None, 'profileBannerUrl': None}]                                                                                                                                                                                                                                                                                                                                                                                                                                                      </span></td><td></td><td></td></tr>\n",
       "\t<tr><th scope=row>2</th><td>1</td><td>https://twitter.com/calebzadokadiga/status/957398160023932930</td><td>2018-01-27 23:41:23+00:00</td><td><span style=white-space:pre-wrap>If indeed you believe in democracy of which you are a beneficiary, and you believe in the rule of law, #EndSARS                                                                                                                                                 </span></td><td><span style=white-space:pre-wrap>If indeed you believe in democracy of which you are a beneficiary, and you believe in the rule of law, #EndSARS                                                                                                                                                 </span></td><td>9.573982e+17</td><td>{'username': 'calebzadokadiga', 'displayname': 'Caleb Zadok', 'id': 587677600, 'description': 'Blogger, Producer, Ceo Adiga Productions, writer, activist, Preacher, Singer and a Poet.', 'rawDescription': 'Blogger, Producer, Ceo Adiga Productions, writer, activist, Preacher, Singer and a Poet.', 'descriptionUrls': [], 'verified': False, 'created': datetime.datetime(2012, 5, 22, 19, 12, 4, tzinfo=datetime.timezone.utc), 'followersCount': 478, 'friendsCount': 1210, 'statusesCount': 12564, 'favouritesCount': 10984, 'listedCount': 0, 'mediaCount': 156, 'location': 'Nigeria', 'protected': False, 'linkUrl': 'https://www.adigaproductions.com.ng', 'linkTcourl': 'https://t.co/kP3BTvqnr8', 'profileImageUrl': 'https://pbs.twimg.com/profile_images/1014033981535334400/wEkAYzmb_normal.jpg', 'profileBannerUrl': 'https://pbs.twimg.com/profile_banners/587677600/1486157274'}</td><td>[]</td><td>[]</td><td>0</td><td>⋯</td><td>en</td><td>&lt;a href=\"https://mobile.twitter.com\" rel=\"nofollow\"&gt;Mobile Web (M2)&lt;/a&gt;</td><td><span style=white-space:pre-wrap>https://mobile.twitter.com     </span></td><td><span style=white-space:pre-wrap>Mobile Web (M2)   </span></td><td></td><td>NA</td><td></td><td><span style=white-space:pre-wrap>                                                                                                                                                                                                                                                                                                                                                                                                                                                                                                                                                                                                                                                                                                                                                                                                                                                                                                                   </span></td><td></td><td></td></tr>\n",
       "\t<tr><th scope=row>3</th><td>2</td><td>https://twitter.com/emmanuelodufejo/status/957398036694450176</td><td>2018-01-27 23:40:54+00:00</td><td><span style=white-space:pre-wrap>Retweeted Caleb Zadok (@calebzadokadiga):\n",
       "\n",
       "@emmanuelodufejo 'Can't believe this is happening in Nigeria! #EndSARS                                                                                                                                             </span></td><td><span style=white-space:pre-wrap>Retweeted Caleb Zadok (@calebzadokadiga):\n",
       "\n",
       "@emmanuelodufejo 'Can't believe this is happening in Nigeria! #EndSARS                                                                                                                                             </span></td><td>9.573980e+17</td><td><span style=white-space:pre-wrap>{'username': 'emmanuelodufejo', 'displayname': 'Emmy', 'id': 228149707, 'description': 'Operations Manager @tigersportsng', 'rawDescription': 'Operations Manager @tigersportsng', 'descriptionUrls': [], 'verified': False, 'created': datetime.datetime(2010, 12, 18, 21, 40, 9, tzinfo=datetime.timezone.utc), 'followersCount': 1139, 'friendsCount': 1610, 'statusesCount': 19144, 'favouritesCount': 2713, 'listedCount': 15, 'mediaCount': 830, 'location': '', 'protected': False, 'linkUrl': 'http://www.emmanuelodufejo.wordpress.com', 'linkTcourl': 'https://t.co/GeddhccN92', 'profileImageUrl': 'https://pbs.twimg.com/profile_images/1035536275640655873/rGXfFEY3_normal.jpg', 'profileBannerUrl': 'https://pbs.twimg.com/profile_banners/228149707/1612194810'}                                                                                                                     </span></td><td>[]</td><td>[]</td><td>1</td><td>⋯</td><td>en</td><td><span style=white-space:pre-wrap>&lt;a href=\"http://www.facebook.com/twitter\" rel=\"nofollow\"&gt;Facebook&lt;/a&gt;  </span></td><td>http://www.facebook.com/twitter</td><td><span style=white-space:pre-wrap>Facebook          </span></td><td></td><td>NA</td><td></td><td>[{'username': 'calebzadokadiga', 'displayname': 'Caleb Zadok', 'id': 587677600, 'description': None, 'rawDescription': None, 'descriptionUrls': None, 'verified': None, 'created': None, 'followersCount': None, 'friendsCount': None, 'statusesCount': None, 'favouritesCount': None, 'listedCount': None, 'mediaCount': None, 'location': None, 'protected': None, 'linkUrl': None, 'linkTcourl': None, 'profileImageUrl': None, 'profileBannerUrl': None}, {'username': 'emmanuelodufejo', 'displayname': 'Emmy', 'id': 228149707, 'description': None, 'rawDescription': None, 'descriptionUrls': None, 'verified': None, 'created': None, 'followersCount': None, 'friendsCount': None, 'statusesCount': None, 'favouritesCount': None, 'listedCount': None, 'mediaCount': None, 'location': None, 'protected': None, 'linkUrl': None, 'linkTcourl': None, 'profileImageUrl': None, 'profileBannerUrl': None}]</td><td></td><td></td></tr>\n",
       "</tbody>\n",
       "</table>\n"
      ],
      "text/latex": [
       "A data.frame: 3 × 24\n",
       "\\begin{tabular}{r|lllllllllllllllllllll}\n",
       "  & X & url & date & content & renderedContent & id & user & outlinks & tcooutlinks & replyCount & ⋯ & lang & source & sourceUrl & sourceLabel & media & retweetedTweet & quotedTweet & mentionedUsers & coordinates & place\\\\\n",
       "  & <int> & <chr> & <chr> & <chr> & <chr> & <dbl> & <chr> & <chr> & <chr> & <int> & ⋯ & <chr> & <chr> & <chr> & <chr> & <chr> & <lgl> & <chr> & <chr> & <chr> & <chr>\\\\\n",
       "\\hline\n",
       "\t1 & 0 & https://twitter.com/israelnigeria/status/957399388887724032   & 2018-01-27 23:46:16+00:00 & @segalink point of correction Sir they shoot always and i mean always because the government back them up. i go against this your post because so many innocent will DIE n the public will turn a blind eye and do was they do best rain curses on them \\#ENDSARS & @segalink point of correction Sir they shoot always and i mean always because the government back them up. i go against this your post because so many innocent will DIE n the public will turn a blind eye and do was they do best rain curses on them \\#ENDSARS & 9.573994e+17 & \\{'username': 'israelnigeria', 'displayname': 'kenneth igho', 'id': 869621049645780993, 'description': 'Am different', 'rawDescription': 'Am different', 'descriptionUrls': {[}{]}, 'verified': False, 'created': datetime.datetime(2017, 5, 30, 18, 26, 29, tzinfo=datetime.timezone.utc), 'followersCount': 11, 'friendsCount': 430, 'statusesCount': 642, 'favouritesCount': 34, 'listedCount': 0, 'mediaCount': 12, 'location': '', 'protected': False, 'linkUrl': None, 'linkTcourl': None, 'profileImageUrl': 'https://abs.twimg.com/sticky/default\\_profile\\_images/default\\_profile\\_normal.png', 'profileBannerUrl': None\\}                                                                                                                                                                                                                                                                           & {[}{]} & {[}{]} & 0 & ⋯ & en & <a href=\"http://twitter.com\" rel=\"nofollow\">Twitter Web Client</a>      & http://twitter.com              & Twitter Web Client &  & NA &  & {[}\\{'username': 'segalink', 'displayname': \"SEGA L'éveilleur®🚨\", 'id': 14879097, 'description': None, 'rawDescription': None, 'descriptionUrls': None, 'verified': None, 'created': None, 'followersCount': None, 'friendsCount': None, 'statusesCount': None, 'favouritesCount': None, 'listedCount': None, 'mediaCount': None, 'location': None, 'protected': None, 'linkUrl': None, 'linkTcourl': None, 'profileImageUrl': None, 'profileBannerUrl': None\\}{]}                                                                                                                                                                                                                                                                                                                                                                                                                                                       &  & \\\\\n",
       "\t2 & 1 & https://twitter.com/calebzadokadiga/status/957398160023932930 & 2018-01-27 23:41:23+00:00 & If indeed you believe in democracy of which you are a beneficiary, and you believe in the rule of law, \\#EndSARS                                                                                                                                                  & If indeed you believe in democracy of which you are a beneficiary, and you believe in the rule of law, \\#EndSARS                                                                                                                                                  & 9.573982e+17 & \\{'username': 'calebzadokadiga', 'displayname': 'Caleb Zadok', 'id': 587677600, 'description': 'Blogger, Producer, Ceo Adiga Productions, writer, activist, Preacher, Singer and a Poet.', 'rawDescription': 'Blogger, Producer, Ceo Adiga Productions, writer, activist, Preacher, Singer and a Poet.', 'descriptionUrls': {[}{]}, 'verified': False, 'created': datetime.datetime(2012, 5, 22, 19, 12, 4, tzinfo=datetime.timezone.utc), 'followersCount': 478, 'friendsCount': 1210, 'statusesCount': 12564, 'favouritesCount': 10984, 'listedCount': 0, 'mediaCount': 156, 'location': 'Nigeria', 'protected': False, 'linkUrl': 'https://www.adigaproductions.com.ng', 'linkTcourl': 'https://t.co/kP3BTvqnr8', 'profileImageUrl': 'https://pbs.twimg.com/profile\\_images/1014033981535334400/wEkAYzmb\\_normal.jpg', 'profileBannerUrl': 'https://pbs.twimg.com/profile\\_banners/587677600/1486157274'\\} & {[}{]} & {[}{]} & 0 & ⋯ & en & <a href=\"https://mobile.twitter.com\" rel=\"nofollow\">Mobile Web (M2)</a> & https://mobile.twitter.com      & Mobile Web (M2)    &  & NA &  &                                                                                                                                                                                                                                                                                                                                                                                                                                                                                                                                                                                                                                                                                                                                                                                                                                                                                                                     &  & \\\\\n",
       "\t3 & 2 & https://twitter.com/emmanuelodufejo/status/957398036694450176 & 2018-01-27 23:40:54+00:00 & Retweeted Caleb Zadok (@calebzadokadiga):\n",
       "\n",
       "@emmanuelodufejo 'Can't believe this is happening in Nigeria! \\#EndSARS                                                                                                                                              & Retweeted Caleb Zadok (@calebzadokadiga):\n",
       "\n",
       "@emmanuelodufejo 'Can't believe this is happening in Nigeria! \\#EndSARS                                                                                                                                              & 9.573980e+17 & \\{'username': 'emmanuelodufejo', 'displayname': 'Emmy', 'id': 228149707, 'description': 'Operations Manager @tigersportsng', 'rawDescription': 'Operations Manager @tigersportsng', 'descriptionUrls': {[}{]}, 'verified': False, 'created': datetime.datetime(2010, 12, 18, 21, 40, 9, tzinfo=datetime.timezone.utc), 'followersCount': 1139, 'friendsCount': 1610, 'statusesCount': 19144, 'favouritesCount': 2713, 'listedCount': 15, 'mediaCount': 830, 'location': '', 'protected': False, 'linkUrl': 'http://www.emmanuelodufejo.wordpress.com', 'linkTcourl': 'https://t.co/GeddhccN92', 'profileImageUrl': 'https://pbs.twimg.com/profile\\_images/1035536275640655873/rGXfFEY3\\_normal.jpg', 'profileBannerUrl': 'https://pbs.twimg.com/profile\\_banners/228149707/1612194810'\\}                                                                                                                      & {[}{]} & {[}{]} & 1 & ⋯ & en & <a href=\"http://www.facebook.com/twitter\" rel=\"nofollow\">Facebook</a>   & http://www.facebook.com/twitter & Facebook           &  & NA &  & {[}\\{'username': 'calebzadokadiga', 'displayname': 'Caleb Zadok', 'id': 587677600, 'description': None, 'rawDescription': None, 'descriptionUrls': None, 'verified': None, 'created': None, 'followersCount': None, 'friendsCount': None, 'statusesCount': None, 'favouritesCount': None, 'listedCount': None, 'mediaCount': None, 'location': None, 'protected': None, 'linkUrl': None, 'linkTcourl': None, 'profileImageUrl': None, 'profileBannerUrl': None\\}, \\{'username': 'emmanuelodufejo', 'displayname': 'Emmy', 'id': 228149707, 'description': None, 'rawDescription': None, 'descriptionUrls': None, 'verified': None, 'created': None, 'followersCount': None, 'friendsCount': None, 'statusesCount': None, 'favouritesCount': None, 'listedCount': None, 'mediaCount': None, 'location': None, 'protected': None, 'linkUrl': None, 'linkTcourl': None, 'profileImageUrl': None, 'profileBannerUrl': None\\}{]} &  & \\\\\n",
       "\\end{tabular}\n"
      ],
      "text/markdown": [
       "\n",
       "A data.frame: 3 × 24\n",
       "\n",
       "| <!--/--> | X &lt;int&gt; | url &lt;chr&gt; | date &lt;chr&gt; | content &lt;chr&gt; | renderedContent &lt;chr&gt; | id &lt;dbl&gt; | user &lt;chr&gt; | outlinks &lt;chr&gt; | tcooutlinks &lt;chr&gt; | replyCount &lt;int&gt; | ⋯ ⋯ | lang &lt;chr&gt; | source &lt;chr&gt; | sourceUrl &lt;chr&gt; | sourceLabel &lt;chr&gt; | media &lt;chr&gt; | retweetedTweet &lt;lgl&gt; | quotedTweet &lt;chr&gt; | mentionedUsers &lt;chr&gt; | coordinates &lt;chr&gt; | place &lt;chr&gt; |\n",
       "|---|---|---|---|---|---|---|---|---|---|---|---|---|---|---|---|---|---|---|---|---|---|\n",
       "| 1 | 0 | https://twitter.com/israelnigeria/status/957399388887724032   | 2018-01-27 23:46:16+00:00 | @segalink point of correction Sir they shoot always and i mean always because the government back them up. i go against this your post because so many innocent will DIE n the public will turn a blind eye and do was they do best rain curses on them #ENDSARS | @segalink point of correction Sir they shoot always and i mean always because the government back them up. i go against this your post because so many innocent will DIE n the public will turn a blind eye and do was they do best rain curses on them #ENDSARS | 9.573994e+17 | {'username': 'israelnigeria', 'displayname': 'kenneth igho', 'id': 869621049645780993, 'description': 'Am different', 'rawDescription': 'Am different', 'descriptionUrls': [], 'verified': False, 'created': datetime.datetime(2017, 5, 30, 18, 26, 29, tzinfo=datetime.timezone.utc), 'followersCount': 11, 'friendsCount': 430, 'statusesCount': 642, 'favouritesCount': 34, 'listedCount': 0, 'mediaCount': 12, 'location': '', 'protected': False, 'linkUrl': None, 'linkTcourl': None, 'profileImageUrl': 'https://abs.twimg.com/sticky/default_profile_images/default_profile_normal.png', 'profileBannerUrl': None}                                                                                                                                                                                                                                                                           | [] | [] | 0 | ⋯ | en | &lt;a href=\"http://twitter.com\" rel=\"nofollow\"&gt;Twitter Web Client&lt;/a&gt;      | http://twitter.com              | Twitter Web Client | <!----> | NA | <!----> | [{'username': 'segalink', 'displayname': \"SEGA L'éveilleur®🚨\", 'id': 14879097, 'description': None, 'rawDescription': None, 'descriptionUrls': None, 'verified': None, 'created': None, 'followersCount': None, 'friendsCount': None, 'statusesCount': None, 'favouritesCount': None, 'listedCount': None, 'mediaCount': None, 'location': None, 'protected': None, 'linkUrl': None, 'linkTcourl': None, 'profileImageUrl': None, 'profileBannerUrl': None}]                                                                                                                                                                                                                                                                                                                                                                                                                                                       | <!----> | <!----> |\n",
       "| 2 | 1 | https://twitter.com/calebzadokadiga/status/957398160023932930 | 2018-01-27 23:41:23+00:00 | If indeed you believe in democracy of which you are a beneficiary, and you believe in the rule of law, #EndSARS                                                                                                                                                  | If indeed you believe in democracy of which you are a beneficiary, and you believe in the rule of law, #EndSARS                                                                                                                                                  | 9.573982e+17 | {'username': 'calebzadokadiga', 'displayname': 'Caleb Zadok', 'id': 587677600, 'description': 'Blogger, Producer, Ceo Adiga Productions, writer, activist, Preacher, Singer and a Poet.', 'rawDescription': 'Blogger, Producer, Ceo Adiga Productions, writer, activist, Preacher, Singer and a Poet.', 'descriptionUrls': [], 'verified': False, 'created': datetime.datetime(2012, 5, 22, 19, 12, 4, tzinfo=datetime.timezone.utc), 'followersCount': 478, 'friendsCount': 1210, 'statusesCount': 12564, 'favouritesCount': 10984, 'listedCount': 0, 'mediaCount': 156, 'location': 'Nigeria', 'protected': False, 'linkUrl': 'https://www.adigaproductions.com.ng', 'linkTcourl': 'https://t.co/kP3BTvqnr8', 'profileImageUrl': 'https://pbs.twimg.com/profile_images/1014033981535334400/wEkAYzmb_normal.jpg', 'profileBannerUrl': 'https://pbs.twimg.com/profile_banners/587677600/1486157274'} | [] | [] | 0 | ⋯ | en | &lt;a href=\"https://mobile.twitter.com\" rel=\"nofollow\"&gt;Mobile Web (M2)&lt;/a&gt; | https://mobile.twitter.com      | Mobile Web (M2)    | <!----> | NA | <!----> | <!----> | <!----> | <!----> |\n",
       "| 3 | 2 | https://twitter.com/emmanuelodufejo/status/957398036694450176 | 2018-01-27 23:40:54+00:00 | Retweeted Caleb Zadok (@calebzadokadiga):\n",
       "\n",
       "@emmanuelodufejo 'Can't believe this is happening in Nigeria! #EndSARS                                                                                                                                              | Retweeted Caleb Zadok (@calebzadokadiga):\n",
       "\n",
       "@emmanuelodufejo 'Can't believe this is happening in Nigeria! #EndSARS                                                                                                                                              | 9.573980e+17 | {'username': 'emmanuelodufejo', 'displayname': 'Emmy', 'id': 228149707, 'description': 'Operations Manager @tigersportsng', 'rawDescription': 'Operations Manager @tigersportsng', 'descriptionUrls': [], 'verified': False, 'created': datetime.datetime(2010, 12, 18, 21, 40, 9, tzinfo=datetime.timezone.utc), 'followersCount': 1139, 'friendsCount': 1610, 'statusesCount': 19144, 'favouritesCount': 2713, 'listedCount': 15, 'mediaCount': 830, 'location': '', 'protected': False, 'linkUrl': 'http://www.emmanuelodufejo.wordpress.com', 'linkTcourl': 'https://t.co/GeddhccN92', 'profileImageUrl': 'https://pbs.twimg.com/profile_images/1035536275640655873/rGXfFEY3_normal.jpg', 'profileBannerUrl': 'https://pbs.twimg.com/profile_banners/228149707/1612194810'}                                                                                                                      | [] | [] | 1 | ⋯ | en | &lt;a href=\"http://www.facebook.com/twitter\" rel=\"nofollow\"&gt;Facebook&lt;/a&gt;   | http://www.facebook.com/twitter | Facebook           | <!----> | NA | <!----> | [{'username': 'calebzadokadiga', 'displayname': 'Caleb Zadok', 'id': 587677600, 'description': None, 'rawDescription': None, 'descriptionUrls': None, 'verified': None, 'created': None, 'followersCount': None, 'friendsCount': None, 'statusesCount': None, 'favouritesCount': None, 'listedCount': None, 'mediaCount': None, 'location': None, 'protected': None, 'linkUrl': None, 'linkTcourl': None, 'profileImageUrl': None, 'profileBannerUrl': None}, {'username': 'emmanuelodufejo', 'displayname': 'Emmy', 'id': 228149707, 'description': None, 'rawDescription': None, 'descriptionUrls': None, 'verified': None, 'created': None, 'followersCount': None, 'friendsCount': None, 'statusesCount': None, 'favouritesCount': None, 'listedCount': None, 'mediaCount': None, 'location': None, 'protected': None, 'linkUrl': None, 'linkTcourl': None, 'profileImageUrl': None, 'profileBannerUrl': None}] | <!----> | <!----> |\n",
       "\n"
      ],
      "text/plain": [
       "  X url                                                          \n",
       "1 0 https://twitter.com/israelnigeria/status/957399388887724032  \n",
       "2 1 https://twitter.com/calebzadokadiga/status/957398160023932930\n",
       "3 2 https://twitter.com/emmanuelodufejo/status/957398036694450176\n",
       "  date                     \n",
       "1 2018-01-27 23:46:16+00:00\n",
       "2 2018-01-27 23:41:23+00:00\n",
       "3 2018-01-27 23:40:54+00:00\n",
       "  content                                                                                                                                                                                                                                                         \n",
       "1 @segalink point of correction Sir they shoot always and i mean always because the government back them up. i go against this your post because so many innocent will DIE n the public will turn a blind eye and do was they do best rain curses on them #ENDSARS\n",
       "2 If indeed you believe in democracy of which you are a beneficiary, and you believe in the rule of law, #EndSARS                                                                                                                                                 \n",
       "3 Retweeted Caleb Zadok (@calebzadokadiga):\\n\\n@emmanuelodufejo 'Can't believe this is happening in Nigeria! #EndSARS                                                                                                                                             \n",
       "  renderedContent                                                                                                                                                                                                                                                 \n",
       "1 @segalink point of correction Sir they shoot always and i mean always because the government back them up. i go against this your post because so many innocent will DIE n the public will turn a blind eye and do was they do best rain curses on them #ENDSARS\n",
       "2 If indeed you believe in democracy of which you are a beneficiary, and you believe in the rule of law, #EndSARS                                                                                                                                                 \n",
       "3 Retweeted Caleb Zadok (@calebzadokadiga):\\n\\n@emmanuelodufejo 'Can't believe this is happening in Nigeria! #EndSARS                                                                                                                                             \n",
       "  id          \n",
       "1 9.573994e+17\n",
       "2 9.573982e+17\n",
       "3 9.573980e+17\n",
       "  user                                                                                                                                                                                                                                                                                                                                                                                                                                                                                                                                                                                                                                                                                                                                                                                                                                                                                                \n",
       "1 {'username': 'israelnigeria', 'displayname': 'kenneth igho', 'id': 869621049645780993, 'description': 'Am different', 'rawDescription': 'Am different', 'descriptionUrls': [], 'verified': False, 'created': datetime.datetime(2017, 5, 30, 18, 26, 29, tzinfo=datetime.timezone.utc), 'followersCount': 11, 'friendsCount': 430, 'statusesCount': 642, 'favouritesCount': 34, 'listedCount': 0, 'mediaCount': 12, 'location': '', 'protected': False, 'linkUrl': None, 'linkTcourl': None, 'profileImageUrl': 'https://abs.twimg.com/sticky/default_profile_images/default_profile_normal.png', 'profileBannerUrl': None}                                                                                                                                                                                                                                                                          \n",
       "2 {'username': 'calebzadokadiga', 'displayname': 'Caleb Zadok', 'id': 587677600, 'description': 'Blogger, Producer, Ceo Adiga Productions, writer, activist, Preacher, Singer and a Poet.', 'rawDescription': 'Blogger, Producer, Ceo Adiga Productions, writer, activist, Preacher, Singer and a Poet.', 'descriptionUrls': [], 'verified': False, 'created': datetime.datetime(2012, 5, 22, 19, 12, 4, tzinfo=datetime.timezone.utc), 'followersCount': 478, 'friendsCount': 1210, 'statusesCount': 12564, 'favouritesCount': 10984, 'listedCount': 0, 'mediaCount': 156, 'location': 'Nigeria', 'protected': False, 'linkUrl': 'https://www.adigaproductions.com.ng', 'linkTcourl': 'https://t.co/kP3BTvqnr8', 'profileImageUrl': 'https://pbs.twimg.com/profile_images/1014033981535334400/wEkAYzmb_normal.jpg', 'profileBannerUrl': 'https://pbs.twimg.com/profile_banners/587677600/1486157274'}\n",
       "3 {'username': 'emmanuelodufejo', 'displayname': 'Emmy', 'id': 228149707, 'description': 'Operations Manager @tigersportsng', 'rawDescription': 'Operations Manager @tigersportsng', 'descriptionUrls': [], 'verified': False, 'created': datetime.datetime(2010, 12, 18, 21, 40, 9, tzinfo=datetime.timezone.utc), 'followersCount': 1139, 'friendsCount': 1610, 'statusesCount': 19144, 'favouritesCount': 2713, 'listedCount': 15, 'mediaCount': 830, 'location': '', 'protected': False, 'linkUrl': 'http://www.emmanuelodufejo.wordpress.com', 'linkTcourl': 'https://t.co/GeddhccN92', 'profileImageUrl': 'https://pbs.twimg.com/profile_images/1035536275640655873/rGXfFEY3_normal.jpg', 'profileBannerUrl': 'https://pbs.twimg.com/profile_banners/228149707/1612194810'}                                                                                                                     \n",
       "  outlinks tcooutlinks replyCount ⋯ lang\n",
       "1 []       []          0          ⋯ en  \n",
       "2 []       []          0          ⋯ en  \n",
       "3 []       []          1          ⋯ en  \n",
       "  source                                                                 \n",
       "1 <a href=\"http://twitter.com\" rel=\"nofollow\">Twitter Web Client</a>     \n",
       "2 <a href=\"https://mobile.twitter.com\" rel=\"nofollow\">Mobile Web (M2)</a>\n",
       "3 <a href=\"http://www.facebook.com/twitter\" rel=\"nofollow\">Facebook</a>  \n",
       "  sourceUrl                       sourceLabel        media retweetedTweet\n",
       "1 http://twitter.com              Twitter Web Client       NA            \n",
       "2 https://mobile.twitter.com      Mobile Web (M2)          NA            \n",
       "3 http://www.facebook.com/twitter Facebook                 NA            \n",
       "  quotedTweet\n",
       "1            \n",
       "2            \n",
       "3            \n",
       "  mentionedUsers                                                                                                                                                                                                                                                                                                                                                                                                                                                                                                                                                                                                                                                                                                                                                                                                                                                                                                     \n",
       "1 [{'username': 'segalink', 'displayname': \"SEGA L'éveilleur®🚨\", 'id': 14879097, 'description': None, 'rawDescription': None, 'descriptionUrls': None, 'verified': None, 'created': None, 'followersCount': None, 'friendsCount': None, 'statusesCount': None, 'favouritesCount': None, 'listedCount': None, 'mediaCount': None, 'location': None, 'protected': None, 'linkUrl': None, 'linkTcourl': None, 'profileImageUrl': None, 'profileBannerUrl': None}]                                                                                                                                                                                                                                                                                                                                                                                                                                                      \n",
       "2                                                                                                                                                                                                                                                                                                                                                                                                                                                                                                                                                                                                                                                                                                                                                                                                                                                                                                                    \n",
       "3 [{'username': 'calebzadokadiga', 'displayname': 'Caleb Zadok', 'id': 587677600, 'description': None, 'rawDescription': None, 'descriptionUrls': None, 'verified': None, 'created': None, 'followersCount': None, 'friendsCount': None, 'statusesCount': None, 'favouritesCount': None, 'listedCount': None, 'mediaCount': None, 'location': None, 'protected': None, 'linkUrl': None, 'linkTcourl': None, 'profileImageUrl': None, 'profileBannerUrl': None}, {'username': 'emmanuelodufejo', 'displayname': 'Emmy', 'id': 228149707, 'description': None, 'rawDescription': None, 'descriptionUrls': None, 'verified': None, 'created': None, 'followersCount': None, 'friendsCount': None, 'statusesCount': None, 'favouritesCount': None, 'listedCount': None, 'mediaCount': None, 'location': None, 'protected': None, 'linkUrl': None, 'linkTcourl': None, 'profileImageUrl': None, 'profileBannerUrl': None}]\n",
       "  coordinates place\n",
       "1                  \n",
       "2                  \n",
       "3                  "
      ]
     },
     "metadata": {},
     "output_type": "display_data"
    }
   ],
   "source": [
    "\n",
    "endsars2018 <- read.csv(\"endsars_2018.csv\")\n",
    "\n",
    "\n",
    "head(endsars2018,3)\n"
   ]
  },
  {
   "cell_type": "code",
   "execution_count": 4,
   "metadata": {
    "executionInfo": {
     "elapsed": 43,
     "status": "ok",
     "timestamp": 1638363932860,
     "user": {
      "displayName": "Folayan Tobi",
      "photoUrl": "https://lh3.googleusercontent.com/a/default-user=s64",
      "userId": "05490346036011816188"
     },
     "user_tz": -60
    },
    "id": "uUlQ5NIs45kr"
   },
   "outputs": [],
   "source": []
  },
  {
   "cell_type": "markdown",
   "metadata": {
    "id": "-G5IZF0y47G7"
   },
   "source": [
    "# Text Cleaning"
   ]
  },
  {
   "cell_type": "code",
   "execution_count": 5,
   "metadata": {
    "colab": {
     "base_uri": "https://localhost:8080/"
    },
    "executionInfo": {
     "elapsed": 41,
     "status": "ok",
     "timestamp": 1638363932860,
     "user": {
      "displayName": "Folayan Tobi",
      "photoUrl": "https://lh3.googleusercontent.com/a/default-user=s64",
      "userId": "05490346036011816188"
     },
     "user_tz": -60
    },
    "id": "vHRlgQrS96qh",
    "outputId": "97f3e3ea-c26a-4b91-ff47-d1ff93a41417"
   },
   "outputs": [
    {
     "name": "stderr",
     "output_type": "stream",
     "text": [
      "Warning message in tm_map.SimpleCorpus(corpus2018, PlainTextDocument):\n",
      "“transformation drops documents”\n",
      "Warning message in tm_map.SimpleCorpus(corpus2018, tolower):\n",
      "“transformation drops documents”\n",
      "Warning message in tm_map.SimpleCorpus(corpus2018, removePunctuation):\n",
      "“transformation drops documents”\n",
      "Warning message in tm_map.SimpleCorpus(corpus2018, removeNumbers):\n",
      "“transformation drops documents”\n",
      "Warning message in tm_map.SimpleCorpus(corpus2018, removeWords, stopwords(\"english\")):\n",
      "“transformation drops documents”\n",
      "Warning message in tm_map.SimpleCorpus(cleanset2018, stemDocument):\n",
      "“transformation drops documents”\n",
      "Warning message in tm_map.SimpleCorpus(cleanset2018, content_transformer(removeURL2018)):\n",
      "“transformation drops documents”\n",
      "Warning message in tm_map.SimpleCorpus(cleanset2018, removeWords, c(\"rt\")):\n",
      "“transformation drops documents”\n"
     ]
    },
    {
     "name": "stdout",
     "output_type": "stream",
     "text": [
      "<<SimpleCorpus>>\n",
      "Metadata:  corpus specific: 1, document level (indexed): 0\n",
      "Content:  documents: 5\n",
      "\n",
      "[1] point correct sir shoot alway mean alway govern back go post mani innoc will die n public will turn blind eye best rain curs endsar\n",
      "[2] inde believ democraci beneficiari believ rule law endsar                                                                           \n",
      "[3] retweet caleb zadok                                                                                                                \n",
      "[4] cant believ happen nigeria endsar                                                                                                  \n",
      "[5] sir know reckless men can nobodi want take risk differ men hold gun endsar resolv nation issu                                      \n"
     ]
    }
   ],
   "source": [
    "#working on endsars2018\n",
    "corpus2018<- iconv(endsars2018$content)\n",
    "#remove retweets\n",
    "corpus2018<- gsub(\"(RT|via)((?:\\\\b\\\\w*@\\\\w+)+)\",\" \",corpus2018)\n",
    "#remove people\n",
    "corpus2018<- gsub(\"@\\\\w+\",\" \",corpus2018)\n",
    "corpus2018<- gsub(\"\\n.*\",\" \",corpus2018)\n",
    "\n",
    "######creating a corpus###############\n",
    "corpus2018<- Corpus(VectorSource(corpus2018))\n",
    "corpus2018<- tm_map(corpus2018,PlainTextDocument)\n",
    "# inspect(corpus2018[1:5])\n",
    "################cleaning text#####################\n",
    "corpus2018<-tm_map(corpus2018,tolower)\n",
    "#inspect(corpus2018[1:5])\n",
    "corpus2018<-tm_map(corpus2018,removePunctuation)\n",
    "corpus2018<-tm_map(corpus2018,removeNumbers)\n",
    "\n",
    "cleanset2018<- tm_map(corpus2018, removeWords,stopwords('english'))\n",
    "cleanset2018<- tm_map(cleanset2018,stemDocument)\n",
    "#inspect(cleanset2018[1:5])\n",
    "removeURL2018 <- function(x) gsub('http[[:alnum:]]*','',x)\n",
    "cleanset2018<- tm_map(cleanset2018,content_transformer(removeURL2018))\n",
    "cleanset2018<- tm_map(cleanset2018,removeWords,c('rt'))\n",
    "#cleanset<- tm_map(cleanset, gsub,\n",
    " #                 pattern ='…',\n",
    "  #                replace = '')\n",
    "inspect(cleanset2018[1:5])"
   ]
  },
  {
   "cell_type": "code",
   "execution_count": 10,
   "metadata": {
    "executionInfo": {
     "elapsed": 1137,
     "status": "ok",
     "timestamp": 1638364373629,
     "user": {
      "displayName": "Folayan Tobi",
      "photoUrl": "https://lh3.googleusercontent.com/a/default-user=s64",
      "userId": "05490346036011816188"
     },
     "user_tz": -60
    },
    "id": "xuNMD4uB-WsF"
   },
   "outputs": [],
   "source": [
    "###########Term document matrix##########\n",
    "tdm2018<- TermDocumentMatrix(cleanset2018)\n",
    "# tdm2018\n",
    "tdm2018<- as.matrix(tdm2018)\n",
    "# tdm2018<- as.matrix(tdm2018)\n",
    "\n",
    "freq2018<-rowSums(tdm2018)\n",
    "# freq2018\n",
    "\n",
    "freq2018<-subset(freq2018,freq2018>=200)"
   ]
  },
  {
   "cell_type": "markdown",
   "metadata": {
    "id": "pZuA0TIS4tbG"
   },
   "source": [
    "# Frequent Word Count"
   ]
  },
  {
   "cell_type": "code",
   "execution_count": 11,
   "metadata": {
    "colab": {
     "base_uri": "https://localhost:8080/",
     "height": 34
    },
    "executionInfo": {
     "elapsed": 387,
     "status": "ok",
     "timestamp": 1638364376611,
     "user": {
      "displayName": "Folayan Tobi",
      "photoUrl": "https://lh3.googleusercontent.com/a/default-user=s64",
      "userId": "05490346036011816188"
     },
     "user_tz": -60
    },
    "id": "fk6zeHiXsex8",
    "outputId": "1b31cab4-6d12-4c91-aafd-efe9b4d28b14"
   },
   "outputs": [
    {
     "data": {
      "text/html": [
       "<strong>png:</strong> 2"
      ],
      "text/latex": [
       "\\textbf{png:} 2"
      ],
      "text/markdown": [
       "**png:** 2"
      ],
      "text/plain": [
       "png \n",
       "  2 "
      ]
     },
     "metadata": {},
     "output_type": "display_data"
    }
   ],
   "source": [
    "#########Bar plot########\n",
    "\n",
    "\n",
    "png(\"word_count2018.png\", width = 700, height = 350)\n",
    "\n",
    "barplot(freq2018,\n",
    "        las = 2,\n",
    "        col = rainbow(30), ylab = 'tweet frequency')\n",
    "\n",
    "dev.off()"
   ]
  },
  {
   "cell_type": "code",
   "execution_count": null,
   "metadata": {
    "id": "6iEJ0t7l4Ut1"
   },
   "outputs": [],
   "source": []
  },
  {
   "cell_type": "markdown",
   "metadata": {
    "id": "wKPYsDSz4VjP"
   },
   "source": [
    "# Sentiment Score"
   ]
  },
  {
   "cell_type": "code",
   "execution_count": 15,
   "metadata": {
    "colab": {
     "base_uri": "https://localhost:8080/",
     "height": 85
    },
    "executionInfo": {
     "elapsed": 70041,
     "status": "ok",
     "timestamp": 1638365274056,
     "user": {
      "displayName": "Folayan Tobi",
      "photoUrl": "https://lh3.googleusercontent.com/a/default-user=s64",
      "userId": "05490346036011816188"
     },
     "user_tz": -60
    },
    "id": "xe0bFHq0-kSy",
    "outputId": "992048ba-bfac-4dca-de05-a25289d80149"
   },
   "outputs": [
    {
     "name": "stderr",
     "output_type": "stream",
     "text": [
      "Installing package into ‘/usr/local/lib/R/site-library’\n",
      "(as ‘lib’ is unspecified)\n",
      "\n"
     ]
    },
    {
     "data": {
      "text/html": [
       "<strong>png:</strong> 2"
      ],
      "text/latex": [
       "\\textbf{png:} 2"
      ],
      "text/markdown": [
       "**png:** 2"
      ],
      "text/plain": [
       "png \n",
       "  2 "
      ]
     },
     "metadata": {},
     "output_type": "display_data"
    }
   ],
   "source": [
    "\n",
    "install.packages('wordcloud2')\n",
    "library(wordcloud2)\n",
    "library(syuzhet)\n",
    "library(lubridate)\n",
    "library(scales)\n",
    "library(reshape2)\n",
    "tweets2018 <- iconv(endsars2018$content)\n",
    "sent2018 <- get_nrc_sentiment(tweets2018)\n",
    "\n",
    "\n",
    "#########Bar plot########\n",
    "\n",
    "\n",
    "png(\"sent_score2018.png\", width = 650, height = 350)\n",
    "\n",
    "barplot(colSums(sent2018),\n",
    "        las = 2,\n",
    "        col = rainbow(20),\n",
    "        ylab = 'Count',\n",
    "        main = 'ENDSARS SENTIMENT SCORES FOR 2018')\n",
    "\n",
    "dev.off()"
   ]
  },
  {
   "cell_type": "code",
   "execution_count": null,
   "metadata": {
    "id": "g5yLEKXc4Bji"
   },
   "outputs": [],
   "source": []
  },
  {
   "cell_type": "markdown",
   "metadata": {
    "id": "BKO6S7Ui4HAo"
   },
   "source": [
    "# Word Cloud"
   ]
  },
  {
   "cell_type": "code",
   "execution_count": 14,
   "metadata": {
    "colab": {
     "base_uri": "https://localhost:8080/"
    },
    "executionInfo": {
     "elapsed": 22284,
     "status": "ok",
     "timestamp": 1638364637609,
     "user": {
      "displayName": "Folayan Tobi",
      "photoUrl": "https://lh3.googleusercontent.com/a/default-user=s64",
      "userId": "05490346036011816188"
     },
     "user_tz": -60
    },
    "id": "O3H-YmyOImjT",
    "outputId": "3343c9b5-8b38-4cb4-9bbd-34480ebbe0df"
   },
   "outputs": [
    {
     "name": "stderr",
     "output_type": "stream",
     "text": [
      "Installing package into ‘/usr/local/lib/R/site-library’\n",
      "(as ‘lib’ is unspecified)\n",
      "\n",
      "Installing package into ‘/usr/local/lib/R/site-library’\n",
      "(as ‘lib’ is unspecified)\n",
      "\n",
      "It seems that the version of `phantomjs` installed is greater than or equal to the requested version.To install the requested version or downgrade to another version, use `force = TRUE`.\n",
      "\n"
     ]
    }
   ],
   "source": [
    "install.packages('webshot')\n",
    "install.packages(\"htmlwidgets\")\n",
    "library(webshot)\n",
    "webshot::install_phantomjs()\n",
    "\n",
    "\n",
    "w2018 <- sort(rowSums(tdm2018), decreasing = TRUE)\n",
    "# head(w2018)\n",
    "\n",
    "w2018 <- data.frame(names(w2018), w2018)\n",
    "w2018 <- filter(w2018, w2018 >= 200)\n",
    "# head(w2018)\n",
    "\n",
    "colnames(w2018) <- c('word','freq')\n",
    "# head(w2018)\n",
    "\n",
    "cloud18 <- wordcloud2(w2018, shape='circle',size = 3.5,color='random-dark',backgroundColor = \"black\")\n",
    "\n",
    "library(htmlwidgets)\n",
    "saveWidget(cloud18,\"tmp.html\", selfcontained=F)\n",
    "\n",
    "webshot(\"tmp.html\" , \"cloud18.png\", delay=5, vwidth=480, vheight=480)"
   ]
  },
  {
   "cell_type": "code",
   "execution_count": null,
   "metadata": {
    "id": "RE_hwtw4YXkB"
   },
   "outputs": [],
   "source": []
  }
 ],
 "metadata": {
  "colab": {
   "authorship_tag": "ABX9TyOnUpzsIP6rB9CS0nXqxok+",
   "collapsed_sections": [],
   "name": "EDA_R_2018.ipynb",
   "provenance": [
    {
     "file_id": "1lZVy9oL8UNuqqrIvZNlxKe20id2mh-9Q",
     "timestamp": 1638361986452
    }
   ]
  },
  "kernelspec": {
   "display_name": "R",
   "language": "R",
   "name": "ir"
  },
  "language_info": {
   "name": "R"
  }
 },
 "nbformat": 4,
 "nbformat_minor": 1
}

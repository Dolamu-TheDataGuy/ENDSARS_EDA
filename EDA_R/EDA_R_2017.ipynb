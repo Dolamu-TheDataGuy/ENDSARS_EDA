{
 "cells": [
  {
   "cell_type": "markdown",
   "metadata": {
    "id": "wFIV8Pu59yCt"
   },
   "source": [
    "# importing library"
   ]
  },
  {
   "cell_type": "code",
   "execution_count": null,
   "metadata": {
    "colab": {
     "base_uri": "https://localhost:8080/"
    },
    "executionInfo": {
     "elapsed": 444865,
     "status": "ok",
     "timestamp": 1638345780785,
     "user": {
      "displayName": "Folayan Tobi",
      "photoUrl": "https://lh3.googleusercontent.com/a/default-user=s64",
      "userId": "05490346036011816188"
     },
     "user_tz": -60
    },
    "id": "-i-GNvDX8Hat",
    "outputId": "ba1e99c4-009d-412a-8b5d-67f1ccdf90d5"
   },
   "outputs": [
    {
     "name": "stderr",
     "output_type": "stream",
     "text": [
      "Installing package into ‘/usr/local/lib/R/site-library’\n",
      "(as ‘lib’ is unspecified)\n",
      "\n",
      "also installing the dependency ‘rjson’\n",
      "\n",
      "\n",
      "Installing package into ‘/usr/local/lib/R/site-library’\n",
      "(as ‘lib’ is unspecified)\n",
      "\n",
      "also installing the dependencies ‘bitops’, ‘RCurl’\n",
      "\n",
      "\n",
      "Installing package into ‘/usr/local/lib/R/site-library’\n",
      "(as ‘lib’ is unspecified)\n",
      "\n",
      "Installing package into ‘/usr/local/lib/R/site-library’\n",
      "(as ‘lib’ is unspecified)\n",
      "\n",
      "Installing package into ‘/usr/local/lib/R/site-library’\n",
      "(as ‘lib’ is unspecified)\n",
      "\n",
      "Installing package into ‘/usr/local/lib/R/site-library’\n",
      "(as ‘lib’ is unspecified)\n",
      "\n",
      "Installing package into ‘/usr/local/lib/R/site-library’\n",
      "(as ‘lib’ is unspecified)\n",
      "\n",
      "Installing package into ‘/usr/local/lib/R/site-library’\n",
      "(as ‘lib’ is unspecified)\n",
      "\n",
      "Installing package into ‘/usr/local/lib/R/site-library’\n",
      "(as ‘lib’ is unspecified)\n",
      "\n",
      "Installing package into ‘/usr/local/lib/R/site-library’\n",
      "(as ‘lib’ is unspecified)\n",
      "\n",
      "Installing package into ‘/usr/local/lib/R/site-library’\n",
      "(as ‘lib’ is unspecified)\n",
      "\n",
      "Installing package into ‘/usr/local/lib/R/site-library’\n",
      "(as ‘lib’ is unspecified)\n",
      "\n",
      "also installing the dependencies ‘NLP’, ‘slam’, ‘BH’\n",
      "\n",
      "\n",
      "Installing package into ‘/usr/local/lib/R/site-library’\n",
      "(as ‘lib’ is unspecified)\n",
      "\n",
      "also installing the dependencies ‘hunspell’, ‘janeaustenr’, ‘tokenizers’\n",
      "\n",
      "\n",
      "Installing package into ‘/usr/local/lib/R/site-library’\n",
      "(as ‘lib’ is unspecified)\n",
      "\n",
      "also installing the dependencies ‘promises’, ‘later’, ‘httpuv’\n",
      "\n",
      "\n",
      "Installing package into ‘/usr/local/lib/R/site-library’\n",
      "(as ‘lib’ is unspecified)\n",
      "\n",
      "Installing package into ‘/usr/local/lib/R/site-library’\n",
      "(as ‘lib’ is unspecified)\n",
      "\n",
      "also installing the dependencies ‘textshape’, ‘zoo’, ‘dtt’\n",
      "\n",
      "\n",
      "Installing package into ‘/usr/local/lib/R/site-library’\n",
      "(as ‘lib’ is unspecified)\n",
      "\n",
      "Installing package into ‘/usr/local/lib/R/site-library’\n",
      "(as ‘lib’ is unspecified)\n",
      "\n",
      "Installing package into ‘/usr/local/lib/R/site-library’\n",
      "(as ‘lib’ is unspecified)\n",
      "\n",
      "\n",
      "Attaching package: ‘twitteR’\n",
      "\n",
      "\n",
      "The following object is masked from ‘package:rtweet’:\n",
      "\n",
      "    lookup_statuses\n",
      "\n",
      "\n",
      "\n",
      "Attaching package: ‘plyr’\n",
      "\n",
      "\n",
      "The following object is masked from ‘package:twitteR’:\n",
      "\n",
      "    id\n",
      "\n",
      "\n",
      "\n",
      "Attaching package: ‘dplyr’\n",
      "\n",
      "\n",
      "The following objects are masked from ‘package:plyr’:\n",
      "\n",
      "    arrange, count, desc, failwith, id, mutate, rename, summarise,\n",
      "    summarize\n",
      "\n",
      "\n",
      "The following objects are masked from ‘package:twitteR’:\n",
      "\n",
      "    id, location\n",
      "\n",
      "\n",
      "The following objects are masked from ‘package:stats’:\n",
      "\n",
      "    filter, lag\n",
      "\n",
      "\n",
      "The following objects are masked from ‘package:base’:\n",
      "\n",
      "    intersect, setdiff, setequal, union\n",
      "\n",
      "\n",
      "Loading required package: RColorBrewer\n",
      "\n",
      "\n",
      "Attaching package: ‘RCurl’\n",
      "\n",
      "\n",
      "The following object is masked from ‘package:tidyr’:\n",
      "\n",
      "    complete\n",
      "\n",
      "\n",
      "Loading required package: NLP\n",
      "\n",
      "\n",
      "Attaching package: ‘NLP’\n",
      "\n",
      "\n",
      "The following object is masked from ‘package:httr’:\n",
      "\n",
      "    content\n",
      "\n",
      "\n",
      "The following object is masked from ‘package:ggplot2’:\n",
      "\n",
      "    annotate\n",
      "\n",
      "\n"
     ]
    }
   ],
   "source": [
    "#installing necessary packages\n",
    "install.packages('twitteR')\n",
    "install.packages('ROAuth')\n",
    "install.packages('plyr')\n",
    "install.packages('dplyr')\n",
    "install.packages('stringr')\n",
    "install.packages('ggplot2')\n",
    "install.packages('httr')\n",
    "install.packages('wordcloud')\n",
    "install.packages('SnowballC')\n",
    "install.packages('RColorBrewer')\n",
    "install.packages('RCurl')\n",
    "install.packages('tm')\n",
    "install.packages(\"tidytext\")\n",
    "# load twitter library - the rtweet library is recommended now over twitteR\n",
    "install.packages('rtweet')\n",
    "install.packages('tidyr')\n",
    "install.packages('syuzhet')\n",
    "install.packages('lubridate')\n",
    "install.packages('scales')\n",
    "install.packages('reshape2')\n",
    "\n",
    "library(tidyr)\n",
    "library(tidytext)\n",
    "library(rtweet)\n",
    "library(twitteR)\n",
    "library(ROAuth)\n",
    "library(plyr)\n",
    "library(dplyr)\n",
    "library(stringr)\n",
    "library(ggplot2)\n",
    "library(httr)\n",
    "library(wordcloud)\n",
    "library(SnowballC)\n",
    "library(RColorBrewer)\n",
    "#library(sentiment)\n",
    "library(RCurl)\n",
    "library(tm)\n",
    "library(twitteR)\n",
    "# library(tidyr)\n",
    "\n"
   ]
  },
  {
   "cell_type": "code",
   "execution_count": null,
   "metadata": {
    "id": "v_sT0ybT9G-O"
   },
   "outputs": [],
   "source": []
  },
  {
   "cell_type": "markdown",
   "metadata": {
    "id": "Xs_2x2WG9Hk5"
   },
   "source": [
    "# Importing Data"
   ]
  },
  {
   "cell_type": "code",
   "execution_count": null,
   "metadata": {
    "colab": {
     "base_uri": "https://localhost:8080/"
    },
    "executionInfo": {
     "elapsed": 14552,
     "status": "ok",
     "timestamp": 1638346304402,
     "user": {
      "displayName": "Folayan Tobi",
      "photoUrl": "https://lh3.googleusercontent.com/a/default-user=s64",
      "userId": "05490346036011816188"
     },
     "user_tz": -60
    },
    "id": "3XYsPDXy9p5B",
    "outputId": "9a220501-f56d-43bc-92d0-c848d9d45c16"
   },
   "outputs": [
    {
     "name": "stderr",
     "output_type": "stream",
     "text": [
      "Warning message in scan(file = file, what = what, sep = sep, quote = quote, dec = dec, :\n",
      "“EOF within quoted string”\n",
      "Warning message in scan(file = file, what = what, sep = sep, quote = quote, dec = dec, :\n",
      "“EOF within quoted string”\n",
      "Warning message in scan(file = file, what = what, sep = sep, quote = quote, dec = dec, :\n",
      "“EOF within quoted string”\n",
      "Warning message in scan(file = file, what = what, sep = sep, quote = quote, dec = dec, :\n",
      "“EOF within quoted string”\n"
     ]
    }
   ],
   "source": [
    "all_data <- read.csv(\"combined_scraped_data.csv\")\n",
    "endsars2017 <- read.csv(\"endsars_2017.csv\")\n",
    "endsars2018 <- read.csv(\"endsars_2018.csv\")\n",
    "endsars2019 <- read.csv(\"endsars_2019.csv\")\n",
    "endsars2020 <- read.csv(\"endsars_2020.csv\")\n",
    "endsars2021 <- read.csv(\"endsars_2021.csv\")\n",
    "head(endsars2017,3)\n",
    "head(endsars2018,3)\n",
    "head(endsars2019,3)\n",
    "head(endsars2020,3)\n",
    "head(endsars2021,3)\n",
    "head(all_data,3)"
   ]
  },
  {
   "cell_type": "code",
   "execution_count": null,
   "metadata": {
    "id": "uUlQ5NIs45kr"
   },
   "outputs": [],
   "source": []
  },
  {
   "cell_type": "markdown",
   "metadata": {
    "id": "-G5IZF0y47G7"
   },
   "source": [
    "# Text Cleaning"
   ]
  },
  {
   "cell_type": "code",
   "execution_count": null,
   "metadata": {
    "colab": {
     "base_uri": "https://localhost:8080/"
    },
    "executionInfo": {
     "elapsed": 3355,
     "status": "ok",
     "timestamp": 1638346332351,
     "user": {
      "displayName": "Folayan Tobi",
      "photoUrl": "https://lh3.googleusercontent.com/a/default-user=s64",
      "userId": "05490346036011816188"
     },
     "user_tz": -60
    },
    "id": "vHRlgQrS96qh",
    "outputId": "3fc1b767-39cc-4476-cd60-79482510651b"
   },
   "outputs": [
    {
     "name": "stderr",
     "output_type": "stream",
     "text": [
      "Warning message in tm_map.SimpleCorpus(corpus2017, PlainTextDocument):\n",
      "“transformation drops documents”\n"
     ]
    }
   ],
   "source": [
    "#working on endsars2017\n",
    "corpus2017<- iconv(endsars2017$content)\n",
    "#remove retweets\n",
    "corpus2017<- gsub(\"(RT|via)((?:\\\\b\\\\w*@\\\\w+)+)\",\" \",corpus2017)\n",
    "#remove people\n",
    "corpus2017<- gsub(\"@\\\\w+\",\" \",corpus2017)\n",
    "corpus2017<- gsub(\"\\n.*\",\" \",corpus2017)\n",
    "\n",
    "######creating a corpus###############\n",
    "corpus2017<- Corpus(VectorSource(corpus2017))\n",
    "corpus2017<- tm_map(corpus2017,PlainTextDocument)\n",
    "# inspect(corpus2017[1:5])\n",
    "################cleaning text#####################\n",
    "corpus2017<-tm_map(corpus2017,tolower)\n",
    "#inspect(corpus2017[1:5])\n",
    "corpus2017<-tm_map(corpus2017,removePunctuation)\n",
    "corpus2017<-tm_map(corpus2017,removeNumbers)\n",
    "\n",
    "cleanset2017<- tm_map(corpus2017, removeWords,stopwords('english'))\n",
    "cleanset2017<- tm_map(cleanset2017,stemDocument)\n",
    "#inspect(cleanset2017[1:5])\n",
    "removeURL2017 <- function(x) gsub('http[[:alnum:]]*','',x)\n",
    "cleanset2017<- tm_map(cleanset2017,content_transformer(removeURL2017))\n",
    "cleanset2017<- tm_map(cleanset2017,removeWords,c('rt'))\n",
    "#cleanset<- tm_map(cleanset, gsub,\n",
    " #                 pattern ='…',\n",
    "  #                replace = '')\n",
    "inspect(cleanset2017[1:5])"
   ]
  },
  {
   "cell_type": "code",
   "execution_count": 78,
   "metadata": {
    "executionInfo": {
     "elapsed": 10452,
     "status": "ok",
     "timestamp": 1638362358785,
     "user": {
      "displayName": "Folayan Tobi",
      "photoUrl": "https://lh3.googleusercontent.com/a/default-user=s64",
      "userId": "05490346036011816188"
     },
     "user_tz": -60
    },
    "id": "xuNMD4uB-WsF"
   },
   "outputs": [],
   "source": [
    "###########Term document matrix##########\n",
    "tdm2017<- TermDocumentMatrix(cleanset2017)\n",
    "# tdm2017\n",
    "tdm2017<- as.matrix(tdm2017)\n",
    "# tdm2017<- as.matrix(tdm2017)\n",
    "\n",
    "freq2017<-rowSums(tdm2017)\n",
    "# freq2017\n",
    "\n",
    "freq2017<-subset(freq2017,freq2017>=700)"
   ]
  },
  {
   "cell_type": "markdown",
   "metadata": {
    "id": "pZuA0TIS4tbG"
   },
   "source": [
    "# Frequent Word Count"
   ]
  },
  {
   "cell_type": "code",
   "execution_count": 79,
   "metadata": {
    "colab": {
     "base_uri": "https://localhost:8080/",
     "height": 34
    },
    "executionInfo": {
     "elapsed": 383,
     "status": "ok",
     "timestamp": 1638362368585,
     "user": {
      "displayName": "Folayan Tobi",
      "photoUrl": "https://lh3.googleusercontent.com/a/default-user=s64",
      "userId": "05490346036011816188"
     },
     "user_tz": -60
    },
    "id": "fk6zeHiXsex8",
    "outputId": "d9d5cc95-0911-4304-dd25-e3c3a8e5961d"
   },
   "outputs": [
    {
     "data": {
      "text/html": [
       "<strong>png:</strong> 2"
      ],
      "text/latex": [
       "\\textbf{png:} 2"
      ],
      "text/markdown": [
       "**png:** 2"
      ],
      "text/plain": [
       "png \n",
       "  2 "
      ]
     },
     "metadata": {},
     "output_type": "display_data"
    }
   ],
   "source": [
    "#########Bar plot########\n",
    "\n",
    "\n",
    "png(\"word_count2017.png\", width = 700, height = 350)\n",
    "\n",
    "barplot(freq2017,\n",
    "        las = 2,\n",
    "        col = rainbow(30), ylab = 'tweet frequency')\n",
    "\n",
    "dev.off()"
   ]
  },
  {
   "cell_type": "code",
   "execution_count": null,
   "metadata": {
    "id": "6iEJ0t7l4Ut1"
   },
   "outputs": [],
   "source": []
  },
  {
   "cell_type": "markdown",
   "metadata": {
    "id": "wKPYsDSz4VjP"
   },
   "source": [
    "# Sentiment Score"
   ]
  },
  {
   "cell_type": "code",
   "execution_count": 80,
   "metadata": {
    "colab": {
     "base_uri": "https://localhost:8080/",
     "height": 85
    },
    "executionInfo": {
     "elapsed": 327093,
     "status": "ok",
     "timestamp": 1638362829910,
     "user": {
      "displayName": "Folayan Tobi",
      "photoUrl": "https://lh3.googleusercontent.com/a/default-user=s64",
      "userId": "05490346036011816188"
     },
     "user_tz": -60
    },
    "id": "xe0bFHq0-kSy",
    "outputId": "709759ce-d6a6-4bda-d036-71c0e6c37882"
   },
   "outputs": [
    {
     "name": "stderr",
     "output_type": "stream",
     "text": [
      "Installing package into ‘/usr/local/lib/R/site-library’\n",
      "(as ‘lib’ is unspecified)\n",
      "\n"
     ]
    },
    {
     "data": {
      "text/html": [
       "<strong>png:</strong> 2"
      ],
      "text/latex": [
       "\\textbf{png:} 2"
      ],
      "text/markdown": [
       "**png:** 2"
      ],
      "text/plain": [
       "png \n",
       "  2 "
      ]
     },
     "metadata": {},
     "output_type": "display_data"
    }
   ],
   "source": [
    "\n",
    "install.packages('wordcloud2')\n",
    "library(wordcloud2)\n",
    "library(syuzhet)\n",
    "library(lubridate)\n",
    "library(scales)\n",
    "library(reshape2)\n",
    "tweets2017 <- iconv(endsars2017$content)\n",
    "sent2017 <- get_nrc_sentiment(tweets2017)\n",
    "\n",
    "\n",
    "#########Bar plot########\n",
    "\n",
    "\n",
    "png(\"sent_score2017.png\", width = 650, height = 350)\n",
    "\n",
    "barplot(colSums(sent2017),\n",
    "        las = 2,\n",
    "        col = rainbow(20),\n",
    "        ylab = 'Count',\n",
    "        main = 'ENDSARS SENTIMENT SCORES FOR 2017')\n",
    "\n",
    "dev.off()"
   ]
  },
  {
   "cell_type": "code",
   "execution_count": null,
   "metadata": {
    "id": "g5yLEKXc4Bji"
   },
   "outputs": [],
   "source": []
  },
  {
   "cell_type": "markdown",
   "metadata": {
    "id": "BKO6S7Ui4HAo"
   },
   "source": [
    "# Word Cloud"
   ]
  },
  {
   "cell_type": "code",
   "execution_count": 82,
   "metadata": {
    "colab": {
     "base_uri": "https://localhost:8080/"
    },
    "executionInfo": {
     "elapsed": 14821,
     "status": "ok",
     "timestamp": 1638363228367,
     "user": {
      "displayName": "Folayan Tobi",
      "photoUrl": "https://lh3.googleusercontent.com/a/default-user=s64",
      "userId": "05490346036011816188"
     },
     "user_tz": -60
    },
    "id": "O3H-YmyOImjT",
    "outputId": "55e486c8-bdff-43a4-d8d0-d0df8b94bc4e"
   },
   "outputs": [
    {
     "name": "stderr",
     "output_type": "stream",
     "text": [
      "Installing package into ‘/usr/local/lib/R/site-library’\n",
      "(as ‘lib’ is unspecified)\n",
      "\n",
      "Installing package into ‘/usr/local/lib/R/site-library’\n",
      "(as ‘lib’ is unspecified)\n",
      "\n",
      "It seems that the version of `phantomjs` installed is greater than or equal to the requested version.To install the requested version or downgrade to another version, use `force = TRUE`.\n",
      "\n"
     ]
    }
   ],
   "source": [
    "install.packages('webshot')\n",
    "install.packages(\"htmlwidgets\")\n",
    "library(webshot)\n",
    "webshot::install_phantomjs()\n",
    "\n",
    "\n",
    "w2017 <- sort(rowSums(tdm2017), decreasing = TRUE)\n",
    "# head(w2017)\n",
    "\n",
    "w2017 <- data.frame(names(w2017), w2017)\n",
    "w2017 <- filter(w2017, w2017 >= 500)\n",
    "# head(w2017)\n",
    "\n",
    "colnames(w2017) <- c('word','freq')\n",
    "# head(w2017)\n",
    "\n",
    "cloud17 <- wordcloud2(w2017, shape='circle',size = 3.5,color='random-dark',backgroundColor = \"black\")\n",
    "\n",
    "library(htmlwidgets)\n",
    "saveWidget(cloud17,\"tmp.html\", selfcontained=F)\n",
    "\n",
    "webshot(\"tmp.html\" , \"cloud17.png\", delay=5, vwidth=480, vheight=480)"
   ]
  },
  {
   "cell_type": "code",
   "execution_count": null,
   "metadata": {
    "id": "RE_hwtw4YXkB"
   },
   "outputs": [],
   "source": []
  }
 ],
 "metadata": {
  "colab": {
   "authorship_tag": "ABX9TyPf8mEIY9atix0RFiiinwgv",
   "collapsed_sections": [],
   "name": "EDA_R_2017.ipynb",
   "provenance": []
  },
  "kernelspec": {
   "display_name": "R",
   "language": "R",
   "name": "ir"
  },
  "language_info": {
   "name": "R"
  }
 },
 "nbformat": 4,
 "nbformat_minor": 1
}

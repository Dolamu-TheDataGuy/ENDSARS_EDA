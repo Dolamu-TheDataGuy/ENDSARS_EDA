{
 "cells": [
  {
   "cell_type": "markdown",
   "metadata": {
    "id": "wFIV8Pu59yCt"
   },
   "source": [
    "# importing library"
   ]
  },
  {
   "cell_type": "code",
   "execution_count": 1,
   "metadata": {
    "colab": {
     "base_uri": "https://localhost:8080/"
    },
    "executionInfo": {
     "elapsed": 453844,
     "status": "ok",
     "timestamp": 1638364089241,
     "user": {
      "displayName": "Folayan Tobi",
      "photoUrl": "https://lh3.googleusercontent.com/a/default-user=s64",
      "userId": "05490346036011816188"
     },
     "user_tz": -60
    },
    "id": "-i-GNvDX8Hat",
    "outputId": "ab498340-6e55-4d8f-cf89-756aa2ce2f8c"
   },
   "outputs": [
    {
     "name": "stderr",
     "output_type": "stream",
     "text": [
      "Installing package into ‘/usr/local/lib/R/site-library’\n",
      "(as ‘lib’ is unspecified)\n",
      "\n",
      "also installing the dependency ‘rjson’\n",
      "\n",
      "\n",
      "Installing package into ‘/usr/local/lib/R/site-library’\n",
      "(as ‘lib’ is unspecified)\n",
      "\n",
      "also installing the dependencies ‘bitops’, ‘RCurl’\n",
      "\n",
      "\n",
      "Installing package into ‘/usr/local/lib/R/site-library’\n",
      "(as ‘lib’ is unspecified)\n",
      "\n",
      "Installing package into ‘/usr/local/lib/R/site-library’\n",
      "(as ‘lib’ is unspecified)\n",
      "\n",
      "Installing package into ‘/usr/local/lib/R/site-library’\n",
      "(as ‘lib’ is unspecified)\n",
      "\n",
      "Installing package into ‘/usr/local/lib/R/site-library’\n",
      "(as ‘lib’ is unspecified)\n",
      "\n",
      "Installing package into ‘/usr/local/lib/R/site-library’\n",
      "(as ‘lib’ is unspecified)\n",
      "\n",
      "Installing package into ‘/usr/local/lib/R/site-library’\n",
      "(as ‘lib’ is unspecified)\n",
      "\n",
      "Installing package into ‘/usr/local/lib/R/site-library’\n",
      "(as ‘lib’ is unspecified)\n",
      "\n",
      "Installing package into ‘/usr/local/lib/R/site-library’\n",
      "(as ‘lib’ is unspecified)\n",
      "\n",
      "Installing package into ‘/usr/local/lib/R/site-library’\n",
      "(as ‘lib’ is unspecified)\n",
      "\n",
      "Installing package into ‘/usr/local/lib/R/site-library’\n",
      "(as ‘lib’ is unspecified)\n",
      "\n",
      "also installing the dependencies ‘NLP’, ‘slam’, ‘BH’\n",
      "\n",
      "\n",
      "Installing package into ‘/usr/local/lib/R/site-library’\n",
      "(as ‘lib’ is unspecified)\n",
      "\n",
      "also installing the dependencies ‘hunspell’, ‘janeaustenr’, ‘tokenizers’\n",
      "\n",
      "\n",
      "Installing package into ‘/usr/local/lib/R/site-library’\n",
      "(as ‘lib’ is unspecified)\n",
      "\n",
      "also installing the dependencies ‘promises’, ‘later’, ‘httpuv’\n",
      "\n",
      "\n",
      "Installing package into ‘/usr/local/lib/R/site-library’\n",
      "(as ‘lib’ is unspecified)\n",
      "\n",
      "Installing package into ‘/usr/local/lib/R/site-library’\n",
      "(as ‘lib’ is unspecified)\n",
      "\n",
      "also installing the dependencies ‘textshape’, ‘zoo’, ‘dtt’\n",
      "\n",
      "\n",
      "Installing package into ‘/usr/local/lib/R/site-library’\n",
      "(as ‘lib’ is unspecified)\n",
      "\n",
      "Installing package into ‘/usr/local/lib/R/site-library’\n",
      "(as ‘lib’ is unspecified)\n",
      "\n",
      "Installing package into ‘/usr/local/lib/R/site-library’\n",
      "(as ‘lib’ is unspecified)\n",
      "\n",
      "\n",
      "Attaching package: ‘twitteR’\n",
      "\n",
      "\n",
      "The following object is masked from ‘package:rtweet’:\n",
      "\n",
      "    lookup_statuses\n",
      "\n",
      "\n",
      "\n",
      "Attaching package: ‘plyr’\n",
      "\n",
      "\n",
      "The following object is masked from ‘package:twitteR’:\n",
      "\n",
      "    id\n",
      "\n",
      "\n",
      "\n",
      "Attaching package: ‘dplyr’\n",
      "\n",
      "\n",
      "The following objects are masked from ‘package:plyr’:\n",
      "\n",
      "    arrange, count, desc, failwith, id, mutate, rename, summarise,\n",
      "    summarize\n",
      "\n",
      "\n",
      "The following objects are masked from ‘package:twitteR’:\n",
      "\n",
      "    id, location\n",
      "\n",
      "\n",
      "The following objects are masked from ‘package:stats’:\n",
      "\n",
      "    filter, lag\n",
      "\n",
      "\n",
      "The following objects are masked from ‘package:base’:\n",
      "\n",
      "    intersect, setdiff, setequal, union\n",
      "\n",
      "\n",
      "Loading required package: RColorBrewer\n",
      "\n",
      "\n",
      "Attaching package: ‘RCurl’\n",
      "\n",
      "\n",
      "The following object is masked from ‘package:tidyr’:\n",
      "\n",
      "    complete\n",
      "\n",
      "\n",
      "Loading required package: NLP\n",
      "\n",
      "\n",
      "Attaching package: ‘NLP’\n",
      "\n",
      "\n",
      "The following object is masked from ‘package:httr’:\n",
      "\n",
      "    content\n",
      "\n",
      "\n",
      "The following object is masked from ‘package:ggplot2’:\n",
      "\n",
      "    annotate\n",
      "\n",
      "\n"
     ]
    }
   ],
   "source": [
    "#installing necessary packages\n",
    "install.packages('twitteR')\n",
    "install.packages('ROAuth')\n",
    "install.packages('plyr')\n",
    "install.packages('dplyr')\n",
    "install.packages('stringr')\n",
    "install.packages('ggplot2')\n",
    "install.packages('httr')\n",
    "install.packages('wordcloud')\n",
    "install.packages('SnowballC')\n",
    "install.packages('RColorBrewer')\n",
    "install.packages('RCurl')\n",
    "install.packages('tm')\n",
    "install.packages(\"tidytext\")\n",
    "# load twitter library - the rtweet library is recommended now over twitteR\n",
    "install.packages('rtweet')\n",
    "install.packages('tidyr')\n",
    "install.packages('syuzhet')\n",
    "install.packages('lubridate')\n",
    "install.packages('scales')\n",
    "install.packages('reshape2')\n",
    "\n",
    "library(tidyr)\n",
    "library(tidytext)\n",
    "library(rtweet)\n",
    "library(twitteR)\n",
    "library(ROAuth)\n",
    "library(plyr)\n",
    "library(dplyr)\n",
    "library(stringr)\n",
    "library(ggplot2)\n",
    "library(httr)\n",
    "library(wordcloud)\n",
    "library(SnowballC)\n",
    "library(RColorBrewer)\n",
    "#library(sentiment)\n",
    "library(RCurl)\n",
    "library(tm)\n",
    "library(twitteR)\n",
    "# library(tidyr)\n",
    "\n"
   ]
  },
  {
   "cell_type": "code",
   "execution_count": null,
   "metadata": {
    "id": "v_sT0ybT9G-O"
   },
   "outputs": [],
   "source": []
  },
  {
   "cell_type": "markdown",
   "metadata": {
    "id": "Xs_2x2WG9Hk5"
   },
   "source": [
    "# Importing Data"
   ]
  },
  {
   "cell_type": "code",
   "execution_count": 2,
   "metadata": {
    "colab": {
     "base_uri": "https://localhost:8080/",
     "height": 1000
    },
    "executionInfo": {
     "elapsed": 17,
     "status": "ok",
     "timestamp": 1638365697615,
     "user": {
      "displayName": "Folayan Tobi",
      "photoUrl": "https://lh3.googleusercontent.com/a/default-user=s64",
      "userId": "05490346036011816188"
     },
     "user_tz": -60
    },
    "id": "3XYsPDXy9p5B",
    "outputId": "e2b325b6-92c3-4b79-943f-1861ac0e549e"
   },
   "outputs": [
    {
     "name": "stderr",
     "output_type": "stream",
     "text": [
      "Warning message in scan(file = file, what = what, sep = sep, quote = quote, dec = dec, :\n",
      "“EOF within quoted string”\n"
     ]
    },
    {
     "data": {
      "text/html": [
       "<table class=\"dataframe\">\n",
       "<caption>A data.frame: 3 × 24</caption>\n",
       "<thead>\n",
       "\t<tr><th></th><th scope=col>X</th><th scope=col>url</th><th scope=col>date</th><th scope=col>content</th><th scope=col>renderedContent</th><th scope=col>id</th><th scope=col>user</th><th scope=col>outlinks</th><th scope=col>tcooutlinks</th><th scope=col>replyCount</th><th scope=col>⋯</th><th scope=col>lang</th><th scope=col>source</th><th scope=col>sourceUrl</th><th scope=col>sourceLabel</th><th scope=col>media</th><th scope=col>retweetedTweet</th><th scope=col>quotedTweet</th><th scope=col>mentionedUsers</th><th scope=col>coordinates</th><th scope=col>place</th></tr>\n",
       "\t<tr><th></th><th scope=col>&lt;int&gt;</th><th scope=col>&lt;chr&gt;</th><th scope=col>&lt;chr&gt;</th><th scope=col>&lt;chr&gt;</th><th scope=col>&lt;chr&gt;</th><th scope=col>&lt;dbl&gt;</th><th scope=col>&lt;chr&gt;</th><th scope=col>&lt;chr&gt;</th><th scope=col>&lt;chr&gt;</th><th scope=col>&lt;int&gt;</th><th scope=col>⋯</th><th scope=col>&lt;chr&gt;</th><th scope=col>&lt;chr&gt;</th><th scope=col>&lt;chr&gt;</th><th scope=col>&lt;chr&gt;</th><th scope=col>&lt;chr&gt;</th><th scope=col>&lt;lgl&gt;</th><th scope=col>&lt;chr&gt;</th><th scope=col>&lt;chr&gt;</th><th scope=col>&lt;chr&gt;</th><th scope=col>&lt;chr&gt;</th></tr>\n",
       "</thead>\n",
       "<tbody>\n",
       "\t<tr><th scope=row>1</th><td>0</td><td><span style=white-space:pre-wrap>https://twitter.com/bhimboh/status/1089622900494270466     </span></td><td>2019-01-27 20:35:18+00:00</td><td><span style=white-space:pre-wrap>Leave the DIG'S please it is the cancer on our flesh, arm robbers in police uniforms you should help us clear of the road #EndSARS https://t.co/9YjogrqRsy                                                                                                                                                      </span></td><td><span style=white-space:pre-wrap>Leave the DIG'S please it is the cancer on our flesh, arm robbers in police uniforms you should help us clear of the road #EndSARS twitter.com/PremiumTimesng…                                                                                                                                                      </span></td><td>1.089623e+18</td><td><span style=white-space:pre-wrap>{'username': 'bhimboh', 'displayname': 'Omo Iya Ibeji Meji', 'id': 126135174, 'description': 'your plug for coupling and installation of trendy window blinds. #LFC fan of the highest order, mad lover of soccer.', 'rawDescription': 'your plug for coupling and installation of trendy window blinds. #LFC fan of the highest order, mad lover of soccer.', 'descriptionUrls': [], 'verified': False, 'created': datetime.datetime(2010, 3, 24, 23, 14, 16, tzinfo=datetime.timezone.utc), 'followersCount': 1114, 'friendsCount': 2004, 'statusesCount': 32982, 'favouritesCount': 11436, 'listedCount': 8, 'mediaCount': 265, 'location': 'Ibadan, Lagos Nigeria', 'protected': False, 'linkUrl': None, 'linkTcourl': None, 'profileImageUrl': 'https://pbs.twimg.com/profile_images/1348957414914195456/dhaU3PPH_normal.jpg', 'profileBannerUrl': 'https://pbs.twimg.com/profile_banners/126135174/1547229121'}                                                                                                                                                     </span></td><td>['https://twitter.com/PremiumTimesng/status/1089596535103471619']</td><td>['https://t.co/9YjogrqRsy']</td><td>0</td><td>⋯</td><td>en</td><td>&lt;a href=\"http://twitter.com/download/android\" rel=\"nofollow\"&gt;Twitter for Android&lt;/a&gt;</td><td>http://twitter.com/download/android</td><td>Twitter for Android</td><td></td><td>NA</td><td><span style=white-space:pre-wrap>{'url': 'https://twitter.com/PremiumTimesng/status/1089596535103471619', 'date': datetime.datetime(2019, 1, 27, 18, 50, 32, tzinfo=datetime.timezone.utc), 'content': 'BREAKING: IGP Adamu retires all DIGs – Sources https://t.co/J3azr2TzwQ', 'renderedContent': 'BREAKING: IGP Adamu retires all DIGs – Sources goo.gl/z3dEuU', 'id': 1089596535103471619, 'user': {'username': 'PremiumTimesng', 'displayname': 'Premium Times', 'id': 373978904, 'description': 'A multimedia Nigerian publication based in Abuja delivering fresh, factual &amp; reliable news', 'rawDescription': 'A multimedia Nigerian publication based in Abuja delivering fresh, factual &amp; reliable news', 'descriptionUrls': [], 'verified': True, 'created': datetime.datetime(2011, 9, 15, 14, 8, 13, tzinfo=datetime.timezone.utc), 'followersCount': 1660827, 'friendsCount': 319, 'statusesCount': 298164, 'favouritesCount': 961, 'listedCount': 1191, 'mediaCount': 14224, 'location': 'Abuja, Nigeria', 'protected': False, 'linkUrl': 'http://www.premiumtimesng.com', 'linkTcourl': 'http://t.co/u2eUV6yuAw', 'profileImageUrl': 'https://pbs.twimg.com/profile_images/913362770019651585/IcX8YFB1_normal.jpg', 'profileBannerUrl': 'https://pbs.twimg.com/profile_banners/373978904/1398963112'}, 'outlinks': ['https://goo.gl/z3dEuU'], 'tcooutlinks': ['https://t.co/J3azr2TzwQ'], 'replyCount': 40, 'retweetCount': 341, 'likeCount': 326, 'quoteCount': 83, 'conversationId': 1089596535103471619, 'lang': 'en', 'source': '&lt;a href=\"http://www.premiumtimesng.com\" rel=\"nofollow\"&gt;Premium Times Main&lt;/a&gt;', 'sourceUrl': 'http://www.premiumtimesng.com', 'sourceLabel': 'Premium Times Main', 'media': None, 'retweetedTweet': None, 'quotedTweet': None, 'mentionedUsers': None, 'coordinates': None, 'place': None}                                                                                                                                                                                                                                                                                                                                                                                                                                                                                                                                                                                                                                                                                                                                                                                                                                                                               </span></td><td><span style=white-space:pre-wrap>                                                                                                                                                                                                                                                                                                                                                                                                                                                                                                                                                                                                                                                                                                                                                                                                                                                                                                                                                                                                                                                                                                                                                                                                                                                                                                                                                                                               </span></td><td></td><td></td></tr>\n",
       "\t<tr><th scope=row>2</th><td>1</td><td>https://twitter.com/zboyahmed03/status/1089611778298990592 </td><td>2019-01-27 19:51:06+00:00</td><td><span style=white-space:pre-wrap>My nigga said if he feels the presence of SARS near by his head starts aching 😂😂 #criminal @MAINHeavyBrain  #EndSARS                                                                                                                                                                                          </span></td><td><span style=white-space:pre-wrap>My nigga said if he feels the presence of SARS near by his head starts aching 😂😂 #criminal @MAINHeavyBrain  #EndSARS                                                                                                                                                                                              </span></td><td>1.089612e+18</td><td><span style=white-space:pre-wrap>{'username': 'zboyahmed03', 'displayname': '💯 Gods Very Own', 'id': 826317779989049346, 'description': 'I’m not gna follow you chase clout.  I’m too busy chasing money. Clout won’t put food on my table.', 'rawDescription': 'I’m not gna follow you chase clout.  I’m too busy chasing money. Clout won’t put food on my table.', 'descriptionUrls': [], 'verified': False, 'created': datetime.datetime(2017, 1, 31, 6, 34, 45, tzinfo=datetime.timezone.utc), 'followersCount': 576, 'friendsCount': 557, 'statusesCount': 4967, 'favouritesCount': 13024, 'listedCount': 0, 'mediaCount': 220, 'location': 'Federal Capital Territory, Nig', 'protected': False, 'linkUrl': 'http://www.instagram.com/zboy_ahmed/', 'linkTcourl': 'https://t.co/TurPMjMUUH', 'profileImageUrl': 'https://pbs.twimg.com/profile_images/1376950324112547841/nN7svyu4_normal.jpg', 'profileBannerUrl': 'https://pbs.twimg.com/profile_banners/826317779989049346/1591567847'}                                                                                                         </span></td><td><span style=white-space:pre-wrap>[]                                                               </span></td><td><span style=white-space:pre-wrap>[]                         </span></td><td>0</td><td>⋯</td><td>en</td><td>&lt;a href=\"http://twitter.com/download/android\" rel=\"nofollow\"&gt;Twitter for Android&lt;/a&gt;</td><td>http://twitter.com/download/android</td><td>Twitter for Android</td><td></td><td>NA</td><td><span style=white-space:pre-wrap>                                                                                                                                                                                                                                                                                                                                                                                                                                                                                                                                                                                                                                                                                                                                                                                                                                                                                                                                                                                                                                                                                                                                                                                                                                                                                                                                                                                                                                                                                                                                                                                                                                                                                                                                                                                                                                                                                                                                                                                                                                                                                                                                                                                                                                                                                                                                                                                                                                                                                                                                                                                                                                                                                             </span></td><td><span style=white-space:pre-wrap>[{'username': 'MAINHeavyBrain', 'displayname': 'Heavy Brain', 'id': 885829634985742337, 'description': None, 'rawDescription': None, 'descriptionUrls': None, 'verified': None, 'created': None, 'followersCount': None, 'friendsCount': None, 'statusesCount': None, 'favouritesCount': None, 'listedCount': None, 'mediaCount': None, 'location': None, 'protected': None, 'linkUrl': None, 'linkTcourl': None, 'profileImageUrl': None, 'profileBannerUrl': None}]                                                                                                                                                                                                                                                                                                                                                                                                                                                                                                                                                                                                                                                                                                                                                                                                                                                                                                                          </span></td><td></td><td></td></tr>\n",
       "\t<tr><th scope=row>3</th><td>2</td><td>https://twitter.com/aojohnson_me/status/1089601398461874177</td><td>2019-01-27 19:09:51+00:00</td><td>Nigerian Youths it's time to take #EndSARS campaign off Twitter into the Streets...Engage @PoliceNG Headquarters and @NGRSenate base in serious protest, go as far boycotting #2019Elections until all these tyrants in govt acknowledge the superior power of d electorates @channelstv https://t.co/bACGh47uWq</td><td>Nigerian Youths it's time to take #EndSARS campaign off Twitter into the Streets...Engage @PoliceNG Headquarters and @NGRSenate base in serious protest, go as far boycotting #2019Elections until all these tyrants in govt acknowledge the superior power of d electorates @channelstv twitter.com/segalink/statu…</td><td>1.089601e+18</td><td>{'username': 'aojohnson_me', 'displayname': 'Akinola O. Johnson -A.O.J™ (FIMC, CMC, ASCE, PMI)', 'id': 425879478, 'description': '| Vice President @intelsoftsyste1 | Project Consultant | Humanitarian Support | Blue-Sky-Thinker | Finance Engineering Analyst | Maritime Support | #AoJ |', 'rawDescription': '| Vice President @intelsoftsyste1 | Project Consultant | Humanitarian Support | Blue-Sky-Thinker | Finance Engineering Analyst | Maritime Support | #AoJ |', 'descriptionUrls': [], 'verified': False, 'created': datetime.datetime(2011, 12, 1, 15, 10, 23, tzinfo=datetime.timezone.utc), 'followersCount': 679, 'friendsCount': 1077, 'statusesCount': 1060, 'favouritesCount': 1934, 'listedCount': 0, 'mediaCount': 50, 'location': 'Lagos, Nigeria', 'protected': False, 'linkUrl': 'http://www.aoj-foundation.org', 'linkTcourl': 'https://t.co/VBg04Sf9kz', 'profileImageUrl': 'https://pbs.twimg.com/profile_images/1192505807100882944/PLDcCDMP_normal.jpg', 'profileBannerUrl': 'https://pbs.twimg.com/profile_banners/425879478/1581967618'}</td><td><span style=white-space:pre-wrap>['https://twitter.com/segalink/status/1089579035733225472']      </span></td><td>['https://t.co/bACGh47uWq']</td><td>0</td><td>⋯</td><td>en</td><td>&lt;a href=\"http://twitter.com/download/android\" rel=\"nofollow\"&gt;Twitter for Android&lt;/a&gt;</td><td>http://twitter.com/download/android</td><td>Twitter for Android</td><td></td><td>NA</td><td>{'url': 'https://twitter.com/segalink/status/1089579035733225472', 'date': datetime.datetime(2019, 1, 27, 17, 41, tzinfo=datetime.timezone.utc), 'content': 'This is crazy. @PoliceNG I believe you can see the torrential crimes of SARS springing up from the pronouncement of the New IGP? #EndSARS #ReformPoliceNG https://t.co/n1wuwdh1Km', 'renderedContent': 'This is crazy. @PoliceNG I believe you can see the torrential crimes of SARS springing up from the pronouncement of the New IGP? #EndSARS #ReformPoliceNG twitter.com/Akin2018_/stat…', 'id': 1089579035733225472, 'user': {'username': 'segalink', 'displayname': \"SEGA L'éveilleur®🚨\", 'id': 14879097, 'description': 'Life, Leadership &amp; Legacy encapsulated in Love. ‘Segun Awosanya® CEO @AliensmediaComm Founder @SIAF_ng Convener #EndSARS #BM @IPSPRorg #RP #Bitcoin', 'rawDescription': 'Life, Leadership &amp; Legacy encapsulated in Love. ‘Segun Awosanya® CEO @AliensmediaComm Founder @SIAF_ng Convener #EndSARS #BM @IPSPRorg #RP #Bitcoin', 'descriptionUrls': [], 'verified': False, 'created': datetime.datetime(2008, 5, 23, 8, 3, 32, tzinfo=datetime.timezone.utc), 'followersCount': 789568, 'friendsCount': 28826, 'statusesCount': 404887, 'favouritesCount': 345528, 'listedCount': 723, 'mediaCount': 15164, 'location': 'SEGATRON HQ LOS ABV NGR UAE FR', 'protected': False, 'linkUrl': 'http://www.segalink.com/p/about.html?m=0', 'linkTcourl': 'https://t.co/0ftE4eEpPO', 'profileImageUrl': 'https://pbs.twimg.com/profile_images/1209488185144811523/5ESaogp2_normal.jpg', 'profileBannerUrl': 'https://pbs.twimg.com/profile_banners/14879097/1602125660'}, 'outlinks': ['https://twitter.com/Akin2018_/status/1089577932404781057'], 'tcooutlinks': ['https://t.co/n1wuwdh1Km'], 'replyCount': 14, 'retweetCount': 302, 'likeCount': 177, 'quoteCount': 6, 'conversationId': 1089579035733225472, 'lang': 'en', 'source': '&lt;a href=\"http://twitter.com/#!/download/ipad\" rel=\"nofollow\"&gt;Twitter for iPad&lt;/a&gt;', 'sourceUrl': 'http://twitter.com/#!/download/ipad', 'sourceLabel': 'Twitter for iPad', 'media': None, 'retweetedTweet': None, 'quotedTweet': None, 'mentionedUsers': [{'username': 'PoliceNG', 'displayname': 'Nigeria Police Force', 'id': 470130723, 'description': None, 'rawDescription': None, 'descriptionUrls': None, 'verified': None, 'created': None, 'followersCount': None, 'friendsCount': None, 'statusesCount': None, 'favouritesCount': None, 'listedCount': None, 'mediaCount': None, 'location': None, 'protected': None, 'linkUrl': None, 'linkTcourl': None, 'profileImageUrl': None, 'profileBannerUrl': None}], 'coordinates': None, 'place': None}</td><td>[{'username': 'PoliceNG', 'displayname': 'Nigeria Police Force', 'id': 470130723, 'description': None, 'rawDescription': None, 'descriptionUrls': None, 'verified': None, 'created': None, 'followersCount': None, 'friendsCount': None, 'statusesCount': None, 'favouritesCount': None, 'listedCount': None, 'mediaCount': None, 'location': None, 'protected': None, 'linkUrl': None, 'linkTcourl': None, 'profileImageUrl': None, 'profileBannerUrl': None}, {'username': 'NGRSenate', 'displayname': 'The Nigerian Senate', 'id': 3440200642, 'description': None, 'rawDescription': None, 'descriptionUrls': None, 'verified': None, 'created': None, 'followersCount': None, 'friendsCount': None, 'statusesCount': None, 'favouritesCount': None, 'listedCount': None, 'mediaCount': None, 'location': None, 'protected': None, 'linkUrl': None, 'linkTcourl': None, 'profileImageUrl': None, 'profileBannerUrl': None}, {'username': 'channelstv', 'displayname': 'Channels Television', 'id': 125346858, 'description': None, 'rawDescription': None, 'descriptionUrls': None, 'verified': None, 'created': None, 'followersCount': None, 'friendsCount': None, 'statusesCount': None, 'favouritesCount': None, 'listedCount': None, 'mediaCount': None, 'location': None, 'protected': None, 'linkUrl': None, 'linkTcourl': None, 'profileImageUrl': None, 'profileBannerUrl': None}]</td><td></td><td></td></tr>\n",
       "</tbody>\n",
       "</table>\n"
      ],
      "text/latex": [
       "A data.frame: 3 × 24\n",
       "\\begin{tabular}{r|lllllllllllllllllllll}\n",
       "  & X & url & date & content & renderedContent & id & user & outlinks & tcooutlinks & replyCount & ⋯ & lang & source & sourceUrl & sourceLabel & media & retweetedTweet & quotedTweet & mentionedUsers & coordinates & place\\\\\n",
       "  & <int> & <chr> & <chr> & <chr> & <chr> & <dbl> & <chr> & <chr> & <chr> & <int> & ⋯ & <chr> & <chr> & <chr> & <chr> & <chr> & <lgl> & <chr> & <chr> & <chr> & <chr>\\\\\n",
       "\\hline\n",
       "\t1 & 0 & https://twitter.com/bhimboh/status/1089622900494270466      & 2019-01-27 20:35:18+00:00 & Leave the DIG'S please it is the cancer on our flesh, arm robbers in police uniforms you should help us clear of the road \\#EndSARS https://t.co/9YjogrqRsy                                                                                                                                                       & Leave the DIG'S please it is the cancer on our flesh, arm robbers in police uniforms you should help us clear of the road \\#EndSARS twitter.com/PremiumTimesng…                                                                                                                                                       & 1.089623e+18 & \\{'username': 'bhimboh', 'displayname': 'Omo Iya Ibeji Meji', 'id': 126135174, 'description': 'your plug for coupling and installation of trendy window blinds. \\#LFC fan of the highest order, mad lover of soccer.', 'rawDescription': 'your plug for coupling and installation of trendy window blinds. \\#LFC fan of the highest order, mad lover of soccer.', 'descriptionUrls': {[}{]}, 'verified': False, 'created': datetime.datetime(2010, 3, 24, 23, 14, 16, tzinfo=datetime.timezone.utc), 'followersCount': 1114, 'friendsCount': 2004, 'statusesCount': 32982, 'favouritesCount': 11436, 'listedCount': 8, 'mediaCount': 265, 'location': 'Ibadan, Lagos Nigeria', 'protected': False, 'linkUrl': None, 'linkTcourl': None, 'profileImageUrl': 'https://pbs.twimg.com/profile\\_images/1348957414914195456/dhaU3PPH\\_normal.jpg', 'profileBannerUrl': 'https://pbs.twimg.com/profile\\_banners/126135174/1547229121'\\}                                                                                                                                                      & {[}'https://twitter.com/PremiumTimesng/status/1089596535103471619'{]} & {[}'https://t.co/9YjogrqRsy'{]} & 0 & ⋯ & en & <a href=\"http://twitter.com/download/android\" rel=\"nofollow\">Twitter for Android</a> & http://twitter.com/download/android & Twitter for Android &  & NA & \\{'url': 'https://twitter.com/PremiumTimesng/status/1089596535103471619', 'date': datetime.datetime(2019, 1, 27, 18, 50, 32, tzinfo=datetime.timezone.utc), 'content': 'BREAKING: IGP Adamu retires all DIGs – Sources https://t.co/J3azr2TzwQ', 'renderedContent': 'BREAKING: IGP Adamu retires all DIGs – Sources goo.gl/z3dEuU', 'id': 1089596535103471619, 'user': \\{'username': 'PremiumTimesng', 'displayname': 'Premium Times', 'id': 373978904, 'description': 'A multimedia Nigerian publication based in Abuja delivering fresh, factual \\& reliable news', 'rawDescription': 'A multimedia Nigerian publication based in Abuja delivering fresh, factual \\& reliable news', 'descriptionUrls': {[}{]}, 'verified': True, 'created': datetime.datetime(2011, 9, 15, 14, 8, 13, tzinfo=datetime.timezone.utc), 'followersCount': 1660827, 'friendsCount': 319, 'statusesCount': 298164, 'favouritesCount': 961, 'listedCount': 1191, 'mediaCount': 14224, 'location': 'Abuja, Nigeria', 'protected': False, 'linkUrl': 'http://www.premiumtimesng.com', 'linkTcourl': 'http://t.co/u2eUV6yuAw', 'profileImageUrl': 'https://pbs.twimg.com/profile\\_images/913362770019651585/IcX8YFB1\\_normal.jpg', 'profileBannerUrl': 'https://pbs.twimg.com/profile\\_banners/373978904/1398963112'\\}, 'outlinks': {[}'https://goo.gl/z3dEuU'{]}, 'tcooutlinks': {[}'https://t.co/J3azr2TzwQ'{]}, 'replyCount': 40, 'retweetCount': 341, 'likeCount': 326, 'quoteCount': 83, 'conversationId': 1089596535103471619, 'lang': 'en', 'source': '<a href=\"http://www.premiumtimesng.com\" rel=\"nofollow\">Premium Times Main</a>', 'sourceUrl': 'http://www.premiumtimesng.com', 'sourceLabel': 'Premium Times Main', 'media': None, 'retweetedTweet': None, 'quotedTweet': None, 'mentionedUsers': None, 'coordinates': None, 'place': None\\}                                                                                                                                                                                                                                                                                                                                                                                                                                                                                                                                                                                                                                                                                                                                                                                                                                                                                &                                                                                                                                                                                                                                                                                                                                                                                                                                                                                                                                                                                                                                                                                                                                                                                                                                                                                                                                                                                                                                                                                                                                                                                                                                                                                                                                                                                                 &  & \\\\\n",
       "\t2 & 1 & https://twitter.com/zboyahmed03/status/1089611778298990592  & 2019-01-27 19:51:06+00:00 & My nigga said if he feels the presence of SARS near by his head starts aching 😂😂 \\#criminal @MAINHeavyBrain  \\#EndSARS                                                                                                                                                                                           & My nigga said if he feels the presence of SARS near by his head starts aching 😂😂 \\#criminal @MAINHeavyBrain  \\#EndSARS                                                                                                                                                                                               & 1.089612e+18 & \\{'username': 'zboyahmed03', 'displayname': '💯 Gods Very Own', 'id': 826317779989049346, 'description': 'I’m not gna follow you chase clout.  I’m too busy chasing money. Clout won’t put food on my table.', 'rawDescription': 'I’m not gna follow you chase clout.  I’m too busy chasing money. Clout won’t put food on my table.', 'descriptionUrls': {[}{]}, 'verified': False, 'created': datetime.datetime(2017, 1, 31, 6, 34, 45, tzinfo=datetime.timezone.utc), 'followersCount': 576, 'friendsCount': 557, 'statusesCount': 4967, 'favouritesCount': 13024, 'listedCount': 0, 'mediaCount': 220, 'location': 'Federal Capital Territory, Nig', 'protected': False, 'linkUrl': 'http://www.instagram.com/zboy\\_ahmed/', 'linkTcourl': 'https://t.co/TurPMjMUUH', 'profileImageUrl': 'https://pbs.twimg.com/profile\\_images/1376950324112547841/nN7svyu4\\_normal.jpg', 'profileBannerUrl': 'https://pbs.twimg.com/profile\\_banners/826317779989049346/1591567847'\\}                                                                                                          & {[}{]}                                                                & {[}{]}                          & 0 & ⋯ & en & <a href=\"http://twitter.com/download/android\" rel=\"nofollow\">Twitter for Android</a> & http://twitter.com/download/android & Twitter for Android &  & NA &                                                                                                                                                                                                                                                                                                                                                                                                                                                                                                                                                                                                                                                                                                                                                                                                                                                                                                                                                                                                                                                                                                                                                                                                                                                                                                                                                                                                                                                                                                                                                                                                                                                                                                                                                                                                                                                                                                                                                                                                                                                                                                                                                                                                                                                                                                                                                                                                                                                                                                                                                                                                                                                                                               & {[}\\{'username': 'MAINHeavyBrain', 'displayname': 'Heavy Brain', 'id': 885829634985742337, 'description': None, 'rawDescription': None, 'descriptionUrls': None, 'verified': None, 'created': None, 'followersCount': None, 'friendsCount': None, 'statusesCount': None, 'favouritesCount': None, 'listedCount': None, 'mediaCount': None, 'location': None, 'protected': None, 'linkUrl': None, 'linkTcourl': None, 'profileImageUrl': None, 'profileBannerUrl': None\\}{]}                                                                                                                                                                                                                                                                                                                                                                                                                                                                                                                                                                                                                                                                                                                                                                                                                                                                                                                           &  & \\\\\n",
       "\t3 & 2 & https://twitter.com/aojohnson\\_me/status/1089601398461874177 & 2019-01-27 19:09:51+00:00 & Nigerian Youths it's time to take \\#EndSARS campaign off Twitter into the Streets...Engage @PoliceNG Headquarters and @NGRSenate base in serious protest, go as far boycotting \\#2019Elections until all these tyrants in govt acknowledge the superior power of d electorates @channelstv https://t.co/bACGh47uWq & Nigerian Youths it's time to take \\#EndSARS campaign off Twitter into the Streets...Engage @PoliceNG Headquarters and @NGRSenate base in serious protest, go as far boycotting \\#2019Elections until all these tyrants in govt acknowledge the superior power of d electorates @channelstv twitter.com/segalink/statu… & 1.089601e+18 & \\{'username': 'aojohnson\\_me', 'displayname': 'Akinola O. Johnson -A.O.J™ (FIMC, CMC, ASCE, PMI)', 'id': 425879478, 'description': '\\textbar{} Vice President @intelsoftsyste1 \\textbar{} Project Consultant \\textbar{} Humanitarian Support \\textbar{} Blue-Sky-Thinker \\textbar{} Finance Engineering Analyst \\textbar{} Maritime Support \\textbar{} \\#AoJ \\textbar{}', 'rawDescription': '\\textbar{} Vice President @intelsoftsyste1 \\textbar{} Project Consultant \\textbar{} Humanitarian Support \\textbar{} Blue-Sky-Thinker \\textbar{} Finance Engineering Analyst \\textbar{} Maritime Support \\textbar{} \\#AoJ \\textbar{}', 'descriptionUrls': {[}{]}, 'verified': False, 'created': datetime.datetime(2011, 12, 1, 15, 10, 23, tzinfo=datetime.timezone.utc), 'followersCount': 679, 'friendsCount': 1077, 'statusesCount': 1060, 'favouritesCount': 1934, 'listedCount': 0, 'mediaCount': 50, 'location': 'Lagos, Nigeria', 'protected': False, 'linkUrl': 'http://www.aoj-foundation.org', 'linkTcourl': 'https://t.co/VBg04Sf9kz', 'profileImageUrl': 'https://pbs.twimg.com/profile\\_images/1192505807100882944/PLDcCDMP\\_normal.jpg', 'profileBannerUrl': 'https://pbs.twimg.com/profile\\_banners/425879478/1581967618'\\} & {[}'https://twitter.com/segalink/status/1089579035733225472'{]}       & {[}'https://t.co/bACGh47uWq'{]} & 0 & ⋯ & en & <a href=\"http://twitter.com/download/android\" rel=\"nofollow\">Twitter for Android</a> & http://twitter.com/download/android & Twitter for Android &  & NA & \\{'url': 'https://twitter.com/segalink/status/1089579035733225472', 'date': datetime.datetime(2019, 1, 27, 17, 41, tzinfo=datetime.timezone.utc), 'content': 'This is crazy. @PoliceNG I believe you can see the torrential crimes of SARS springing up from the pronouncement of the New IGP? \\#EndSARS \\#ReformPoliceNG https://t.co/n1wuwdh1Km', 'renderedContent': 'This is crazy. @PoliceNG I believe you can see the torrential crimes of SARS springing up from the pronouncement of the New IGP? \\#EndSARS \\#ReformPoliceNG twitter.com/Akin2018\\_/stat…', 'id': 1089579035733225472, 'user': \\{'username': 'segalink', 'displayname': \"SEGA L'éveilleur®🚨\", 'id': 14879097, 'description': 'Life, Leadership \\& Legacy encapsulated in Love. ‘Segun Awosanya® CEO @AliensmediaComm Founder @SIAF\\_ng Convener \\#EndSARS \\#BM @IPSPRorg \\#RP \\#Bitcoin', 'rawDescription': 'Life, Leadership \\& Legacy encapsulated in Love. ‘Segun Awosanya® CEO @AliensmediaComm Founder @SIAF\\_ng Convener \\#EndSARS \\#BM @IPSPRorg \\#RP \\#Bitcoin', 'descriptionUrls': {[}{]}, 'verified': False, 'created': datetime.datetime(2008, 5, 23, 8, 3, 32, tzinfo=datetime.timezone.utc), 'followersCount': 789568, 'friendsCount': 28826, 'statusesCount': 404887, 'favouritesCount': 345528, 'listedCount': 723, 'mediaCount': 15164, 'location': 'SEGATRON HQ LOS ABV NGR UAE FR', 'protected': False, 'linkUrl': 'http://www.segalink.com/p/about.html?m=0', 'linkTcourl': 'https://t.co/0ftE4eEpPO', 'profileImageUrl': 'https://pbs.twimg.com/profile\\_images/1209488185144811523/5ESaogp2\\_normal.jpg', 'profileBannerUrl': 'https://pbs.twimg.com/profile\\_banners/14879097/1602125660'\\}, 'outlinks': {[}'https://twitter.com/Akin2018\\_/status/1089577932404781057'{]}, 'tcooutlinks': {[}'https://t.co/n1wuwdh1Km'{]}, 'replyCount': 14, 'retweetCount': 302, 'likeCount': 177, 'quoteCount': 6, 'conversationId': 1089579035733225472, 'lang': 'en', 'source': '<a href=\"http://twitter.com/\\#!/download/ipad\" rel=\"nofollow\">Twitter for iPad</a>', 'sourceUrl': 'http://twitter.com/\\#!/download/ipad', 'sourceLabel': 'Twitter for iPad', 'media': None, 'retweetedTweet': None, 'quotedTweet': None, 'mentionedUsers': {[}\\{'username': 'PoliceNG', 'displayname': 'Nigeria Police Force', 'id': 470130723, 'description': None, 'rawDescription': None, 'descriptionUrls': None, 'verified': None, 'created': None, 'followersCount': None, 'friendsCount': None, 'statusesCount': None, 'favouritesCount': None, 'listedCount': None, 'mediaCount': None, 'location': None, 'protected': None, 'linkUrl': None, 'linkTcourl': None, 'profileImageUrl': None, 'profileBannerUrl': None\\}{]}, 'coordinates': None, 'place': None\\} & {[}\\{'username': 'PoliceNG', 'displayname': 'Nigeria Police Force', 'id': 470130723, 'description': None, 'rawDescription': None, 'descriptionUrls': None, 'verified': None, 'created': None, 'followersCount': None, 'friendsCount': None, 'statusesCount': None, 'favouritesCount': None, 'listedCount': None, 'mediaCount': None, 'location': None, 'protected': None, 'linkUrl': None, 'linkTcourl': None, 'profileImageUrl': None, 'profileBannerUrl': None\\}, \\{'username': 'NGRSenate', 'displayname': 'The Nigerian Senate', 'id': 3440200642, 'description': None, 'rawDescription': None, 'descriptionUrls': None, 'verified': None, 'created': None, 'followersCount': None, 'friendsCount': None, 'statusesCount': None, 'favouritesCount': None, 'listedCount': None, 'mediaCount': None, 'location': None, 'protected': None, 'linkUrl': None, 'linkTcourl': None, 'profileImageUrl': None, 'profileBannerUrl': None\\}, \\{'username': 'channelstv', 'displayname': 'Channels Television', 'id': 125346858, 'description': None, 'rawDescription': None, 'descriptionUrls': None, 'verified': None, 'created': None, 'followersCount': None, 'friendsCount': None, 'statusesCount': None, 'favouritesCount': None, 'listedCount': None, 'mediaCount': None, 'location': None, 'protected': None, 'linkUrl': None, 'linkTcourl': None, 'profileImageUrl': None, 'profileBannerUrl': None\\}{]} &  & \\\\\n",
       "\\end{tabular}\n"
      ],
      "text/markdown": [
       "\n",
       "A data.frame: 3 × 24\n",
       "\n",
       "| <!--/--> | X &lt;int&gt; | url &lt;chr&gt; | date &lt;chr&gt; | content &lt;chr&gt; | renderedContent &lt;chr&gt; | id &lt;dbl&gt; | user &lt;chr&gt; | outlinks &lt;chr&gt; | tcooutlinks &lt;chr&gt; | replyCount &lt;int&gt; | ⋯ ⋯ | lang &lt;chr&gt; | source &lt;chr&gt; | sourceUrl &lt;chr&gt; | sourceLabel &lt;chr&gt; | media &lt;chr&gt; | retweetedTweet &lt;lgl&gt; | quotedTweet &lt;chr&gt; | mentionedUsers &lt;chr&gt; | coordinates &lt;chr&gt; | place &lt;chr&gt; |\n",
       "|---|---|---|---|---|---|---|---|---|---|---|---|---|---|---|---|---|---|---|---|---|---|\n",
       "| 1 | 0 | https://twitter.com/bhimboh/status/1089622900494270466      | 2019-01-27 20:35:18+00:00 | Leave the DIG'S please it is the cancer on our flesh, arm robbers in police uniforms you should help us clear of the road #EndSARS https://t.co/9YjogrqRsy                                                                                                                                                       | Leave the DIG'S please it is the cancer on our flesh, arm robbers in police uniforms you should help us clear of the road #EndSARS twitter.com/PremiumTimesng…                                                                                                                                                       | 1.089623e+18 | {'username': 'bhimboh', 'displayname': 'Omo Iya Ibeji Meji', 'id': 126135174, 'description': 'your plug for coupling and installation of trendy window blinds. #LFC fan of the highest order, mad lover of soccer.', 'rawDescription': 'your plug for coupling and installation of trendy window blinds. #LFC fan of the highest order, mad lover of soccer.', 'descriptionUrls': [], 'verified': False, 'created': datetime.datetime(2010, 3, 24, 23, 14, 16, tzinfo=datetime.timezone.utc), 'followersCount': 1114, 'friendsCount': 2004, 'statusesCount': 32982, 'favouritesCount': 11436, 'listedCount': 8, 'mediaCount': 265, 'location': 'Ibadan, Lagos Nigeria', 'protected': False, 'linkUrl': None, 'linkTcourl': None, 'profileImageUrl': 'https://pbs.twimg.com/profile_images/1348957414914195456/dhaU3PPH_normal.jpg', 'profileBannerUrl': 'https://pbs.twimg.com/profile_banners/126135174/1547229121'}                                                                                                                                                      | ['https://twitter.com/PremiumTimesng/status/1089596535103471619'] | ['https://t.co/9YjogrqRsy'] | 0 | ⋯ | en | &lt;a href=\"http://twitter.com/download/android\" rel=\"nofollow\"&gt;Twitter for Android&lt;/a&gt; | http://twitter.com/download/android | Twitter for Android | <!----> | NA | {'url': 'https://twitter.com/PremiumTimesng/status/1089596535103471619', 'date': datetime.datetime(2019, 1, 27, 18, 50, 32, tzinfo=datetime.timezone.utc), 'content': 'BREAKING: IGP Adamu retires all DIGs – Sources https://t.co/J3azr2TzwQ', 'renderedContent': 'BREAKING: IGP Adamu retires all DIGs – Sources goo.gl/z3dEuU', 'id': 1089596535103471619, 'user': {'username': 'PremiumTimesng', 'displayname': 'Premium Times', 'id': 373978904, 'description': 'A multimedia Nigerian publication based in Abuja delivering fresh, factual &amp; reliable news', 'rawDescription': 'A multimedia Nigerian publication based in Abuja delivering fresh, factual &amp; reliable news', 'descriptionUrls': [], 'verified': True, 'created': datetime.datetime(2011, 9, 15, 14, 8, 13, tzinfo=datetime.timezone.utc), 'followersCount': 1660827, 'friendsCount': 319, 'statusesCount': 298164, 'favouritesCount': 961, 'listedCount': 1191, 'mediaCount': 14224, 'location': 'Abuja, Nigeria', 'protected': False, 'linkUrl': 'http://www.premiumtimesng.com', 'linkTcourl': 'http://t.co/u2eUV6yuAw', 'profileImageUrl': 'https://pbs.twimg.com/profile_images/913362770019651585/IcX8YFB1_normal.jpg', 'profileBannerUrl': 'https://pbs.twimg.com/profile_banners/373978904/1398963112'}, 'outlinks': ['https://goo.gl/z3dEuU'], 'tcooutlinks': ['https://t.co/J3azr2TzwQ'], 'replyCount': 40, 'retweetCount': 341, 'likeCount': 326, 'quoteCount': 83, 'conversationId': 1089596535103471619, 'lang': 'en', 'source': '&lt;a href=\"http://www.premiumtimesng.com\" rel=\"nofollow\"&gt;Premium Times Main&lt;/a&gt;', 'sourceUrl': 'http://www.premiumtimesng.com', 'sourceLabel': 'Premium Times Main', 'media': None, 'retweetedTweet': None, 'quotedTweet': None, 'mentionedUsers': None, 'coordinates': None, 'place': None}                                                                                                                                                                                                                                                                                                                                                                                                                                                                                                                                                                                                                                                                                                                                                                                                                                                                                | <!----> | <!----> | <!----> |\n",
       "| 2 | 1 | https://twitter.com/zboyahmed03/status/1089611778298990592  | 2019-01-27 19:51:06+00:00 | My nigga said if he feels the presence of SARS near by his head starts aching 😂😂 #criminal @MAINHeavyBrain  #EndSARS                                                                                                                                                                                           | My nigga said if he feels the presence of SARS near by his head starts aching 😂😂 #criminal @MAINHeavyBrain  #EndSARS                                                                                                                                                                                               | 1.089612e+18 | {'username': 'zboyahmed03', 'displayname': '💯 Gods Very Own', 'id': 826317779989049346, 'description': 'I’m not gna follow you chase clout.  I’m too busy chasing money. Clout won’t put food on my table.', 'rawDescription': 'I’m not gna follow you chase clout.  I’m too busy chasing money. Clout won’t put food on my table.', 'descriptionUrls': [], 'verified': False, 'created': datetime.datetime(2017, 1, 31, 6, 34, 45, tzinfo=datetime.timezone.utc), 'followersCount': 576, 'friendsCount': 557, 'statusesCount': 4967, 'favouritesCount': 13024, 'listedCount': 0, 'mediaCount': 220, 'location': 'Federal Capital Territory, Nig', 'protected': False, 'linkUrl': 'http://www.instagram.com/zboy_ahmed/', 'linkTcourl': 'https://t.co/TurPMjMUUH', 'profileImageUrl': 'https://pbs.twimg.com/profile_images/1376950324112547841/nN7svyu4_normal.jpg', 'profileBannerUrl': 'https://pbs.twimg.com/profile_banners/826317779989049346/1591567847'}                                                                                                          | []                                                                | []                          | 0 | ⋯ | en | &lt;a href=\"http://twitter.com/download/android\" rel=\"nofollow\"&gt;Twitter for Android&lt;/a&gt; | http://twitter.com/download/android | Twitter for Android | <!----> | NA | <!----> | [{'username': 'MAINHeavyBrain', 'displayname': 'Heavy Brain', 'id': 885829634985742337, 'description': None, 'rawDescription': None, 'descriptionUrls': None, 'verified': None, 'created': None, 'followersCount': None, 'friendsCount': None, 'statusesCount': None, 'favouritesCount': None, 'listedCount': None, 'mediaCount': None, 'location': None, 'protected': None, 'linkUrl': None, 'linkTcourl': None, 'profileImageUrl': None, 'profileBannerUrl': None}]                                                                                                                                                                                                                                                                                                                                                                                                                                                                                                                                                                                                                                                                                                                                                                                                                                                                                                                           | <!----> | <!----> |\n",
       "| 3 | 2 | https://twitter.com/aojohnson_me/status/1089601398461874177 | 2019-01-27 19:09:51+00:00 | Nigerian Youths it's time to take #EndSARS campaign off Twitter into the Streets...Engage @PoliceNG Headquarters and @NGRSenate base in serious protest, go as far boycotting #2019Elections until all these tyrants in govt acknowledge the superior power of d electorates @channelstv https://t.co/bACGh47uWq | Nigerian Youths it's time to take #EndSARS campaign off Twitter into the Streets...Engage @PoliceNG Headquarters and @NGRSenate base in serious protest, go as far boycotting #2019Elections until all these tyrants in govt acknowledge the superior power of d electorates @channelstv twitter.com/segalink/statu… | 1.089601e+18 | {'username': 'aojohnson_me', 'displayname': 'Akinola O. Johnson -A.O.J™ (FIMC, CMC, ASCE, PMI)', 'id': 425879478, 'description': '| Vice President @intelsoftsyste1 | Project Consultant | Humanitarian Support | Blue-Sky-Thinker | Finance Engineering Analyst | Maritime Support | #AoJ |', 'rawDescription': '| Vice President @intelsoftsyste1 | Project Consultant | Humanitarian Support | Blue-Sky-Thinker | Finance Engineering Analyst | Maritime Support | #AoJ |', 'descriptionUrls': [], 'verified': False, 'created': datetime.datetime(2011, 12, 1, 15, 10, 23, tzinfo=datetime.timezone.utc), 'followersCount': 679, 'friendsCount': 1077, 'statusesCount': 1060, 'favouritesCount': 1934, 'listedCount': 0, 'mediaCount': 50, 'location': 'Lagos, Nigeria', 'protected': False, 'linkUrl': 'http://www.aoj-foundation.org', 'linkTcourl': 'https://t.co/VBg04Sf9kz', 'profileImageUrl': 'https://pbs.twimg.com/profile_images/1192505807100882944/PLDcCDMP_normal.jpg', 'profileBannerUrl': 'https://pbs.twimg.com/profile_banners/425879478/1581967618'} | ['https://twitter.com/segalink/status/1089579035733225472']       | ['https://t.co/bACGh47uWq'] | 0 | ⋯ | en | &lt;a href=\"http://twitter.com/download/android\" rel=\"nofollow\"&gt;Twitter for Android&lt;/a&gt; | http://twitter.com/download/android | Twitter for Android | <!----> | NA | {'url': 'https://twitter.com/segalink/status/1089579035733225472', 'date': datetime.datetime(2019, 1, 27, 17, 41, tzinfo=datetime.timezone.utc), 'content': 'This is crazy. @PoliceNG I believe you can see the torrential crimes of SARS springing up from the pronouncement of the New IGP? #EndSARS #ReformPoliceNG https://t.co/n1wuwdh1Km', 'renderedContent': 'This is crazy. @PoliceNG I believe you can see the torrential crimes of SARS springing up from the pronouncement of the New IGP? #EndSARS #ReformPoliceNG twitter.com/Akin2018_/stat…', 'id': 1089579035733225472, 'user': {'username': 'segalink', 'displayname': \"SEGA L'éveilleur®🚨\", 'id': 14879097, 'description': 'Life, Leadership &amp; Legacy encapsulated in Love. ‘Segun Awosanya® CEO @AliensmediaComm Founder @SIAF_ng Convener #EndSARS #BM @IPSPRorg #RP #Bitcoin', 'rawDescription': 'Life, Leadership &amp; Legacy encapsulated in Love. ‘Segun Awosanya® CEO @AliensmediaComm Founder @SIAF_ng Convener #EndSARS #BM @IPSPRorg #RP #Bitcoin', 'descriptionUrls': [], 'verified': False, 'created': datetime.datetime(2008, 5, 23, 8, 3, 32, tzinfo=datetime.timezone.utc), 'followersCount': 789568, 'friendsCount': 28826, 'statusesCount': 404887, 'favouritesCount': 345528, 'listedCount': 723, 'mediaCount': 15164, 'location': 'SEGATRON HQ LOS ABV NGR UAE FR', 'protected': False, 'linkUrl': 'http://www.segalink.com/p/about.html?m=0', 'linkTcourl': 'https://t.co/0ftE4eEpPO', 'profileImageUrl': 'https://pbs.twimg.com/profile_images/1209488185144811523/5ESaogp2_normal.jpg', 'profileBannerUrl': 'https://pbs.twimg.com/profile_banners/14879097/1602125660'}, 'outlinks': ['https://twitter.com/Akin2018_/status/1089577932404781057'], 'tcooutlinks': ['https://t.co/n1wuwdh1Km'], 'replyCount': 14, 'retweetCount': 302, 'likeCount': 177, 'quoteCount': 6, 'conversationId': 1089579035733225472, 'lang': 'en', 'source': '&lt;a href=\"http://twitter.com/#!/download/ipad\" rel=\"nofollow\"&gt;Twitter for iPad&lt;/a&gt;', 'sourceUrl': 'http://twitter.com/#!/download/ipad', 'sourceLabel': 'Twitter for iPad', 'media': None, 'retweetedTweet': None, 'quotedTweet': None, 'mentionedUsers': [{'username': 'PoliceNG', 'displayname': 'Nigeria Police Force', 'id': 470130723, 'description': None, 'rawDescription': None, 'descriptionUrls': None, 'verified': None, 'created': None, 'followersCount': None, 'friendsCount': None, 'statusesCount': None, 'favouritesCount': None, 'listedCount': None, 'mediaCount': None, 'location': None, 'protected': None, 'linkUrl': None, 'linkTcourl': None, 'profileImageUrl': None, 'profileBannerUrl': None}], 'coordinates': None, 'place': None} | [{'username': 'PoliceNG', 'displayname': 'Nigeria Police Force', 'id': 470130723, 'description': None, 'rawDescription': None, 'descriptionUrls': None, 'verified': None, 'created': None, 'followersCount': None, 'friendsCount': None, 'statusesCount': None, 'favouritesCount': None, 'listedCount': None, 'mediaCount': None, 'location': None, 'protected': None, 'linkUrl': None, 'linkTcourl': None, 'profileImageUrl': None, 'profileBannerUrl': None}, {'username': 'NGRSenate', 'displayname': 'The Nigerian Senate', 'id': 3440200642, 'description': None, 'rawDescription': None, 'descriptionUrls': None, 'verified': None, 'created': None, 'followersCount': None, 'friendsCount': None, 'statusesCount': None, 'favouritesCount': None, 'listedCount': None, 'mediaCount': None, 'location': None, 'protected': None, 'linkUrl': None, 'linkTcourl': None, 'profileImageUrl': None, 'profileBannerUrl': None}, {'username': 'channelstv', 'displayname': 'Channels Television', 'id': 125346858, 'description': None, 'rawDescription': None, 'descriptionUrls': None, 'verified': None, 'created': None, 'followersCount': None, 'friendsCount': None, 'statusesCount': None, 'favouritesCount': None, 'listedCount': None, 'mediaCount': None, 'location': None, 'protected': None, 'linkUrl': None, 'linkTcourl': None, 'profileImageUrl': None, 'profileBannerUrl': None}] | <!----> | <!----> |\n",
       "\n"
      ],
      "text/plain": [
       "  X url                                                        \n",
       "1 0 https://twitter.com/bhimboh/status/1089622900494270466     \n",
       "2 1 https://twitter.com/zboyahmed03/status/1089611778298990592 \n",
       "3 2 https://twitter.com/aojohnson_me/status/1089601398461874177\n",
       "  date                     \n",
       "1 2019-01-27 20:35:18+00:00\n",
       "2 2019-01-27 19:51:06+00:00\n",
       "3 2019-01-27 19:09:51+00:00\n",
       "  content                                                                                                                                                                                                                                                                                                         \n",
       "1 Leave the DIG'S please it is the cancer on our flesh, arm robbers in police uniforms you should help us clear of the road #EndSARS https://t.co/9YjogrqRsy                                                                                                                                                      \n",
       "2 My nigga said if he feels the presence of SARS near by his head starts aching 😂😂 #criminal @MAINHeavyBrain  #EndSARS                                                                                                                                                                                          \n",
       "3 Nigerian Youths it's time to take #EndSARS campaign off Twitter into the Streets...Engage @PoliceNG Headquarters and @NGRSenate base in serious protest, go as far boycotting #2019Elections until all these tyrants in govt acknowledge the superior power of d electorates @channelstv https://t.co/bACGh47uWq\n",
       "  renderedContent                                                                                                                                                                                                                                                                                                     \n",
       "1 Leave the DIG'S please it is the cancer on our flesh, arm robbers in police uniforms you should help us clear of the road #EndSARS twitter.com/PremiumTimesng…                                                                                                                                                      \n",
       "2 My nigga said if he feels the presence of SARS near by his head starts aching 😂😂 #criminal @MAINHeavyBrain  #EndSARS                                                                                                                                                                                              \n",
       "3 Nigerian Youths it's time to take #EndSARS campaign off Twitter into the Streets...Engage @PoliceNG Headquarters and @NGRSenate base in serious protest, go as far boycotting #2019Elections until all these tyrants in govt acknowledge the superior power of d electorates @channelstv twitter.com/segalink/statu…\n",
       "  id          \n",
       "1 1.089623e+18\n",
       "2 1.089612e+18\n",
       "3 1.089601e+18\n",
       "  user                                                                                                                                                                                                                                                                                                                                                                                                                                                                                                                                                                                                                                                                                                                                                                                                                                                                                                                                                                                                                                                                      \n",
       "1 {'username': 'bhimboh', 'displayname': 'Omo Iya Ibeji Meji', 'id': 126135174, 'description': 'your plug for coupling and installation of trendy window blinds. #LFC fan of the highest order, mad lover of soccer.', 'rawDescription': 'your plug for coupling and installation of trendy window blinds. #LFC fan of the highest order, mad lover of soccer.', 'descriptionUrls': [], 'verified': False, 'created': datetime.datetime(2010, 3, 24, 23, 14, 16, tzinfo=datetime.timezone.utc), 'followersCount': 1114, 'friendsCount': 2004, 'statusesCount': 32982, 'favouritesCount': 11436, 'listedCount': 8, 'mediaCount': 265, 'location': 'Ibadan, Lagos Nigeria', 'protected': False, 'linkUrl': None, 'linkTcourl': None, 'profileImageUrl': 'https://pbs.twimg.com/profile_images/1348957414914195456/dhaU3PPH_normal.jpg', 'profileBannerUrl': 'https://pbs.twimg.com/profile_banners/126135174/1547229121'}                                                                                                                                                     \n",
       "2 {'username': 'zboyahmed03', 'displayname': '💯 Gods Very Own', 'id': 826317779989049346, 'description': 'I’m not gna follow you chase clout.  I’m too busy chasing money. Clout won’t put food on my table.', 'rawDescription': 'I’m not gna follow you chase clout.  I’m too busy chasing money. Clout won’t put food on my table.', 'descriptionUrls': [], 'verified': False, 'created': datetime.datetime(2017, 1, 31, 6, 34, 45, tzinfo=datetime.timezone.utc), 'followersCount': 576, 'friendsCount': 557, 'statusesCount': 4967, 'favouritesCount': 13024, 'listedCount': 0, 'mediaCount': 220, 'location': 'Federal Capital Territory, Nig', 'protected': False, 'linkUrl': 'http://www.instagram.com/zboy_ahmed/', 'linkTcourl': 'https://t.co/TurPMjMUUH', 'profileImageUrl': 'https://pbs.twimg.com/profile_images/1376950324112547841/nN7svyu4_normal.jpg', 'profileBannerUrl': 'https://pbs.twimg.com/profile_banners/826317779989049346/1591567847'}                                                                                                         \n",
       "3 {'username': 'aojohnson_me', 'displayname': 'Akinola O. Johnson -A.O.J™ (FIMC, CMC, ASCE, PMI)', 'id': 425879478, 'description': '| Vice President @intelsoftsyste1 | Project Consultant | Humanitarian Support | Blue-Sky-Thinker | Finance Engineering Analyst | Maritime Support | #AoJ |', 'rawDescription': '| Vice President @intelsoftsyste1 | Project Consultant | Humanitarian Support | Blue-Sky-Thinker | Finance Engineering Analyst | Maritime Support | #AoJ |', 'descriptionUrls': [], 'verified': False, 'created': datetime.datetime(2011, 12, 1, 15, 10, 23, tzinfo=datetime.timezone.utc), 'followersCount': 679, 'friendsCount': 1077, 'statusesCount': 1060, 'favouritesCount': 1934, 'listedCount': 0, 'mediaCount': 50, 'location': 'Lagos, Nigeria', 'protected': False, 'linkUrl': 'http://www.aoj-foundation.org', 'linkTcourl': 'https://t.co/VBg04Sf9kz', 'profileImageUrl': 'https://pbs.twimg.com/profile_images/1192505807100882944/PLDcCDMP_normal.jpg', 'profileBannerUrl': 'https://pbs.twimg.com/profile_banners/425879478/1581967618'}\n",
       "  outlinks                                                         \n",
       "1 ['https://twitter.com/PremiumTimesng/status/1089596535103471619']\n",
       "2 []                                                               \n",
       "3 ['https://twitter.com/segalink/status/1089579035733225472']      \n",
       "  tcooutlinks                 replyCount ⋯ lang\n",
       "1 ['https://t.co/9YjogrqRsy'] 0          ⋯ en  \n",
       "2 []                          0          ⋯ en  \n",
       "3 ['https://t.co/bACGh47uWq'] 0          ⋯ en  \n",
       "  source                                                                              \n",
       "1 <a href=\"http://twitter.com/download/android\" rel=\"nofollow\">Twitter for Android</a>\n",
       "2 <a href=\"http://twitter.com/download/android\" rel=\"nofollow\">Twitter for Android</a>\n",
       "3 <a href=\"http://twitter.com/download/android\" rel=\"nofollow\">Twitter for Android</a>\n",
       "  sourceUrl                           sourceLabel         media retweetedTweet\n",
       "1 http://twitter.com/download/android Twitter for Android       NA            \n",
       "2 http://twitter.com/download/android Twitter for Android       NA            \n",
       "3 http://twitter.com/download/android Twitter for Android       NA            \n",
       "  quotedTweet                                                                                                                                                                                                                                                                                                                                                                                                                                                                                                                                                                                                                                                                                                                                                                                                                                                                                                                                                                                                                                                                                                                                                                                                                                                                                                                                                                                                                                                                                                                                                                                                                                                                                                                                                                                                                                                                                                                                                                                                                                                                                                                                                                                                                                                                                                                                                                                                                                                                                                                                                                                                                                                                                  \n",
       "1 {'url': 'https://twitter.com/PremiumTimesng/status/1089596535103471619', 'date': datetime.datetime(2019, 1, 27, 18, 50, 32, tzinfo=datetime.timezone.utc), 'content': 'BREAKING: IGP Adamu retires all DIGs – Sources https://t.co/J3azr2TzwQ', 'renderedContent': 'BREAKING: IGP Adamu retires all DIGs – Sources goo.gl/z3dEuU', 'id': 1089596535103471619, 'user': {'username': 'PremiumTimesng', 'displayname': 'Premium Times', 'id': 373978904, 'description': 'A multimedia Nigerian publication based in Abuja delivering fresh, factual & reliable news', 'rawDescription': 'A multimedia Nigerian publication based in Abuja delivering fresh, factual & reliable news', 'descriptionUrls': [], 'verified': True, 'created': datetime.datetime(2011, 9, 15, 14, 8, 13, tzinfo=datetime.timezone.utc), 'followersCount': 1660827, 'friendsCount': 319, 'statusesCount': 298164, 'favouritesCount': 961, 'listedCount': 1191, 'mediaCount': 14224, 'location': 'Abuja, Nigeria', 'protected': False, 'linkUrl': 'http://www.premiumtimesng.com', 'linkTcourl': 'http://t.co/u2eUV6yuAw', 'profileImageUrl': 'https://pbs.twimg.com/profile_images/913362770019651585/IcX8YFB1_normal.jpg', 'profileBannerUrl': 'https://pbs.twimg.com/profile_banners/373978904/1398963112'}, 'outlinks': ['https://goo.gl/z3dEuU'], 'tcooutlinks': ['https://t.co/J3azr2TzwQ'], 'replyCount': 40, 'retweetCount': 341, 'likeCount': 326, 'quoteCount': 83, 'conversationId': 1089596535103471619, 'lang': 'en', 'source': '<a href=\"http://www.premiumtimesng.com\" rel=\"nofollow\">Premium Times Main</a>', 'sourceUrl': 'http://www.premiumtimesng.com', 'sourceLabel': 'Premium Times Main', 'media': None, 'retweetedTweet': None, 'quotedTweet': None, 'mentionedUsers': None, 'coordinates': None, 'place': None}                                                                                                                                                                                                                                                                                                                                                                                                                                                                                                                                                                                                                                                                                                                                                                                                                                                                               \n",
       "2                                                                                                                                                                                                                                                                                                                                                                                                                                                                                                                                                                                                                                                                                                                                                                                                                                                                                                                                                                                                                                                                                                                                                                                                                                                                                                                                                                                                                                                                                                                                                                                                                                                                                                                                                                                                                                                                                                                                                                                                                                                                                                                                                                                                                                                                                                                                                                                                                                                                                                                                                                                                                                                                                              \n",
       "3 {'url': 'https://twitter.com/segalink/status/1089579035733225472', 'date': datetime.datetime(2019, 1, 27, 17, 41, tzinfo=datetime.timezone.utc), 'content': 'This is crazy. @PoliceNG I believe you can see the torrential crimes of SARS springing up from the pronouncement of the New IGP? #EndSARS #ReformPoliceNG https://t.co/n1wuwdh1Km', 'renderedContent': 'This is crazy. @PoliceNG I believe you can see the torrential crimes of SARS springing up from the pronouncement of the New IGP? #EndSARS #ReformPoliceNG twitter.com/Akin2018_/stat…', 'id': 1089579035733225472, 'user': {'username': 'segalink', 'displayname': \"SEGA L'éveilleur®🚨\", 'id': 14879097, 'description': 'Life, Leadership & Legacy encapsulated in Love. ‘Segun Awosanya® CEO @AliensmediaComm Founder @SIAF_ng Convener #EndSARS #BM @IPSPRorg #RP #Bitcoin', 'rawDescription': 'Life, Leadership & Legacy encapsulated in Love. ‘Segun Awosanya® CEO @AliensmediaComm Founder @SIAF_ng Convener #EndSARS #BM @IPSPRorg #RP #Bitcoin', 'descriptionUrls': [], 'verified': False, 'created': datetime.datetime(2008, 5, 23, 8, 3, 32, tzinfo=datetime.timezone.utc), 'followersCount': 789568, 'friendsCount': 28826, 'statusesCount': 404887, 'favouritesCount': 345528, 'listedCount': 723, 'mediaCount': 15164, 'location': 'SEGATRON HQ LOS ABV NGR UAE FR', 'protected': False, 'linkUrl': 'http://www.segalink.com/p/about.html?m=0', 'linkTcourl': 'https://t.co/0ftE4eEpPO', 'profileImageUrl': 'https://pbs.twimg.com/profile_images/1209488185144811523/5ESaogp2_normal.jpg', 'profileBannerUrl': 'https://pbs.twimg.com/profile_banners/14879097/1602125660'}, 'outlinks': ['https://twitter.com/Akin2018_/status/1089577932404781057'], 'tcooutlinks': ['https://t.co/n1wuwdh1Km'], 'replyCount': 14, 'retweetCount': 302, 'likeCount': 177, 'quoteCount': 6, 'conversationId': 1089579035733225472, 'lang': 'en', 'source': '<a href=\"http://twitter.com/#!/download/ipad\" rel=\"nofollow\">Twitter for iPad</a>', 'sourceUrl': 'http://twitter.com/#!/download/ipad', 'sourceLabel': 'Twitter for iPad', 'media': None, 'retweetedTweet': None, 'quotedTweet': None, 'mentionedUsers': [{'username': 'PoliceNG', 'displayname': 'Nigeria Police Force', 'id': 470130723, 'description': None, 'rawDescription': None, 'descriptionUrls': None, 'verified': None, 'created': None, 'followersCount': None, 'friendsCount': None, 'statusesCount': None, 'favouritesCount': None, 'listedCount': None, 'mediaCount': None, 'location': None, 'protected': None, 'linkUrl': None, 'linkTcourl': None, 'profileImageUrl': None, 'profileBannerUrl': None}], 'coordinates': None, 'place': None}\n",
       "  mentionedUsers                                                                                                                                                                                                                                                                                                                                                                                                                                                                                                                                                                                                                                                                                                                                                                                                                                                                                                                                                                                                                                                                                                                                                                                                                                                                                                                                                                                 \n",
       "1                                                                                                                                                                                                                                                                                                                                                                                                                                                                                                                                                                                                                                                                                                                                                                                                                                                                                                                                                                                                                                                                                                                                                                                                                                                                                                                                                                                                \n",
       "2 [{'username': 'MAINHeavyBrain', 'displayname': 'Heavy Brain', 'id': 885829634985742337, 'description': None, 'rawDescription': None, 'descriptionUrls': None, 'verified': None, 'created': None, 'followersCount': None, 'friendsCount': None, 'statusesCount': None, 'favouritesCount': None, 'listedCount': None, 'mediaCount': None, 'location': None, 'protected': None, 'linkUrl': None, 'linkTcourl': None, 'profileImageUrl': None, 'profileBannerUrl': None}]                                                                                                                                                                                                                                                                                                                                                                                                                                                                                                                                                                                                                                                                                                                                                                                                                                                                                                                          \n",
       "3 [{'username': 'PoliceNG', 'displayname': 'Nigeria Police Force', 'id': 470130723, 'description': None, 'rawDescription': None, 'descriptionUrls': None, 'verified': None, 'created': None, 'followersCount': None, 'friendsCount': None, 'statusesCount': None, 'favouritesCount': None, 'listedCount': None, 'mediaCount': None, 'location': None, 'protected': None, 'linkUrl': None, 'linkTcourl': None, 'profileImageUrl': None, 'profileBannerUrl': None}, {'username': 'NGRSenate', 'displayname': 'The Nigerian Senate', 'id': 3440200642, 'description': None, 'rawDescription': None, 'descriptionUrls': None, 'verified': None, 'created': None, 'followersCount': None, 'friendsCount': None, 'statusesCount': None, 'favouritesCount': None, 'listedCount': None, 'mediaCount': None, 'location': None, 'protected': None, 'linkUrl': None, 'linkTcourl': None, 'profileImageUrl': None, 'profileBannerUrl': None}, {'username': 'channelstv', 'displayname': 'Channels Television', 'id': 125346858, 'description': None, 'rawDescription': None, 'descriptionUrls': None, 'verified': None, 'created': None, 'followersCount': None, 'friendsCount': None, 'statusesCount': None, 'favouritesCount': None, 'listedCount': None, 'mediaCount': None, 'location': None, 'protected': None, 'linkUrl': None, 'linkTcourl': None, 'profileImageUrl': None, 'profileBannerUrl': None}]\n",
       "  coordinates place\n",
       "1                  \n",
       "2                  \n",
       "3                  "
      ]
     },
     "metadata": {},
     "output_type": "display_data"
    }
   ],
   "source": [
    "\n",
    "endsars2019 <- read.csv(\"endsars_2019.csv\")\n",
    "\n",
    "head(endsars2019,3)\n"
   ]
  },
  {
   "cell_type": "code",
   "execution_count": null,
   "metadata": {
    "id": "uUlQ5NIs45kr"
   },
   "outputs": [],
   "source": []
  },
  {
   "cell_type": "markdown",
   "metadata": {
    "id": "-G5IZF0y47G7"
   },
   "source": [
    "# Text Cleaning"
   ]
  },
  {
   "cell_type": "code",
   "execution_count": 3,
   "metadata": {
    "colab": {
     "base_uri": "https://localhost:8080/"
    },
    "executionInfo": {
     "elapsed": 20,
     "status": "ok",
     "timestamp": 1638365699191,
     "user": {
      "displayName": "Folayan Tobi",
      "photoUrl": "https://lh3.googleusercontent.com/a/default-user=s64",
      "userId": "05490346036011816188"
     },
     "user_tz": -60
    },
    "id": "vHRlgQrS96qh",
    "outputId": "9b81273d-561a-4161-c8c4-a3f8e560c24f"
   },
   "outputs": [
    {
     "name": "stderr",
     "output_type": "stream",
     "text": [
      "Warning message in tm_map.SimpleCorpus(corpus2019, PlainTextDocument):\n",
      "“transformation drops documents”\n",
      "Warning message in tm_map.SimpleCorpus(corpus2019, tolower):\n",
      "“transformation drops documents”\n",
      "Warning message in tm_map.SimpleCorpus(corpus2019, removePunctuation):\n",
      "“transformation drops documents”\n",
      "Warning message in tm_map.SimpleCorpus(corpus2019, removeNumbers):\n",
      "“transformation drops documents”\n",
      "Warning message in tm_map.SimpleCorpus(corpus2019, removeWords, stopwords(\"english\")):\n",
      "“transformation drops documents”\n",
      "Warning message in tm_map.SimpleCorpus(cleanset2019, stemDocument):\n",
      "“transformation drops documents”\n",
      "Warning message in tm_map.SimpleCorpus(cleanset2019, content_transformer(removeURL2019)):\n",
      "“transformation drops documents”\n",
      "Warning message in tm_map.SimpleCorpus(cleanset2019, removeWords, c(\"rt\")):\n",
      "“transformation drops documents”\n"
     ]
    },
    {
     "name": "stdout",
     "output_type": "stream",
     "text": [
      "<<SimpleCorpus>>\n",
      "Metadata:  corpus specific: 1, document level (indexed): 0\n",
      "Content:  documents: 5\n",
      "\n",
      "[1] leav dig pleas cancer flesh arm robber polic uniform help us clear road endsar                                                                                   \n",
      "[2] nigga said feel presenc sar near head start ach 😂😂 crimin endsar                                                                                               \n",
      "[3] nigerian youth time take endsar campaign twitter streetsengag headquart base serious protest go far boycot elect tyrant govt acknowledg superior power d elector \n",
      "[4] keep say umpteenth time forc worst world wild anim better didnt know endsar mani fight                                                                           \n",
      "[5] pls dont reloc mum alon time oooo can extra luggag away tyrantbuhari                                                                                             \n"
     ]
    }
   ],
   "source": [
    "#working on endsars2019\n",
    "corpus2019<- iconv(endsars2019$content)\n",
    "#remove retweets\n",
    "corpus2019<- gsub(\"(RT|via)((?:\\\\b\\\\w*@\\\\w+)+)\",\" \",corpus2019)\n",
    "#remove people\n",
    "corpus2019<- gsub(\"@\\\\w+\",\" \",corpus2019)\n",
    "corpus2019<- gsub(\"\\n.*\",\" \",corpus2019)\n",
    "\n",
    "######creating a corpus###############\n",
    "corpus2019<- Corpus(VectorSource(corpus2019))\n",
    "corpus2019<- tm_map(corpus2019,PlainTextDocument)\n",
    "# inspect(corpus2019[1:5])\n",
    "################cleaning text#####################\n",
    "corpus2019<-tm_map(corpus2019,tolower)\n",
    "#inspect(corpus2019[1:5])\n",
    "corpus2019<-tm_map(corpus2019,removePunctuation)\n",
    "corpus2019<-tm_map(corpus2019,removeNumbers)\n",
    "\n",
    "cleanset2019<- tm_map(corpus2019, removeWords,stopwords('english'))\n",
    "cleanset2019<- tm_map(cleanset2019,stemDocument)\n",
    "#inspect(cleanset2019[1:5])\n",
    "removeURL2019 <- function(x) gsub('http[[:alnum:]]*','',x)\n",
    "cleanset2019<- tm_map(cleanset2019,content_transformer(removeURL2019))\n",
    "cleanset2019<- tm_map(cleanset2019,removeWords,c('rt'))\n",
    "#cleanset<- tm_map(cleanset, gsub,\n",
    " #                 pattern ='…',\n",
    "  #                replace = '')\n",
    "inspect(cleanset2019[1:5])"
   ]
  },
  {
   "cell_type": "code",
   "execution_count": 14,
   "metadata": {
    "executionInfo": {
     "elapsed": 14779,
     "status": "ok",
     "timestamp": 1638366263107,
     "user": {
      "displayName": "Folayan Tobi",
      "photoUrl": "https://lh3.googleusercontent.com/a/default-user=s64",
      "userId": "05490346036011816188"
     },
     "user_tz": -60
    },
    "id": "xuNMD4uB-WsF"
   },
   "outputs": [],
   "source": [
    "###########Term document matrix##########\n",
    "tdm2019<- TermDocumentMatrix(cleanset2019)\n",
    "# tdm2019\n",
    "tdm2019<- as.matrix(tdm2019)\n",
    "# tdm2019<- as.matrix(tdm2019)\n",
    "\n",
    "freq2019<-rowSums(tdm2019)\n",
    "# freq2019\n",
    "\n",
    "freq2019<-subset(freq2019,freq2019>=20)"
   ]
  },
  {
   "cell_type": "code",
   "execution_count": 12,
   "metadata": {
    "executionInfo": {
     "elapsed": 10,
     "status": "ok",
     "timestamp": 1638366173891,
     "user": {
      "displayName": "Folayan Tobi",
      "photoUrl": "https://lh3.googleusercontent.com/a/default-user=s64",
      "userId": "05490346036011816188"
     },
     "user_tz": -60
    },
    "id": "EayOcioyOA0D"
   },
   "outputs": [],
   "source": [
    "# freq2019"
   ]
  },
  {
   "cell_type": "markdown",
   "metadata": {
    "id": "pZuA0TIS4tbG"
   },
   "source": [
    "# Frequent Word Count"
   ]
  },
  {
   "cell_type": "code",
   "execution_count": 15,
   "metadata": {
    "colab": {
     "base_uri": "https://localhost:8080/",
     "height": 34
    },
    "executionInfo": {
     "elapsed": 12,
     "status": "ok",
     "timestamp": 1638366264630,
     "user": {
      "displayName": "Folayan Tobi",
      "photoUrl": "https://lh3.googleusercontent.com/a/default-user=s64",
      "userId": "05490346036011816188"
     },
     "user_tz": -60
    },
    "id": "fk6zeHiXsex8",
    "outputId": "a1306c68-e185-4cd9-c654-9dffa309a42c"
   },
   "outputs": [
    {
     "data": {
      "text/html": [
       "<strong>png:</strong> 2"
      ],
      "text/latex": [
       "\\textbf{png:} 2"
      ],
      "text/markdown": [
       "**png:** 2"
      ],
      "text/plain": [
       "png \n",
       "  2 "
      ]
     },
     "metadata": {},
     "output_type": "display_data"
    }
   ],
   "source": [
    "#########Bar plot########\n",
    "\n",
    "\n",
    "png(\"word_count2019.png\", width = 700, height = 350)\n",
    "\n",
    "barplot(freq2019,\n",
    "        las = 2,\n",
    "        col = rainbow(30), ylab = 'tweet frequency')\n",
    "\n",
    "dev.off()"
   ]
  },
  {
   "cell_type": "code",
   "execution_count": null,
   "metadata": {
    "id": "6iEJ0t7l4Ut1"
   },
   "outputs": [],
   "source": []
  },
  {
   "cell_type": "markdown",
   "metadata": {
    "id": "wKPYsDSz4VjP"
   },
   "source": [
    "# Sentiment Score"
   ]
  },
  {
   "cell_type": "code",
   "execution_count": 16,
   "metadata": {
    "colab": {
     "base_uri": "https://localhost:8080/",
     "height": 782
    },
    "executionInfo": {
     "elapsed": 13723,
     "status": "ok",
     "timestamp": 1638366376236,
     "user": {
      "displayName": "Folayan Tobi",
      "photoUrl": "https://lh3.googleusercontent.com/a/default-user=s64",
      "userId": "05490346036011816188"
     },
     "user_tz": -60
    },
    "id": "xe0bFHq0-kSy",
    "outputId": "948b1b8b-3e29-40fe-d313-2ec25d013f04"
   },
   "outputs": [
    {
     "name": "stderr",
     "output_type": "stream",
     "text": [
      "Installing package into ‘/usr/local/lib/R/site-library’\n",
      "(as ‘lib’ is unspecified)\n",
      "\n",
      "also installing the dependency ‘htmlwidgets’\n",
      "\n",
      "\n",
      "\n",
      "Attaching package: ‘syuzhet’\n",
      "\n",
      "\n",
      "The following object is masked from ‘package:rtweet’:\n",
      "\n",
      "    get_tokens\n",
      "\n",
      "\n",
      "Warning message in system(\"timedatectl\", intern = TRUE):\n",
      "“running command 'timedatectl' had status 1”\n",
      "\n",
      "Attaching package: ‘lubridate’\n",
      "\n",
      "\n",
      "The following objects are masked from ‘package:base’:\n",
      "\n",
      "    date, intersect, setdiff, union\n",
      "\n",
      "\n",
      "\n",
      "Attaching package: ‘scales’\n",
      "\n",
      "\n",
      "The following object is masked from ‘package:syuzhet’:\n",
      "\n",
      "    rescale\n",
      "\n",
      "\n",
      "\n",
      "Attaching package: ‘reshape2’\n",
      "\n",
      "\n",
      "The following object is masked from ‘package:tidyr’:\n",
      "\n",
      "    smiths\n",
      "\n",
      "\n"
     ]
    },
    {
     "data": {
      "text/html": [
       "<strong>png:</strong> 2"
      ],
      "text/latex": [
       "\\textbf{png:} 2"
      ],
      "text/markdown": [
       "**png:** 2"
      ],
      "text/plain": [
       "png \n",
       "  2 "
      ]
     },
     "metadata": {},
     "output_type": "display_data"
    }
   ],
   "source": [
    "\n",
    "install.packages('wordcloud2')\n",
    "library(wordcloud2)\n",
    "library(syuzhet)\n",
    "library(lubridate)\n",
    "library(scales)\n",
    "library(reshape2)\n",
    "tweets2019 <- iconv(endsars2019$content)\n",
    "sent2019 <- get_nrc_sentiment(tweets2019)\n",
    "\n",
    "\n",
    "#########Bar plot########\n",
    "\n",
    "\n",
    "png(\"sent_score2019.png\", width = 650, height = 350)\n",
    "\n",
    "barplot(colSums(sent2019),\n",
    "        las = 2,\n",
    "        col = rainbow(20),\n",
    "        ylab = 'Count',\n",
    "        main = 'ENDSARS SENTIMENT SCORES FOR 2019')\n",
    "\n",
    "dev.off()"
   ]
  },
  {
   "cell_type": "code",
   "execution_count": null,
   "metadata": {
    "id": "g5yLEKXc4Bji"
   },
   "outputs": [],
   "source": []
  },
  {
   "cell_type": "markdown",
   "metadata": {
    "id": "BKO6S7Ui4HAo"
   },
   "source": [
    "# Word Cloud"
   ]
  },
  {
   "cell_type": "code",
   "execution_count": 20,
   "metadata": {
    "colab": {
     "base_uri": "https://localhost:8080/"
    },
    "executionInfo": {
     "elapsed": 21127,
     "status": "ok",
     "timestamp": 1638366744999,
     "user": {
      "displayName": "Folayan Tobi",
      "photoUrl": "https://lh3.googleusercontent.com/a/default-user=s64",
      "userId": "05490346036011816188"
     },
     "user_tz": -60
    },
    "id": "O3H-YmyOImjT",
    "outputId": "2b3b7163-307f-420c-c789-69203b835778"
   },
   "outputs": [
    {
     "name": "stderr",
     "output_type": "stream",
     "text": [
      "Installing package into ‘/usr/local/lib/R/site-library’\n",
      "(as ‘lib’ is unspecified)\n",
      "\n",
      "Installing package into ‘/usr/local/lib/R/site-library’\n",
      "(as ‘lib’ is unspecified)\n",
      "\n",
      "It seems that the version of `phantomjs` installed is greater than or equal to the requested version.To install the requested version or downgrade to another version, use `force = TRUE`.\n",
      "\n"
     ]
    }
   ],
   "source": [
    "install.packages('webshot')\n",
    "install.packages(\"htmlwidgets\")\n",
    "library(webshot)\n",
    "webshot::install_phantomjs()\n",
    "\n",
    "\n",
    "w2019 <- sort(rowSums(tdm2019), decreasing = TRUE)\n",
    "# head(w2019)\n",
    "\n",
    "w2019 <- data.frame(names(w2019), w2019)\n",
    "w2019 <- filter(w2019, w2019 >= 10)\n",
    "# head(w2019)\n",
    "\n",
    "colnames(w2019) <- c('word','freq')\n",
    "# head(w2019)\n",
    "\n",
    "cloud19 <- wordcloud2(w2019, shape='circle',size = 2.0,color='random-dark',backgroundColor = \"black\")\n",
    "\n",
    "library(htmlwidgets)\n",
    "saveWidget(cloud19,\"tmp.html\", selfcontained=F)\n",
    "\n",
    "webshot(\"tmp.html\" , \"cloud19.png\", delay=5, vwidth=480, vheight=480)"
   ]
  },
  {
   "cell_type": "code",
   "execution_count": null,
   "metadata": {
    "id": "RE_hwtw4YXkB"
   },
   "outputs": [],
   "source": []
  }
 ],
 "metadata": {
  "colab": {
   "authorship_tag": "ABX9TyPaoD/uiDvRu4Yn0C34QYxG",
   "collapsed_sections": [],
   "name": "EDA_R_2019.ipynb",
   "provenance": [
    {
     "file_id": "1lZVy9oL8UNuqqrIvZNlxKe20id2mh-9Q",
     "timestamp": 1638362043681
    }
   ]
  },
  "kernelspec": {
   "display_name": "R",
   "language": "R",
   "name": "ir"
  },
  "language_info": {
   "name": "R"
  }
 },
 "nbformat": 4,
 "nbformat_minor": 1
}

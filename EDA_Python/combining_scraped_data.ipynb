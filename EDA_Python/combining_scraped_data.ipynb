{
 "cells": [
  {
   "cell_type": "code",
   "execution_count": 1,
   "metadata": {},
   "outputs": [],
   "source": [
    "import numpy as np\n",
    "import pandas as pd\n",
    "import matplotlib.pyplot as plt\n",
    "import seaborn as sns\n",
    "import warnings\n",
    "\n",
    "%matplotlib inline\n",
    "warnings.filterwarnings('ignore')"
   ]
  },
  {
   "cell_type": "code",
   "execution_count": 2,
   "metadata": {},
   "outputs": [
    {
     "name": "stdout",
     "output_type": "stream",
     "text": [
      "endsars2017:  50244 \n",
      "endsars2018:  67900 \n",
      "endsars2019:  47968 \n",
      "endsars2020:  192222 \n",
      "endsars2021:  367122\n"
     ]
    }
   ],
   "source": [
    "endsars2017 = pd.read_csv('endsars_2017.csv')\n",
    " \n",
    "endsars2018 = pd.read_csv('endsars_2018.csv')\n",
    "\n",
    "endsars2019 = pd.read_csv('endsars_2019.csv')\n",
    "\n",
    "endsars2020 = pd.read_csv('endsars_2020.csv')\n",
    "\n",
    "endsars2021 = pd.read_csv('endsars_2021.csv')\n",
    "print('endsars2017: ',len(endsars2017),\n",
    "     '\\nendsars2018: ',len(endsars2018),\n",
    "     '\\nendsars2019: ',len(endsars2019),\n",
    "     '\\nendsars2020: ',len(endsars2020),\n",
    "     '\\nendsars2021: ',len(endsars2021))"
   ]
  },
  {
   "cell_type": "code",
   "execution_count": 3,
   "metadata": {},
   "outputs": [],
   "source": [
    "data = pd.concat([endsars2017, endsars2018, endsars2019, endsars2020, endsars2021], axis=0, ignore_index=True)\n",
    "\n",
    "data.to_csv('combined_scraped_data.csv', index=False)"
   ]
  },
  {
   "cell_type": "code",
   "execution_count": null,
   "metadata": {},
   "outputs": [],
   "source": []
  }
 ],
 "metadata": {
  "kernelspec": {
   "display_name": "Python 3",
   "language": "python",
   "name": "python3"
  },
  "language_info": {
   "codemirror_mode": {
    "name": "ipython",
    "version": 3
   },
   "file_extension": ".py",
   "mimetype": "text/x-python",
   "name": "python",
   "nbconvert_exporter": "python",
   "pygments_lexer": "ipython3",
   "version": "3.8.5"
  }
 },
 "nbformat": 4,
 "nbformat_minor": 4
}

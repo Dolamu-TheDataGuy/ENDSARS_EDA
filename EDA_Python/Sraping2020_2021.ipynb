{
 "cells": [
  {
   "cell_type": "code",
   "execution_count": null,
   "metadata": {
    "colab": {
     "base_uri": "https://localhost:8080/"
    },
    "executionInfo": {
     "elapsed": 4620,
     "status": "ok",
     "timestamp": 1635303250079,
     "user": {
      "displayName": "Folayan Tobi",
      "photoUrl": "https://lh3.googleusercontent.com/a/default-user=s64",
      "userId": "05490346036011816188"
     },
     "user_tz": -60
    },
    "id": "ZRmeeWmYMNVy",
    "outputId": "19b78318-6587-4b37-e98c-85d62b713e4a"
   },
   "outputs": [
    {
     "name": "stdout",
     "output_type": "stream",
     "text": [
      "Collecting snscrape\n",
      "  Downloading snscrape-0.3.4-py3-none-any.whl (35 kB)\n",
      "Requirement already satisfied: lxml in /usr/local/lib/python3.7/dist-packages (from snscrape) (4.2.6)\n",
      "Requirement already satisfied: beautifulsoup4 in /usr/local/lib/python3.7/dist-packages (from snscrape) (4.6.3)\n",
      "Requirement already satisfied: requests[socks] in /usr/local/lib/python3.7/dist-packages (from snscrape) (2.23.0)\n",
      "Requirement already satisfied: certifi>=2017.4.17 in /usr/local/lib/python3.7/dist-packages (from requests[socks]->snscrape) (2021.5.30)\n",
      "Requirement already satisfied: urllib3!=1.25.0,!=1.25.1,<1.26,>=1.21.1 in /usr/local/lib/python3.7/dist-packages (from requests[socks]->snscrape) (1.24.3)\n",
      "Requirement already satisfied: chardet<4,>=3.0.2 in /usr/local/lib/python3.7/dist-packages (from requests[socks]->snscrape) (3.0.4)\n",
      "Requirement already satisfied: idna<3,>=2.5 in /usr/local/lib/python3.7/dist-packages (from requests[socks]->snscrape) (2.10)\n",
      "Requirement already satisfied: PySocks!=1.5.7,>=1.5.6 in /usr/local/lib/python3.7/dist-packages (from requests[socks]->snscrape) (1.7.1)\n",
      "Installing collected packages: snscrape\n",
      "Successfully installed snscrape-0.3.4\n"
     ]
    }
   ],
   "source": [
    "pip install snscrape"
   ]
  },
  {
   "cell_type": "code",
   "execution_count": null,
   "metadata": {
    "id": "yt3zwAwbK3-8"
   },
   "outputs": [],
   "source": [
    "from google.colab import drive\n",
    "drive.mount('/content/drive')"
   ]
  },
  {
   "cell_type": "code",
   "execution_count": null,
   "metadata": {
    "id": "9OAKFoJjVea2"
   },
   "outputs": [],
   "source": [
    "import pandas as pd\n",
    "import snscrape.modules.twitter as sntwitter\n",
    "import itertools"
   ]
  },
  {
   "cell_type": "code",
   "execution_count": null,
   "metadata": {
    "colab": {
     "base_uri": "https://localhost:8080/"
    },
    "executionInfo": {
     "elapsed": 241076,
     "status": "ok",
     "timestamp": 1635306806408,
     "user": {
      "displayName": "Folayan Tobi",
      "photoUrl": "https://lh3.googleusercontent.com/a/default-user=s64",
      "userId": "05490346036011816188"
     },
     "user_tz": -60
    },
    "id": "4Y_M5zPnDBxo",
    "outputId": "97a04315-9b8e-44b5-f69e-28624f5905f2"
   },
   "outputs": [
    {
     "data": {
      "text/plain": [
       "192222"
      ]
     },
     "execution_count": 4,
     "metadata": {},
     "output_type": "execute_result"
    }
   ],
   "source": [
    "Jan2020 = pd.DataFrame(itertools.islice(sntwitter.TwitterSearchScraper(\n",
    "    'ENDSARS since:\"2020-01-01\" until:2020-01-28').get_items(), 50000))\n",
    "\n",
    "Feb2020 = pd.DataFrame(itertools.islice(sntwitter.TwitterSearchScraper(\n",
    "    'ENDSARS since:\"2020-02-01\" until:2020-02-28').get_items(), 50000))\n",
    "\n",
    "Mar2020 = pd.DataFrame(itertools.islice(sntwitter.TwitterSearchScraper(\n",
    "    'ENDSARS since:\"2020-03-01\" until:2020-03-28').get_items(), 50000))\n",
    "\n",
    "Apr2020 = pd.DataFrame(itertools.islice(sntwitter.TwitterSearchScraper(\n",
    "    'ENDSARS since:\"2020-04-01\" until:2020-04-28').get_items(), 50000))\n",
    "\n",
    "May2020 = pd.DataFrame(itertools.islice(sntwitter.TwitterSearchScraper(\n",
    "    'ENDSARS since:\"2020-05-01\" until:2020-05-28').get_items(), 50000))\n",
    "\n",
    "Jun2020 = pd.DataFrame(itertools.islice(sntwitter.TwitterSearchScraper(\n",
    "    'ENDSARS since:\"2020-06-01\" until:2020-06-28').get_items(), 50000))\n",
    "\n",
    "Jul2020 = pd.DataFrame(itertools.islice(sntwitter.TwitterSearchScraper(\n",
    "    'ENDSARS since:\"2020-07-01\" until:2020-07-28').get_items(), 50000))\n",
    "\n",
    "Aug2020 = pd.DataFrame(itertools.islice(sntwitter.TwitterSearchScraper(\n",
    "    'ENDSARS since:\"2020-08-01\" until:2020-08-28').get_items(), 50000))\n",
    "\n",
    "Sep2020 = pd.DataFrame(itertools.islice(sntwitter.TwitterSearchScraper(\n",
    "    'ENDSARS since:\"2020-09-01\" until:2020-09-28').get_items(), 50000))\n",
    "\n",
    "Oct2020 = pd.DataFrame(itertools.islice(sntwitter.TwitterSearchScraper(\n",
    "    'ENDSARS since:\"2020-10-01\" until:2020-10-28').get_items(), 50000))\n",
    "\n",
    "Nov2020 = pd.DataFrame(itertools.islice(sntwitter.TwitterSearchScraper(\n",
    "    'ENDSARS since:\"2020-11-01\" until:2020-11-28').get_items(), 50000))\n",
    "\n",
    "Dec2020 = pd.DataFrame(itertools.islice(sntwitter.TwitterSearchScraper(\n",
    "    'ENDSARS since:\"2020-12-01\" until:2020-12-28').get_items(), 50000))\n",
    "\n",
    "\n",
    "\n",
    "endsar_2020 = Jan2020.append([Feb2020, Mar2020, Apr2020, May2020, Jun2020, Jul2020, Aug2020, Sep2020, Oct2020, Nov2020,\n",
    "                             Dec2020])\n",
    "\n",
    "endsar_2020.to_csv('endsars_2020.csv')\n",
    "len(endsar_2020)"
   ]
  },
  {
   "cell_type": "code",
   "execution_count": null,
   "metadata": {
    "id": "x3qADXArD9Mm"
   },
   "outputs": [],
   "source": [
    "Jan2021 = pd.DataFrame(itertools.islice(sntwitter.TwitterSearchScraper(\n",
    "    'ENDSARS since:\"2021-01-01\" until:2021-01-28').get_items(), 50000))\n",
    "\n",
    "Feb2021 = pd.DataFrame(itertools.islice(sntwitter.TwitterSearchScraper(\n",
    "    'ENDSARS since:\"2021-02-01\" until:2021-02-28').get_items(), 50000))\n",
    "\n",
    "Mar2021 = pd.DataFrame(itertools.islice(sntwitter.TwitterSearchScraper(\n",
    "    'ENDSARS since:\"2021-03-01\" until:2021-03-28').get_items(), 50000))\n",
    "\n",
    "Apr2021 = pd.DataFrame(itertools.islice(sntwitter.TwitterSearchScraper(\n",
    "    'ENDSARS since:\"2021-04-01\" until:2021-04-28').get_items(), 50000))\n",
    "\n",
    "May2021 = pd.DataFrame(itertools.islice(sntwitter.TwitterSearchScraper(\n",
    "    'ENDSARS since:\"2021-05-01\" until:2021-05-28').get_items(), 50000))\n",
    "\n",
    "Jun2021 = pd.DataFrame(itertools.islice(sntwitter.TwitterSearchScraper(\n",
    "    'ENDSARS since:\"2021-06-01\" until:2021-06-28').get_items(), 50000))\n",
    "\n",
    "Jul2021 = pd.DataFrame(itertools.islice(sntwitter.TwitterSearchScraper(\n",
    "    'ENDSARS since:\"2021-07-01\" until:2021-07-28').get_items(), 50000))\n",
    "\n",
    "Aug2021 = pd.DataFrame(itertools.islice(sntwitter.TwitterSearchScraper(\n",
    "    'ENDSARS since:\"2021-08-01\" until:2021-08-28').get_items(), 50000))\n",
    "\n",
    "Sep2021 = pd.DataFrame(itertools.islice(sntwitter.TwitterSearchScraper(\n",
    "    'ENDSARS since:\"2021-09-01\" until:2021-09-28').get_items(), 50000))\n",
    "\n",
    "Oct2021 = pd.DataFrame(itertools.islice(sntwitter.TwitterSearchScraper(\n",
    "    'ENDSARS since:\"2021-10-01\" until:2021-10-24').get_items(), 50000))\n",
    "\n",
    "# Nov2021 = pd.DataFrame(itertools.islice(sntwitter.TwitterSearchScraper(\n",
    "#     'ENDSARS since:\"2021-11-01\" until:2021-11-28').get_items(), 50000))\n",
    "\n",
    "# Dec2021 = pd.DataFrame(itertools.islice(sntwitter.TwitterSearchScraper(\n",
    "#     'ENDSARS since:\"2021-12-01\" until:2021-12-28').get_items(), 50000))"
   ]
  },
  {
   "cell_type": "code",
   "execution_count": null,
   "metadata": {
    "colab": {
     "base_uri": "https://localhost:8080/"
    },
    "executionInfo": {
     "elapsed": 7351,
     "status": "ok",
     "timestamp": 1635314782308,
     "user": {
      "displayName": "Folayan Tobi",
      "photoUrl": "https://lh3.googleusercontent.com/a/default-user=s64",
      "userId": "05490346036011816188"
     },
     "user_tz": -60
    },
    "id": "u8QGAgTP1Rpy",
    "outputId": "eb716ca0-2d16-41f7-8993-d31e8eb045e3"
   },
   "outputs": [
    {
     "data": {
      "text/plain": [
       "367122"
      ]
     },
     "execution_count": 6,
     "metadata": {},
     "output_type": "execute_result"
    }
   ],
   "source": [
    "endsar_2021 = Jan2021.append([Feb2021, Mar2021, Apr2021, May2021, Jun2021, Jul2021, Aug2021, Sep2021, Oct2021])\n",
    "\n",
    "endsar_2021.to_csv('endsars_2021_2.csv')\n",
    "len(endsar_2021)"
   ]
  },
  {
   "cell_type": "code",
   "execution_count": null,
   "metadata": {
    "colab": {
     "base_uri": "https://localhost:8080/",
     "height": 310
    },
    "executionInfo": {
     "elapsed": 531,
     "status": "ok",
     "timestamp": 1635161270672,
     "user": {
      "displayName": "Folayan Tobi",
      "photoUrl": "https://lh3.googleusercontent.com/a/default-user=s64",
      "userId": "05490346036011816188"
     },
     "user_tz": -60
    },
    "id": "Xg3hDNbGEOLS",
    "outputId": "d334f471-39c0-450f-da77-03dc9b8ab70c"
   },
   "outputs": [
    {
     "data": {
      "text/html": [
       "<div>\n",
       "<style scoped>\n",
       "    .dataframe tbody tr th:only-of-type {\n",
       "        vertical-align: middle;\n",
       "    }\n",
       "\n",
       "    .dataframe tbody tr th {\n",
       "        vertical-align: top;\n",
       "    }\n",
       "\n",
       "    .dataframe thead th {\n",
       "        text-align: right;\n",
       "    }\n",
       "</style>\n",
       "<table border=\"1\" class=\"dataframe\">\n",
       "  <thead>\n",
       "    <tr style=\"text-align: right;\">\n",
       "      <th></th>\n",
       "      <th>url</th>\n",
       "      <th>date</th>\n",
       "      <th>content</th>\n",
       "      <th>id</th>\n",
       "      <th>username</th>\n",
       "      <th>outlinks</th>\n",
       "      <th>outlinksss</th>\n",
       "      <th>tcooutlinks</th>\n",
       "      <th>tcooutlinksss</th>\n",
       "    </tr>\n",
       "  </thead>\n",
       "  <tbody>\n",
       "    <tr>\n",
       "      <th>0</th>\n",
       "      <td>https://twitter.com/endsars___/status/82488947...</td>\n",
       "      <td>2017-01-27 07:59:10+00:00</td>\n",
       "      <td>I actually thought we'd be made of more https:...</td>\n",
       "      <td>824889472441413632</td>\n",
       "      <td>endsars___</td>\n",
       "      <td>[https://twitter.com/Fact/status/8246722668898...</td>\n",
       "      <td>https://twitter.com/Fact/status/82467226688986...</td>\n",
       "      <td>[https://t.co/H3OIlo2ISC]</td>\n",
       "      <td>https://t.co/H3OIlo2ISC</td>\n",
       "    </tr>\n",
       "    <tr>\n",
       "      <th>1</th>\n",
       "      <td>https://twitter.com/endsars___/status/82488922...</td>\n",
       "      <td>2017-01-27 07:58:11+00:00</td>\n",
       "      <td>You mean  there are more colours! What burple?...</td>\n",
       "      <td>824889225166286848</td>\n",
       "      <td>endsars___</td>\n",
       "      <td>[https://twitter.com/Fact/status/8246936448672...</td>\n",
       "      <td>https://twitter.com/Fact/status/82469364486729...</td>\n",
       "      <td>[https://t.co/3xL8FkIzQO]</td>\n",
       "      <td>https://t.co/3xL8FkIzQO</td>\n",
       "    </tr>\n",
       "    <tr>\n",
       "      <th>2</th>\n",
       "      <td>https://twitter.com/endsars___/status/82470376...</td>\n",
       "      <td>2017-01-26 19:41:14+00:00</td>\n",
       "      <td>Woah https://t.co/8AZ4I5I1Cl</td>\n",
       "      <td>824703764795908096</td>\n",
       "      <td>endsars___</td>\n",
       "      <td>[https://twitter.com/Fact/status/8246586611045...</td>\n",
       "      <td>https://twitter.com/Fact/status/82465866110455...</td>\n",
       "      <td>[https://t.co/8AZ4I5I1Cl]</td>\n",
       "      <td>https://t.co/8AZ4I5I1Cl</td>\n",
       "    </tr>\n",
       "    <tr>\n",
       "      <th>3</th>\n",
       "      <td>https://twitter.com/endsars___/status/82470204...</td>\n",
       "      <td>2017-01-26 19:34:25+00:00</td>\n",
       "      <td>Conversation\\nVerbal elation\\nStimulation\\nSit...</td>\n",
       "      <td>824702049547911169</td>\n",
       "      <td>endsars___</td>\n",
       "      <td>[]</td>\n",
       "      <td></td>\n",
       "      <td>[]</td>\n",
       "      <td></td>\n",
       "    </tr>\n",
       "    <tr>\n",
       "      <th>4</th>\n",
       "      <td>https://twitter.com/endsars___/status/82470164...</td>\n",
       "      <td>2017-01-26 19:32:49+00:00</td>\n",
       "      <td>well! C.A.T'S Began today https://t.co/UIC33IhCG2</td>\n",
       "      <td>824701645875470336</td>\n",
       "      <td>endsars___</td>\n",
       "      <td>[https://twitter.com/MofeMaks/status/824666710...</td>\n",
       "      <td>https://twitter.com/MofeMaks/status/8246667106...</td>\n",
       "      <td>[https://t.co/UIC33IhCG2]</td>\n",
       "      <td>https://t.co/UIC33IhCG2</td>\n",
       "    </tr>\n",
       "  </tbody>\n",
       "</table>\n",
       "</div>"
      ],
      "text/plain": [
       "                                                 url  ...            tcooutlinksss\n",
       "0  https://twitter.com/endsars___/status/82488947...  ...  https://t.co/H3OIlo2ISC\n",
       "1  https://twitter.com/endsars___/status/82488922...  ...  https://t.co/3xL8FkIzQO\n",
       "2  https://twitter.com/endsars___/status/82470376...  ...  https://t.co/8AZ4I5I1Cl\n",
       "3  https://twitter.com/endsars___/status/82470204...  ...                         \n",
       "4  https://twitter.com/endsars___/status/82470164...  ...  https://t.co/UIC33IhCG2\n",
       "\n",
       "[5 rows x 9 columns]"
      ]
     },
     "execution_count": 17,
     "metadata": {},
     "output_type": "execute_result"
    }
   ],
   "source": [
    "Jan2017.head()"
   ]
  },
  {
   "cell_type": "code",
   "execution_count": null,
   "metadata": {
    "id": "RyzrThG4NPnF"
   },
   "outputs": [],
   "source": []
  }
 ],
 "metadata": {
  "colab": {
   "authorship_tag": "ABX9TyPDk3JmL3clUrsvHBoFuPTS",
   "collapsed_sections": [],
   "name": "Copy of ENDSars.ipynb",
   "provenance": [
    {
     "file_id": "1A81_iPECB5qp8qwKGuatx45j_lmOtDwX",
     "timestamp": 1635942622202
    }
   ]
  },
  "kernelspec": {
   "display_name": "Python 3",
   "language": "python",
   "name": "python3"
  },
  "language_info": {
   "codemirror_mode": {
    "name": "ipython",
    "version": 3
   },
   "file_extension": ".py",
   "mimetype": "text/x-python",
   "name": "python",
   "nbconvert_exporter": "python",
   "pygments_lexer": "ipython3",
   "version": "3.8.5"
  }
 },
 "nbformat": 4,
 "nbformat_minor": 1
}
